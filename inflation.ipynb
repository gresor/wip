{
 "metadata": {
  "name": "",
  "signature": "sha256:52910b3f19ab664a1e7fea5bf26ce05f6f883ca268cbc361105d5be0b587cfc8"
 },
 "nbformat": 3,
 "nbformat_minor": 0,
 "worksheets": [
  {
   "cells": [
    {
     "cell_type": "code",
     "collapsed": false,
     "input": [
      "from economics import CPI\n",
      "import datetime\n",
      "from economics import Inflation\n",
      "import wolframalpha"
     ],
     "language": "python",
     "metadata": {},
     "outputs": [],
     "prompt_number": 1
    },
    {
     "cell_type": "code",
     "collapsed": false,
     "input": [
      "import dateutil.parser\n",
      "import numpy as np\n",
      "import pickle"
     ],
     "language": "python",
     "metadata": {},
     "outputs": [],
     "prompt_number": 2
    },
    {
     "cell_type": "code",
     "collapsed": false,
     "input": [
      "client = wolframalpha.Client('YUVUWA-L94KJ6X8GK')"
     ],
     "language": "python",
     "metadata": {},
     "outputs": [],
     "prompt_number": 3
    },
    {
     "cell_type": "code",
     "collapsed": false,
     "input": [
      "def question(q):\n",
      "    res = client.query(q)\n",
      "    answer = next(res.results).text \n",
      "    return answer"
     ],
     "language": "python",
     "metadata": {},
     "outputs": [],
     "prompt_number": 5
    },
    {
     "cell_type": "code",
     "collapsed": false,
     "input": [
      "question('x*y=1')"
     ],
     "language": "python",
     "metadata": {},
     "outputs": [
      {
       "ename": "StopIteration",
       "evalue": "",
       "output_type": "pyerr",
       "traceback": [
        "\u001b[1;31m---------------------------------------------------------------------------\u001b[0m\n\u001b[1;31mStopIteration\u001b[0m                             Traceback (most recent call last)",
        "\u001b[1;32m<ipython-input-7-6bbdca985a9c>\u001b[0m in \u001b[0;36m<module>\u001b[1;34m()\u001b[0m\n\u001b[1;32m----> 1\u001b[1;33m \u001b[0mquestion\u001b[0m\u001b[1;33m(\u001b[0m\u001b[1;34m'x*y=1'\u001b[0m\u001b[1;33m)\u001b[0m\u001b[1;33m\u001b[0m\u001b[0m\n\u001b[0m",
        "\u001b[1;32m<ipython-input-5-28dfe4c431bc>\u001b[0m in \u001b[0;36mquestion\u001b[1;34m(q)\u001b[0m\n\u001b[0;32m      1\u001b[0m \u001b[1;32mdef\u001b[0m \u001b[0mquestion\u001b[0m\u001b[1;33m(\u001b[0m\u001b[0mq\u001b[0m\u001b[1;33m)\u001b[0m\u001b[1;33m:\u001b[0m\u001b[1;33m\u001b[0m\u001b[0m\n\u001b[0;32m      2\u001b[0m     \u001b[0mres\u001b[0m \u001b[1;33m=\u001b[0m \u001b[0mclient\u001b[0m\u001b[1;33m.\u001b[0m\u001b[0mquery\u001b[0m\u001b[1;33m(\u001b[0m\u001b[0mq\u001b[0m\u001b[1;33m)\u001b[0m\u001b[1;33m\u001b[0m\u001b[0m\n\u001b[1;32m----> 3\u001b[1;33m     \u001b[0manswer\u001b[0m \u001b[1;33m=\u001b[0m \u001b[0mnext\u001b[0m\u001b[1;33m(\u001b[0m\u001b[0mres\u001b[0m\u001b[1;33m.\u001b[0m\u001b[0mresults\u001b[0m\u001b[1;33m)\u001b[0m\u001b[1;33m.\u001b[0m\u001b[0mtext\u001b[0m\u001b[1;33m\u001b[0m\u001b[0m\n\u001b[0m\u001b[0;32m      4\u001b[0m     \u001b[1;32mreturn\u001b[0m \u001b[0manswer\u001b[0m\u001b[1;33m\u001b[0m\u001b[0m\n",
        "\u001b[1;31mStopIteration\u001b[0m: "
       ]
      }
     ],
     "prompt_number": 7
    },
    {
     "cell_type": "code",
     "collapsed": false,
     "input": [
      "res = client.query('GDP of the US in 1997')"
     ],
     "language": "python",
     "metadata": {},
     "outputs": [],
     "prompt_number": 25
    },
    {
     "cell_type": "code",
     "collapsed": false,
     "input": [
      "res.pods[2]."
     ],
     "language": "python",
     "metadata": {},
     "outputs": [],
     "prompt_number": 32
    },
    {
     "cell_type": "code",
     "collapsed": false,
     "input": [
      "m = float(next(res.results).text.split('$')[1].split(' ')[0])/100.0\n",
      "# this gets a float that is the multiplyter to do the inflation adustment\n",
      "# to 2015\n",
      "print m"
     ],
     "language": "python",
     "metadata": {},
     "outputs": [
      {
       "output_type": "stream",
       "stream": "stdout",
       "text": [
        "1.3382\n"
       ]
      }
     ],
     "prompt_number": 14
    },
    {
     "cell_type": "code",
     "collapsed": false,
     "input": [
      "res = client.query(q)"
     ],
     "language": "python",
     "metadata": {},
     "outputs": [],
     "prompt_number": 61
    },
    {
     "cell_type": "code",
     "collapsed": false,
     "input": [
      "print q"
     ],
     "language": "python",
     "metadata": {},
     "outputs": [
      {
       "output_type": "stream",
       "stream": "stdout",
       "text": [
        "100 dollars from 2014 value today\n"
       ]
      }
     ],
     "prompt_number": 62
    },
    {
     "cell_type": "code",
     "collapsed": false,
     "input": [
      "res.pods"
     ],
     "language": "python",
     "metadata": {},
     "outputs": [
      {
       "metadata": {},
       "output_type": "pyout",
       "prompt_number": 63,
       "text": [
        "[<wolframalpha.Pod at 0x7f874aea8310>,\n",
        " <wolframalpha.Pod at 0x7f874aeed750>,\n",
        " <wolframalpha.Pod at 0x7f874aeed6d0>,\n",
        " <wolframalpha.Pod at 0x7f874aeed190>,\n",
        " <wolframalpha.Pod at 0x7f874aeed1d0>]"
       ]
      }
     ],
     "prompt_number": 63
    },
    {
     "cell_type": "code",
     "collapsed": false,
     "input": [
      "years = range(1900,2015)"
     ],
     "language": "python",
     "metadata": {},
     "outputs": [],
     "prompt_number": 53
    },
    {
     "cell_type": "code",
     "collapsed": false,
     "input": [
      "type(dateutil.parser.parse(str(years[3])).year)"
     ],
     "language": "python",
     "metadata": {},
     "outputs": [
      {
       "metadata": {},
       "output_type": "pyout",
       "prompt_number": 30,
       "text": [
        "int"
       ]
      }
     ],
     "prompt_number": 30
    },
    {
     "cell_type": "code",
     "collapsed": false,
     "input": [
      "inflation =[]\n",
      "for year in years:\n",
      "    q = '100 dollars from ' + str(year) + ' value today'\n",
      "    print q\n",
      "    res = client.query(q)\n",
      "    try:\n",
      "        multiplyer = float(next(res.results).text.split('$')[1].split(' ')[0])/100.0\n",
      "    except:\n",
      "        multiplyer = (np.nan,res)\n",
      "    inflation.append((year,multiplyer))"
     ],
     "language": "python",
     "metadata": {},
     "outputs": [
      {
       "output_type": "stream",
       "stream": "stdout",
       "text": [
        "100 dollars from 1900 value today\n",
        "100 dollars from 1901 value today"
       ]
      },
      {
       "output_type": "stream",
       "stream": "stdout",
       "text": [
        "\n",
        "100 dollars from 1902 value today"
       ]
      },
      {
       "output_type": "stream",
       "stream": "stdout",
       "text": [
        "\n",
        "100 dollars from 1903 value today"
       ]
      },
      {
       "output_type": "stream",
       "stream": "stdout",
       "text": [
        "\n",
        "100 dollars from 1904 value today"
       ]
      },
      {
       "output_type": "stream",
       "stream": "stdout",
       "text": [
        "\n",
        "100 dollars from 1905 value today"
       ]
      },
      {
       "output_type": "stream",
       "stream": "stdout",
       "text": [
        "\n",
        "100 dollars from 1906 value today"
       ]
      },
      {
       "output_type": "stream",
       "stream": "stdout",
       "text": [
        "\n",
        "100 dollars from 1907 value today"
       ]
      },
      {
       "output_type": "stream",
       "stream": "stdout",
       "text": [
        "\n",
        "100 dollars from 1908 value today"
       ]
      },
      {
       "output_type": "stream",
       "stream": "stdout",
       "text": [
        "\n",
        "100 dollars from 1909 value today"
       ]
      },
      {
       "output_type": "stream",
       "stream": "stdout",
       "text": [
        "\n",
        "100 dollars from 1910 value today"
       ]
      },
      {
       "output_type": "stream",
       "stream": "stdout",
       "text": [
        "\n",
        "100 dollars from 1911 value today"
       ]
      },
      {
       "output_type": "stream",
       "stream": "stdout",
       "text": [
        "\n",
        "100 dollars from 1912 value today"
       ]
      },
      {
       "output_type": "stream",
       "stream": "stdout",
       "text": [
        "\n",
        "100 dollars from 1913 value today"
       ]
      },
      {
       "output_type": "stream",
       "stream": "stdout",
       "text": [
        "\n",
        "100 dollars from 1914 value today"
       ]
      },
      {
       "output_type": "stream",
       "stream": "stdout",
       "text": [
        "\n",
        "100 dollars from 1915 value today"
       ]
      },
      {
       "output_type": "stream",
       "stream": "stdout",
       "text": [
        "\n",
        "100 dollars from 1916 value today"
       ]
      },
      {
       "output_type": "stream",
       "stream": "stdout",
       "text": [
        "\n",
        "100 dollars from 1917 value today"
       ]
      },
      {
       "output_type": "stream",
       "stream": "stdout",
       "text": [
        "\n",
        "100 dollars from 1918 value today"
       ]
      },
      {
       "output_type": "stream",
       "stream": "stdout",
       "text": [
        "\n",
        "100 dollars from 1919 value today"
       ]
      },
      {
       "output_type": "stream",
       "stream": "stdout",
       "text": [
        "\n",
        "100 dollars from 1920 value today"
       ]
      },
      {
       "output_type": "stream",
       "stream": "stdout",
       "text": [
        "\n",
        "100 dollars from 1921 value today"
       ]
      },
      {
       "output_type": "stream",
       "stream": "stdout",
       "text": [
        "\n",
        "100 dollars from 1922 value today"
       ]
      },
      {
       "output_type": "stream",
       "stream": "stdout",
       "text": [
        "\n",
        "100 dollars from 1923 value today"
       ]
      },
      {
       "output_type": "stream",
       "stream": "stdout",
       "text": [
        "\n",
        "100 dollars from 1924 value today"
       ]
      },
      {
       "output_type": "stream",
       "stream": "stdout",
       "text": [
        "\n",
        "100 dollars from 1925 value today"
       ]
      },
      {
       "output_type": "stream",
       "stream": "stdout",
       "text": [
        "\n",
        "100 dollars from 1926 value today"
       ]
      },
      {
       "output_type": "stream",
       "stream": "stdout",
       "text": [
        "\n",
        "100 dollars from 1927 value today"
       ]
      },
      {
       "output_type": "stream",
       "stream": "stdout",
       "text": [
        "\n",
        "100 dollars from 1928 value today"
       ]
      },
      {
       "output_type": "stream",
       "stream": "stdout",
       "text": [
        "\n",
        "100 dollars from 1929 value today"
       ]
      },
      {
       "output_type": "stream",
       "stream": "stdout",
       "text": [
        "\n",
        "100 dollars from 1930 value today"
       ]
      },
      {
       "output_type": "stream",
       "stream": "stdout",
       "text": [
        "\n",
        "100 dollars from 1931 value today"
       ]
      },
      {
       "output_type": "stream",
       "stream": "stdout",
       "text": [
        "\n",
        "100 dollars from 1932 value today"
       ]
      },
      {
       "output_type": "stream",
       "stream": "stdout",
       "text": [
        "\n",
        "100 dollars from 1933 value today"
       ]
      },
      {
       "output_type": "stream",
       "stream": "stdout",
       "text": [
        "\n",
        "100 dollars from 1934 value today"
       ]
      },
      {
       "output_type": "stream",
       "stream": "stdout",
       "text": [
        "\n",
        "100 dollars from 1935 value today"
       ]
      },
      {
       "output_type": "stream",
       "stream": "stdout",
       "text": [
        "\n",
        "100 dollars from 1936 value today"
       ]
      },
      {
       "output_type": "stream",
       "stream": "stdout",
       "text": [
        "\n",
        "100 dollars from 1937 value today"
       ]
      },
      {
       "output_type": "stream",
       "stream": "stdout",
       "text": [
        "\n",
        "100 dollars from 1938 value today"
       ]
      },
      {
       "output_type": "stream",
       "stream": "stdout",
       "text": [
        "\n",
        "100 dollars from 1939 value today"
       ]
      },
      {
       "output_type": "stream",
       "stream": "stdout",
       "text": [
        "\n",
        "100 dollars from 1940 value today"
       ]
      },
      {
       "output_type": "stream",
       "stream": "stdout",
       "text": [
        "\n",
        "100 dollars from 1941 value today"
       ]
      },
      {
       "output_type": "stream",
       "stream": "stdout",
       "text": [
        "\n",
        "100 dollars from 1942 value today"
       ]
      },
      {
       "output_type": "stream",
       "stream": "stdout",
       "text": [
        "\n",
        "100 dollars from 1943 value today"
       ]
      },
      {
       "output_type": "stream",
       "stream": "stdout",
       "text": [
        "\n",
        "100 dollars from 1944 value today"
       ]
      },
      {
       "output_type": "stream",
       "stream": "stdout",
       "text": [
        "\n",
        "100 dollars from 1945 value today"
       ]
      },
      {
       "output_type": "stream",
       "stream": "stdout",
       "text": [
        "\n",
        "100 dollars from 1946 value today"
       ]
      },
      {
       "output_type": "stream",
       "stream": "stdout",
       "text": [
        "\n",
        "100 dollars from 1947 value today"
       ]
      },
      {
       "output_type": "stream",
       "stream": "stdout",
       "text": [
        "\n",
        "100 dollars from 1948 value today"
       ]
      },
      {
       "output_type": "stream",
       "stream": "stdout",
       "text": [
        "\n",
        "100 dollars from 1949 value today"
       ]
      },
      {
       "output_type": "stream",
       "stream": "stdout",
       "text": [
        "\n",
        "100 dollars from 1950 value today"
       ]
      },
      {
       "output_type": "stream",
       "stream": "stdout",
       "text": [
        "\n",
        "100 dollars from 1951 value today"
       ]
      },
      {
       "output_type": "stream",
       "stream": "stdout",
       "text": [
        "\n",
        "100 dollars from 1952 value today"
       ]
      },
      {
       "output_type": "stream",
       "stream": "stdout",
       "text": [
        "\n",
        "100 dollars from 1953 value today"
       ]
      },
      {
       "output_type": "stream",
       "stream": "stdout",
       "text": [
        "\n",
        "100 dollars from 1954 value today"
       ]
      },
      {
       "output_type": "stream",
       "stream": "stdout",
       "text": [
        "\n",
        "100 dollars from 1955 value today"
       ]
      },
      {
       "output_type": "stream",
       "stream": "stdout",
       "text": [
        "\n",
        "100 dollars from 1956 value today"
       ]
      },
      {
       "output_type": "stream",
       "stream": "stdout",
       "text": [
        "\n",
        "100 dollars from 1957 value today"
       ]
      },
      {
       "output_type": "stream",
       "stream": "stdout",
       "text": [
        "\n",
        "100 dollars from 1958 value today"
       ]
      },
      {
       "output_type": "stream",
       "stream": "stdout",
       "text": [
        "\n",
        "100 dollars from 1959 value today"
       ]
      },
      {
       "output_type": "stream",
       "stream": "stdout",
       "text": [
        "\n",
        "100 dollars from 1960 value today"
       ]
      },
      {
       "output_type": "stream",
       "stream": "stdout",
       "text": [
        "\n",
        "100 dollars from 1961 value today"
       ]
      },
      {
       "output_type": "stream",
       "stream": "stdout",
       "text": [
        "\n",
        "100 dollars from 1962 value today"
       ]
      },
      {
       "output_type": "stream",
       "stream": "stdout",
       "text": [
        "\n",
        "100 dollars from 1963 value today"
       ]
      },
      {
       "output_type": "stream",
       "stream": "stdout",
       "text": [
        "\n",
        "100 dollars from 1964 value today"
       ]
      },
      {
       "output_type": "stream",
       "stream": "stdout",
       "text": [
        "\n",
        "100 dollars from 1965 value today"
       ]
      },
      {
       "output_type": "stream",
       "stream": "stdout",
       "text": [
        "\n",
        "100 dollars from 1966 value today"
       ]
      },
      {
       "output_type": "stream",
       "stream": "stdout",
       "text": [
        "\n",
        "100 dollars from 1967 value today"
       ]
      },
      {
       "output_type": "stream",
       "stream": "stdout",
       "text": [
        "\n",
        "100 dollars from 1968 value today"
       ]
      },
      {
       "output_type": "stream",
       "stream": "stdout",
       "text": [
        "\n",
        "100 dollars from 1969 value today"
       ]
      },
      {
       "output_type": "stream",
       "stream": "stdout",
       "text": [
        "\n",
        "100 dollars from 1970 value today"
       ]
      },
      {
       "output_type": "stream",
       "stream": "stdout",
       "text": [
        "\n",
        "100 dollars from 1971 value today"
       ]
      },
      {
       "output_type": "stream",
       "stream": "stdout",
       "text": [
        "\n",
        "100 dollars from 1972 value today"
       ]
      },
      {
       "output_type": "stream",
       "stream": "stdout",
       "text": [
        "\n",
        "100 dollars from 1973 value today"
       ]
      },
      {
       "output_type": "stream",
       "stream": "stdout",
       "text": [
        "\n",
        "100 dollars from 1974 value today"
       ]
      },
      {
       "output_type": "stream",
       "stream": "stdout",
       "text": [
        "\n",
        "100 dollars from 1975 value today"
       ]
      },
      {
       "output_type": "stream",
       "stream": "stdout",
       "text": [
        "\n",
        "100 dollars from 1976 value today"
       ]
      },
      {
       "output_type": "stream",
       "stream": "stdout",
       "text": [
        "\n",
        "100 dollars from 1977 value today"
       ]
      },
      {
       "output_type": "stream",
       "stream": "stdout",
       "text": [
        "\n",
        "100 dollars from 1978 value today"
       ]
      },
      {
       "output_type": "stream",
       "stream": "stdout",
       "text": [
        "\n",
        "100 dollars from 1979 value today"
       ]
      },
      {
       "output_type": "stream",
       "stream": "stdout",
       "text": [
        "\n",
        "100 dollars from 1980 value today"
       ]
      },
      {
       "output_type": "stream",
       "stream": "stdout",
       "text": [
        "\n",
        "100 dollars from 1981 value today"
       ]
      },
      {
       "output_type": "stream",
       "stream": "stdout",
       "text": [
        "\n",
        "100 dollars from 1982 value today"
       ]
      },
      {
       "output_type": "stream",
       "stream": "stdout",
       "text": [
        "\n",
        "100 dollars from 1983 value today"
       ]
      },
      {
       "output_type": "stream",
       "stream": "stdout",
       "text": [
        "\n",
        "100 dollars from 1984 value today"
       ]
      },
      {
       "output_type": "stream",
       "stream": "stdout",
       "text": [
        "\n",
        "100 dollars from 1985 value today"
       ]
      },
      {
       "output_type": "stream",
       "stream": "stdout",
       "text": [
        "\n",
        "100 dollars from 1986 value today"
       ]
      },
      {
       "output_type": "stream",
       "stream": "stdout",
       "text": [
        "\n",
        "100 dollars from 1987 value today"
       ]
      },
      {
       "output_type": "stream",
       "stream": "stdout",
       "text": [
        "\n",
        "100 dollars from 1988 value today"
       ]
      },
      {
       "output_type": "stream",
       "stream": "stdout",
       "text": [
        "\n",
        "100 dollars from 1989 value today"
       ]
      },
      {
       "output_type": "stream",
       "stream": "stdout",
       "text": [
        "\n",
        "100 dollars from 1990 value today"
       ]
      },
      {
       "output_type": "stream",
       "stream": "stdout",
       "text": [
        "\n",
        "100 dollars from 1991 value today"
       ]
      },
      {
       "output_type": "stream",
       "stream": "stdout",
       "text": [
        "\n",
        "100 dollars from 1992 value today"
       ]
      },
      {
       "output_type": "stream",
       "stream": "stdout",
       "text": [
        "\n",
        "100 dollars from 1993 value today"
       ]
      },
      {
       "output_type": "stream",
       "stream": "stdout",
       "text": [
        "\n",
        "100 dollars from 1994 value today"
       ]
      },
      {
       "output_type": "stream",
       "stream": "stdout",
       "text": [
        "\n",
        "100 dollars from 1995 value today"
       ]
      },
      {
       "output_type": "stream",
       "stream": "stdout",
       "text": [
        "\n",
        "100 dollars from 1996 value today"
       ]
      },
      {
       "output_type": "stream",
       "stream": "stdout",
       "text": [
        "\n",
        "100 dollars from 1997 value today"
       ]
      },
      {
       "output_type": "stream",
       "stream": "stdout",
       "text": [
        "\n",
        "100 dollars from 1998 value today"
       ]
      },
      {
       "output_type": "stream",
       "stream": "stdout",
       "text": [
        "\n",
        "100 dollars from 1999 value today"
       ]
      },
      {
       "output_type": "stream",
       "stream": "stdout",
       "text": [
        "\n",
        "100 dollars from 2000 value today"
       ]
      },
      {
       "output_type": "stream",
       "stream": "stdout",
       "text": [
        "\n",
        "100 dollars from 2001 value today"
       ]
      },
      {
       "output_type": "stream",
       "stream": "stdout",
       "text": [
        "\n",
        "100 dollars from 2002 value today"
       ]
      },
      {
       "output_type": "stream",
       "stream": "stdout",
       "text": [
        "\n",
        "100 dollars from 2003 value today"
       ]
      },
      {
       "output_type": "stream",
       "stream": "stdout",
       "text": [
        "\n",
        "100 dollars from 2004 value today"
       ]
      },
      {
       "output_type": "stream",
       "stream": "stdout",
       "text": [
        "\n",
        "100 dollars from 2005 value today"
       ]
      },
      {
       "output_type": "stream",
       "stream": "stdout",
       "text": [
        "\n",
        "100 dollars from 2006 value today"
       ]
      },
      {
       "output_type": "stream",
       "stream": "stdout",
       "text": [
        "\n",
        "100 dollars from 2007 value today"
       ]
      },
      {
       "output_type": "stream",
       "stream": "stdout",
       "text": [
        "\n",
        "100 dollars from 2008 value today"
       ]
      },
      {
       "output_type": "stream",
       "stream": "stdout",
       "text": [
        "\n",
        "100 dollars from 2009 value today"
       ]
      },
      {
       "output_type": "stream",
       "stream": "stdout",
       "text": [
        "\n",
        "100 dollars from 2010 value today"
       ]
      },
      {
       "output_type": "stream",
       "stream": "stdout",
       "text": [
        "\n",
        "100 dollars from 2011 value today"
       ]
      },
      {
       "output_type": "stream",
       "stream": "stdout",
       "text": [
        "\n",
        "100 dollars from 2012 value today"
       ]
      },
      {
       "output_type": "stream",
       "stream": "stdout",
       "text": [
        "\n",
        "100 dollars from 2013 value today"
       ]
      },
      {
       "output_type": "stream",
       "stream": "stdout",
       "text": [
        "\n",
        "100 dollars from 2014 value today"
       ]
      },
      {
       "output_type": "stream",
       "stream": "stdout",
       "text": [
        "\n"
       ]
      }
     ],
     "prompt_number": 54
    },
    {
     "cell_type": "code",
     "collapsed": false,
     "input": [
      "inflation"
     ],
     "language": "python",
     "metadata": {},
     "outputs": [
      {
       "metadata": {},
       "output_type": "pyout",
       "prompt_number": 55,
       "text": [
        "[(1900, 29.5709),\n",
        " (1901, 29.212),\n",
        " (1902, 28.8618),\n",
        " (1903, 28.218899999999998),\n",
        " (1904, 27.8919),\n",
        " (1905, 28.218899999999998),\n",
        " (1906, 27.604),\n",
        " (1907, 26.4223),\n",
        " (1908, 26.985100000000003),\n",
        " (1909, 27.291),\n",
        " (1910, 26.1354),\n",
        " (1911, 26.1354),\n",
        " (1912, 25.6071),\n",
        " (1913, 24.3548),\n",
        " (1914, 24.0306),\n",
        " (1915, (nan, <wolframalpha.Result at 0x7f874aeed950>)),\n",
        " (1916, 22.116999999999997),\n",
        " (1917, 18.7686),\n",
        " (1918, 16.0027),\n",
        " (1919, 13.8869),\n",
        " (1920, 12.010299999999999),\n",
        " (1921, 13.485),\n",
        " (1922, (nan, <wolframalpha.Result at 0x7f874aef45d0>)),\n",
        " (1923, 14.1177),\n",
        " (1924, 14.0559),\n",
        " (1925, 13.722000000000001),\n",
        " (1926, 13.599300000000001),\n",
        " (1927, 13.866900000000001),\n",
        " (1928, 14.028599999999999),\n",
        " (1929, 14.028599999999999),\n",
        " (1930, (nan, <wolframalpha.Result at 0x7f874aea03d0>)),\n",
        " (1931, 15.827300000000001),\n",
        " (1932, 17.645),\n",
        " (1933, 18.6114),\n",
        " (1934, 17.985599999999998),\n",
        " (1935, 17.5379),\n",
        " (1936, 17.3587),\n",
        " (1937, 16.7351),\n",
        " (1938, 17.081500000000002),\n",
        " (1939, (nan, <wolframalpha.Result at 0x7f874ae8f090>)),\n",
        " (1940, 17.1831),\n",
        " (1941, 16.3468),\n",
        " (1942, 14.7372),\n",
        " (1943, 13.907),\n",
        " (1944, 13.683),\n",
        " (1945, 13.378800000000002),\n",
        " (1946, 12.3334),\n",
        " (1947, 10.7819),\n",
        " (1948, 10.0121),\n",
        " (1949, 10.110199999999999),\n",
        " (1950, 10.0017),\n",
        " (1951, 9.2728),\n",
        " (1952, 9.0662),\n",
        " (1953, 8.992799999999999),\n",
        " (1954, 8.9649),\n",
        " (1955, 8.99),\n",
        " (1956, 8.8549),\n",
        " (1957, 8.5686),\n",
        " (1958, 8.341000000000001),\n",
        " (1959, 8.2575),\n",
        " (1960, 8.1389),\n",
        " (1961, 8.0526),\n",
        " (1962, 7.9573),\n",
        " (1963, 7.8598),\n",
        " (1964, 7.760599999999999),\n",
        " (1965, 7.639500000000001),\n",
        " (1966, 7.415900000000001),\n",
        " (1967, 7.215800000000001),\n",
        " (1968, 6.9201999999999995),\n",
        " (1969, 6.5618),\n",
        " (1970, 6.1998),\n",
        " (1971, 5.9446),\n",
        " (1972, 5.7562),\n",
        " (1973, 5.4213),\n",
        " (1974, 4.8817),\n",
        " (1975, 4.4727),\n",
        " (1976, 4.2297),\n",
        " (1977, 3.9715),\n",
        " (1978, 3.6899),\n",
        " (1979, 3.3167),\n",
        " (1980, 2.9208999999999996),\n",
        " (1981, 2.6473),\n",
        " (1982, 2.4944),\n",
        " (1983, 2.4167),\n",
        " (1984, 2.3171),\n",
        " (1985, 2.2377000000000002),\n",
        " (1986, 2.1961),\n",
        " (1987, (nan, <wolframalpha.Result at 0x7f874aefd390>)),\n",
        " (1988, 2.0354),\n",
        " (1989, 1.9417),\n",
        " (1990, 1.8422999999999998),\n",
        " (1991, 1.7674),\n",
        " (1992, 1.7155),\n",
        " (1993, 1.6663),\n",
        " (1994, 1.6239),\n",
        " (1995, 1.5796000000000001),\n",
        " (1996, 1.5346000000000002),\n",
        " (1997, 1.4996),\n",
        " (1998, 1.4767),\n",
        " (1999, 1.445),\n",
        " (2000, 1.3978),\n",
        " (2001, 1.3594),\n",
        " (2002, (nan, <wolframalpha.Result at 0x7f874aefd810>)),\n",
        " (2003, 1.3085),\n",
        " (2004, 1.2744),\n",
        " (2005, 1.2326000000000001),\n",
        " (2006, 1.194),\n",
        " (2007, 1.1609),\n",
        " (2008, 1.1179999999999999),\n",
        " (2009, 1.122),\n",
        " (2010, 1.1039),\n",
        " (2011, 1.0714),\n",
        " (2012, 1.0485),\n",
        " (2013, 1.0332999999999999),\n",
        " (2014, 1.018)]"
       ]
      }
     ],
     "prompt_number": 55
    },
    {
     "cell_type": "code",
     "collapsed": false,
     "input": [
      "inflation_dict = dict(inflation)"
     ],
     "language": "python",
     "metadata": {},
     "outputs": [],
     "prompt_number": 56
    },
    {
     "cell_type": "code",
     "collapsed": false,
     "input": [
      "m = float(next(res.results).text.split('$')[1].split(' ')[0])/100.0\n",
      "# this gets a float that is the multiplyter to do the inflation adustment\n",
      "# to 2015\n",
      "print m"
     ],
     "language": "python",
     "metadata": {},
     "outputs": [
      {
       "output_type": "stream",
       "stream": "stdout",
       "text": [
        "23.8127\n"
       ]
      }
     ],
     "prompt_number": 67
    },
    {
     "cell_type": "code",
     "collapsed": false,
     "input": [
      "inflation_dict[2002] = m"
     ],
     "language": "python",
     "metadata": {},
     "outputs": [],
     "prompt_number": 96
    },
    {
     "cell_type": "code",
     "collapsed": false,
     "input": [
      "inflation_dict"
     ],
     "language": "python",
     "metadata": {},
     "outputs": [
      {
       "metadata": {},
       "output_type": "pyout",
       "prompt_number": 99,
       "text": [
        "{1900: 29.5709,\n",
        " 1901: 29.212,\n",
        " 1902: 28.8618,\n",
        " 1903: 28.218899999999998,\n",
        " 1904: 27.8919,\n",
        " 1905: 28.218899999999998,\n",
        " 1906: 27.604,\n",
        " 1907: 26.4223,\n",
        " 1908: 26.985100000000003,\n",
        " 1909: 27.291,\n",
        " 1910: 26.1354,\n",
        " 1911: 26.1354,\n",
        " 1912: 25.6071,\n",
        " 1913: 24.3548,\n",
        " 1914: 24.0306,\n",
        " 1915: 23.8127,\n",
        " 1916: 22.116999999999997,\n",
        " 1917: 18.7686,\n",
        " 1918: 16.0027,\n",
        " 1919: 13.8869,\n",
        " 1920: 12.010299999999999,\n",
        " 1921: 13.485,\n",
        " 1922: 14.3706,\n",
        " 1923: 14.1177,\n",
        " 1924: 14.0559,\n",
        " 1925: 13.722000000000001,\n",
        " 1926: 13.599300000000001,\n",
        " 1927: 13.866900000000001,\n",
        " 1928: 14.028599999999999,\n",
        " 1929: 14.028599999999999,\n",
        " 1930: 14.413599999999999,\n",
        " 1931: 15.827300000000001,\n",
        " 1932: 17.645,\n",
        " 1933: 18.6114,\n",
        " 1934: 17.985599999999998,\n",
        " 1935: 17.5379,\n",
        " 1936: 17.3587,\n",
        " 1937: 16.7351,\n",
        " 1938: 17.081500000000002,\n",
        " 1939: 17.3067,\n",
        " 1940: 17.1831,\n",
        " 1941: 16.3468,\n",
        " 1942: 14.7372,\n",
        " 1943: 13.907,\n",
        " 1944: 13.683,\n",
        " 1945: 13.378800000000002,\n",
        " 1946: 12.3334,\n",
        " 1947: 10.7819,\n",
        " 1948: 10.0121,\n",
        " 1949: 10.110199999999999,\n",
        " 1950: 10.0017,\n",
        " 1951: 9.2728,\n",
        " 1952: 9.0662,\n",
        " 1953: 8.992799999999999,\n",
        " 1954: 8.9649,\n",
        " 1955: 8.99,\n",
        " 1956: 8.8549,\n",
        " 1957: 8.5686,\n",
        " 1958: 8.341000000000001,\n",
        " 1959: 8.2575,\n",
        " 1960: 8.1389,\n",
        " 1961: 8.0526,\n",
        " 1962: 7.9573,\n",
        " 1963: 7.8598,\n",
        " 1964: 7.760599999999999,\n",
        " 1965: 7.639500000000001,\n",
        " 1966: 7.415900000000001,\n",
        " 1967: 7.215800000000001,\n",
        " 1968: 6.9201999999999995,\n",
        " 1969: 6.5618,\n",
        " 1970: 6.1998,\n",
        " 1971: 5.9446,\n",
        " 1972: 5.7562,\n",
        " 1973: 5.4213,\n",
        " 1974: 4.8817,\n",
        " 1975: 4.4727,\n",
        " 1976: 4.2297,\n",
        " 1977: 3.9715,\n",
        " 1978: 3.6899,\n",
        " 1979: 3.3167,\n",
        " 1980: 2.9208999999999996,\n",
        " 1981: 2.6473,\n",
        " 1982: 2.4944,\n",
        " 1983: 2.4167,\n",
        " 1984: 2.3171,\n",
        " 1985: 2.2377000000000002,\n",
        " 1986: 2.1961,\n",
        " 1987: 2.1184,\n",
        " 1988: 2.0354,\n",
        " 1989: 1.9417,\n",
        " 1990: 1.8422999999999998,\n",
        " 1991: 1.7674,\n",
        " 1992: 1.7155,\n",
        " 1993: 1.6663,\n",
        " 1994: 1.6239,\n",
        " 1995: 1.5796000000000001,\n",
        " 1996: 1.5346000000000002,\n",
        " 1997: 1.4996,\n",
        " 1998: 1.4767,\n",
        " 1999: 1.445,\n",
        " 2000: 1.3978,\n",
        " 2001: 1.3594,\n",
        " 2002: 1.3381999999999998,\n",
        " 2003: 1.3085,\n",
        " 2004: 1.2744,\n",
        " 2005: 1.2326000000000001,\n",
        " 2006: 1.194,\n",
        " 2007: 1.1609,\n",
        " 2008: 1.1179999999999999,\n",
        " 2009: 1.122,\n",
        " 2010: 1.1039,\n",
        " 2011: 1.0714,\n",
        " 2012: 1.0485,\n",
        " 2013: 1.0332999999999999,\n",
        " 2014: 1.018}"
       ]
      }
     ],
     "prompt_number": 99
    },
    {
     "cell_type": "code",
     "collapsed": false,
     "input": [
      "with open(\"inflation_dict.pkl\",'w')as picklefile:\n",
      "    pickle.dump(inflation_dict, picklefile)"
     ],
     "language": "python",
     "metadata": {},
     "outputs": [],
     "prompt_number": 100
    },
    {
     "cell_type": "code",
     "collapsed": false,
     "input": [
      "cpi = CPI()\n"
     ],
     "language": "python",
     "metadata": {},
     "outputs": [],
     "prompt_number": 3
    },
    {
     "cell_type": "code",
     "collapsed": false,
     "input": [
      "cpi.get(datetime.date(2007,1,1), 'USA')\n"
     ],
     "language": "python",
     "metadata": {},
     "outputs": [
      {
       "metadata": {},
       "output_type": "pyout",
       "prompt_number": 9,
       "text": [
        "CPI(date=datetime.date(2007, 1, 1), value=106.170642201835)"
       ]
      }
     ],
     "prompt_number": 9
    },
    {
     "cell_type": "code",
     "collapsed": false,
     "input": [
      "inflation = Inflation()"
     ],
     "language": "python",
     "metadata": {},
     "outputs": [],
     "prompt_number": 13
    },
    {
     "cell_type": "code",
     "collapsed": false,
     "input": [
      "inflation.inflate(5, datetime.date(2013,1,1), datetime.date(2007,1,1), 'United States')"
     ],
     "language": "python",
     "metadata": {},
     "outputs": [
      {
       "ename": "KeyError",
       "evalue": "'Date 2013-01-01 not found in data'",
       "output_type": "pyerr",
       "traceback": [
        "\u001b[1;31m---------------------------------------------------------------------------\u001b[0m\n\u001b[1;31mKeyError\u001b[0m                                  Traceback (most recent call last)",
        "\u001b[1;32m<ipython-input-32-afdbee9c0626>\u001b[0m in \u001b[0;36m<module>\u001b[1;34m()\u001b[0m\n\u001b[1;32m----> 1\u001b[1;33m \u001b[0minflation\u001b[0m\u001b[1;33m.\u001b[0m\u001b[0minflate\u001b[0m\u001b[1;33m(\u001b[0m\u001b[1;36m5\u001b[0m\u001b[1;33m,\u001b[0m \u001b[0mdatetime\u001b[0m\u001b[1;33m.\u001b[0m\u001b[0mdate\u001b[0m\u001b[1;33m(\u001b[0m\u001b[1;36m2013\u001b[0m\u001b[1;33m,\u001b[0m\u001b[1;36m1\u001b[0m\u001b[1;33m,\u001b[0m\u001b[1;36m1\u001b[0m\u001b[1;33m)\u001b[0m\u001b[1;33m,\u001b[0m \u001b[0mdatetime\u001b[0m\u001b[1;33m.\u001b[0m\u001b[0mdate\u001b[0m\u001b[1;33m(\u001b[0m\u001b[1;36m2007\u001b[0m\u001b[1;33m,\u001b[0m\u001b[1;36m1\u001b[0m\u001b[1;33m,\u001b[0m\u001b[1;36m1\u001b[0m\u001b[1;33m)\u001b[0m\u001b[1;33m,\u001b[0m \u001b[1;34m'United States'\u001b[0m\u001b[1;33m)\u001b[0m\u001b[1;33m\u001b[0m\u001b[0m\n\u001b[0m",
        "\u001b[1;32m/usr/local/lib/python2.7/dist-packages/economics/inflation.pyc\u001b[0m in \u001b[0;36minflate\u001b[1;34m(self, amount, target, reference, country)\u001b[0m\n\u001b[0;32m     78\u001b[0m \u001b[1;33m\u001b[0m\u001b[0m\n\u001b[0;32m     79\u001b[0m         \u001b[1;31m# Get the inflation for the two dates and country\u001b[0m\u001b[1;33m\u001b[0m\u001b[1;33m\u001b[0m\u001b[0m\n\u001b[1;32m---> 80\u001b[1;33m         \u001b[0minflation\u001b[0m \u001b[1;33m=\u001b[0m \u001b[0mself\u001b[0m\u001b[1;33m.\u001b[0m\u001b[0mget\u001b[0m\u001b[1;33m(\u001b[0m\u001b[0mtarget\u001b[0m\u001b[1;33m,\u001b[0m \u001b[0mreference\u001b[0m\u001b[1;33m,\u001b[0m \u001b[0mcountry\u001b[0m\u001b[1;33m)\u001b[0m\u001b[1;33m\u001b[0m\u001b[0m\n\u001b[0m\u001b[0;32m     81\u001b[0m         \u001b[1;31m# Return the inflated/deflated amount\u001b[0m\u001b[1;33m\u001b[0m\u001b[1;33m\u001b[0m\u001b[0m\n\u001b[0;32m     82\u001b[0m         \u001b[1;32mreturn\u001b[0m \u001b[0mamount\u001b[0m \u001b[1;33m*\u001b[0m \u001b[0minflation\u001b[0m\u001b[1;33m.\u001b[0m\u001b[0mfactor\u001b[0m\u001b[1;33m\u001b[0m\u001b[0m\n",
        "\u001b[1;32m/usr/local/lib/python2.7/dist-packages/economics/inflation.pyc\u001b[0m in \u001b[0;36mget\u001b[1;34m(self, target, reference, country)\u001b[0m\n\u001b[0;32m     63\u001b[0m         \u001b[1;31m# Get the reference and target indices (values) from the source\u001b[0m\u001b[1;33m\u001b[0m\u001b[1;33m\u001b[0m\u001b[0m\n\u001b[0;32m     64\u001b[0m         \u001b[0mreference_value\u001b[0m \u001b[1;33m=\u001b[0m \u001b[0mself\u001b[0m\u001b[1;33m.\u001b[0m\u001b[0mdata\u001b[0m\u001b[1;33m.\u001b[0m\u001b[0mget\u001b[0m\u001b[1;33m(\u001b[0m\u001b[0mreference\u001b[0m\u001b[1;33m,\u001b[0m \u001b[0mcountry\u001b[0m\u001b[1;33m)\u001b[0m\u001b[1;33m.\u001b[0m\u001b[0mvalue\u001b[0m\u001b[1;33m\u001b[0m\u001b[0m\n\u001b[1;32m---> 65\u001b[1;33m         \u001b[0mtarget_value\u001b[0m \u001b[1;33m=\u001b[0m \u001b[0mself\u001b[0m\u001b[1;33m.\u001b[0m\u001b[0mdata\u001b[0m\u001b[1;33m.\u001b[0m\u001b[0mget\u001b[0m\u001b[1;33m(\u001b[0m\u001b[0mtarget\u001b[0m\u001b[1;33m,\u001b[0m \u001b[0mcountry\u001b[0m\u001b[1;33m)\u001b[0m\u001b[1;33m.\u001b[0m\u001b[0mvalue\u001b[0m\u001b[1;33m\u001b[0m\u001b[0m\n\u001b[0m\u001b[0;32m     66\u001b[0m \u001b[1;33m\u001b[0m\u001b[0m\n\u001b[0;32m     67\u001b[0m         \u001b[1;31m# Compute the inflation value and return it\u001b[0m\u001b[1;33m\u001b[0m\u001b[1;33m\u001b[0m\u001b[0m\n",
        "\u001b[1;32m/usr/local/lib/python2.7/dist-packages/economics/cpi.pyc\u001b[0m in \u001b[0;36mget\u001b[1;34m(self, date, country)\u001b[0m\n\u001b[0;32m     79\u001b[0m             \u001b[1;32mreturn\u001b[0m \u001b[0mCPIResult\u001b[0m\u001b[1;33m(\u001b[0m\u001b[0mdate\u001b[0m\u001b[1;33m=\u001b[0m\u001b[0mdate\u001b[0m\u001b[1;33m,\u001b[0m \u001b[0mvalue\u001b[0m\u001b[1;33m=\u001b[0m\u001b[0mself\u001b[0m\u001b[1;33m.\u001b[0m\u001b[0mdata\u001b[0m\u001b[1;33m[\u001b[0m\u001b[0mcountry\u001b[0m\u001b[1;33m.\u001b[0m\u001b[0mupper\u001b[0m\u001b[1;33m(\u001b[0m\u001b[1;33m)\u001b[0m\u001b[1;33m]\u001b[0m\u001b[1;33m[\u001b[0m\u001b[0mdate\u001b[0m\u001b[1;33m]\u001b[0m\u001b[1;33m)\u001b[0m\u001b[1;33m\u001b[0m\u001b[0m\n\u001b[0;32m     80\u001b[0m         \u001b[1;32mexcept\u001b[0m\u001b[1;33m:\u001b[0m\u001b[1;33m\u001b[0m\u001b[0m\n\u001b[1;32m---> 81\u001b[1;33m             \u001b[1;32mraise\u001b[0m \u001b[0mKeyError\u001b[0m\u001b[1;33m(\u001b[0m\u001b[1;34m'Date {date} not found in data'\u001b[0m\u001b[1;33m.\u001b[0m\u001b[0mformat\u001b[0m\u001b[1;33m(\u001b[0m\u001b[0mdate\u001b[0m\u001b[1;33m=\u001b[0m\u001b[0mdate\u001b[0m\u001b[1;33m)\u001b[0m\u001b[1;33m)\u001b[0m\u001b[1;33m\u001b[0m\u001b[0m\n\u001b[0m\u001b[0;32m     82\u001b[0m \u001b[1;33m\u001b[0m\u001b[0m\n\u001b[0;32m     83\u001b[0m     def closest(self, date=datetime.date.today(), country=None,\n",
        "\u001b[1;31mKeyError\u001b[0m: 'Date 2013-01-01 not found in data'"
       ]
      }
     ],
     "prompt_number": 32
    },
    {
     "cell_type": "code",
     "collapsed": false,
     "input": [
      "datetime.date.today()\n",
      "datetime.date(1940,1,1)"
     ],
     "language": "python",
     "metadata": {},
     "outputs": [
      {
       "metadata": {},
       "output_type": "pyout",
       "prompt_number": 22,
       "text": [
        "datetime.date(1940, 1, 1)"
       ]
      }
     ],
     "prompt_number": 22
    },
    {
     "cell_type": "code",
     "collapsed": false,
     "input": [
      "def adjust_to_today(money,old_date):\n",
      "    adjusted_money = inflation.inflate(money, datetime.date.today(), old_date, 'United States')\n",
      "    return adjusted_money"
     ],
     "language": "python",
     "metadata": {},
     "outputs": [],
     "prompt_number": 20
    },
    {
     "cell_type": "code",
     "collapsed": false,
     "input": [
      "adjust_to_today(40, datetime.date(2000,2,2))"
     ],
     "language": "python",
     "metadata": {},
     "outputs": [
      {
       "ename": "KeyError",
       "evalue": "'Date 2000-02-02 not found in data'",
       "output_type": "pyerr",
       "traceback": [
        "\u001b[1;31m---------------------------------------------------------------------------\u001b[0m\n\u001b[1;31mKeyError\u001b[0m                                  Traceback (most recent call last)",
        "\u001b[1;32m<ipython-input-25-e158f245366a>\u001b[0m in \u001b[0;36m<module>\u001b[1;34m()\u001b[0m\n\u001b[1;32m----> 1\u001b[1;33m \u001b[0madjust_to_today\u001b[0m\u001b[1;33m(\u001b[0m\u001b[1;36m40\u001b[0m\u001b[1;33m,\u001b[0m \u001b[0mdatetime\u001b[0m\u001b[1;33m.\u001b[0m\u001b[0mdate\u001b[0m\u001b[1;33m(\u001b[0m\u001b[1;36m2000\u001b[0m\u001b[1;33m,\u001b[0m\u001b[1;36m2\u001b[0m\u001b[1;33m,\u001b[0m\u001b[1;36m2\u001b[0m\u001b[1;33m)\u001b[0m\u001b[1;33m)\u001b[0m\u001b[1;33m\u001b[0m\u001b[0m\n\u001b[0m",
        "\u001b[1;32m<ipython-input-20-6da3fba0d822>\u001b[0m in \u001b[0;36madjust_to_today\u001b[1;34m(money, old_date)\u001b[0m\n\u001b[0;32m      1\u001b[0m \u001b[1;32mdef\u001b[0m \u001b[0madjust_to_today\u001b[0m\u001b[1;33m(\u001b[0m\u001b[0mmoney\u001b[0m\u001b[1;33m,\u001b[0m\u001b[0mold_date\u001b[0m\u001b[1;33m)\u001b[0m\u001b[1;33m:\u001b[0m\u001b[1;33m\u001b[0m\u001b[0m\n\u001b[1;32m----> 2\u001b[1;33m     \u001b[0madjusted_money\u001b[0m \u001b[1;33m=\u001b[0m \u001b[0minflation\u001b[0m\u001b[1;33m.\u001b[0m\u001b[0minflate\u001b[0m\u001b[1;33m(\u001b[0m\u001b[0mmoney\u001b[0m\u001b[1;33m,\u001b[0m \u001b[0mdatetime\u001b[0m\u001b[1;33m.\u001b[0m\u001b[0mdate\u001b[0m\u001b[1;33m.\u001b[0m\u001b[0mtoday\u001b[0m\u001b[1;33m(\u001b[0m\u001b[1;33m)\u001b[0m\u001b[1;33m,\u001b[0m \u001b[0mold_date\u001b[0m\u001b[1;33m,\u001b[0m \u001b[1;34m'United States'\u001b[0m\u001b[1;33m)\u001b[0m\u001b[1;33m\u001b[0m\u001b[0m\n\u001b[0m\u001b[0;32m      3\u001b[0m     \u001b[1;32mreturn\u001b[0m \u001b[0madjusted_money\u001b[0m\u001b[1;33m\u001b[0m\u001b[0m\n",
        "\u001b[1;32m/usr/local/lib/python2.7/dist-packages/economics/inflation.pyc\u001b[0m in \u001b[0;36minflate\u001b[1;34m(self, amount, target, reference, country)\u001b[0m\n\u001b[0;32m     78\u001b[0m \u001b[1;33m\u001b[0m\u001b[0m\n\u001b[0;32m     79\u001b[0m         \u001b[1;31m# Get the inflation for the two dates and country\u001b[0m\u001b[1;33m\u001b[0m\u001b[1;33m\u001b[0m\u001b[0m\n\u001b[1;32m---> 80\u001b[1;33m         \u001b[0minflation\u001b[0m \u001b[1;33m=\u001b[0m \u001b[0mself\u001b[0m\u001b[1;33m.\u001b[0m\u001b[0mget\u001b[0m\u001b[1;33m(\u001b[0m\u001b[0mtarget\u001b[0m\u001b[1;33m,\u001b[0m \u001b[0mreference\u001b[0m\u001b[1;33m,\u001b[0m \u001b[0mcountry\u001b[0m\u001b[1;33m)\u001b[0m\u001b[1;33m\u001b[0m\u001b[0m\n\u001b[0m\u001b[0;32m     81\u001b[0m         \u001b[1;31m# Return the inflated/deflated amount\u001b[0m\u001b[1;33m\u001b[0m\u001b[1;33m\u001b[0m\u001b[0m\n\u001b[0;32m     82\u001b[0m         \u001b[1;32mreturn\u001b[0m \u001b[0mamount\u001b[0m \u001b[1;33m*\u001b[0m \u001b[0minflation\u001b[0m\u001b[1;33m.\u001b[0m\u001b[0mfactor\u001b[0m\u001b[1;33m\u001b[0m\u001b[0m\n",
        "\u001b[1;32m/usr/local/lib/python2.7/dist-packages/economics/inflation.pyc\u001b[0m in \u001b[0;36mget\u001b[1;34m(self, target, reference, country)\u001b[0m\n\u001b[0;32m     62\u001b[0m \u001b[1;33m\u001b[0m\u001b[0m\n\u001b[0;32m     63\u001b[0m         \u001b[1;31m# Get the reference and target indices (values) from the source\u001b[0m\u001b[1;33m\u001b[0m\u001b[1;33m\u001b[0m\u001b[0m\n\u001b[1;32m---> 64\u001b[1;33m         \u001b[0mreference_value\u001b[0m \u001b[1;33m=\u001b[0m \u001b[0mself\u001b[0m\u001b[1;33m.\u001b[0m\u001b[0mdata\u001b[0m\u001b[1;33m.\u001b[0m\u001b[0mget\u001b[0m\u001b[1;33m(\u001b[0m\u001b[0mreference\u001b[0m\u001b[1;33m,\u001b[0m \u001b[0mcountry\u001b[0m\u001b[1;33m)\u001b[0m\u001b[1;33m.\u001b[0m\u001b[0mvalue\u001b[0m\u001b[1;33m\u001b[0m\u001b[0m\n\u001b[0m\u001b[0;32m     65\u001b[0m         \u001b[0mtarget_value\u001b[0m \u001b[1;33m=\u001b[0m \u001b[0mself\u001b[0m\u001b[1;33m.\u001b[0m\u001b[0mdata\u001b[0m\u001b[1;33m.\u001b[0m\u001b[0mget\u001b[0m\u001b[1;33m(\u001b[0m\u001b[0mtarget\u001b[0m\u001b[1;33m,\u001b[0m \u001b[0mcountry\u001b[0m\u001b[1;33m)\u001b[0m\u001b[1;33m.\u001b[0m\u001b[0mvalue\u001b[0m\u001b[1;33m\u001b[0m\u001b[0m\n\u001b[0;32m     66\u001b[0m \u001b[1;33m\u001b[0m\u001b[0m\n",
        "\u001b[1;32m/usr/local/lib/python2.7/dist-packages/economics/cpi.pyc\u001b[0m in \u001b[0;36mget\u001b[1;34m(self, date, country)\u001b[0m\n\u001b[0;32m     79\u001b[0m             \u001b[1;32mreturn\u001b[0m \u001b[0mCPIResult\u001b[0m\u001b[1;33m(\u001b[0m\u001b[0mdate\u001b[0m\u001b[1;33m=\u001b[0m\u001b[0mdate\u001b[0m\u001b[1;33m,\u001b[0m \u001b[0mvalue\u001b[0m\u001b[1;33m=\u001b[0m\u001b[0mself\u001b[0m\u001b[1;33m.\u001b[0m\u001b[0mdata\u001b[0m\u001b[1;33m[\u001b[0m\u001b[0mcountry\u001b[0m\u001b[1;33m.\u001b[0m\u001b[0mupper\u001b[0m\u001b[1;33m(\u001b[0m\u001b[1;33m)\u001b[0m\u001b[1;33m]\u001b[0m\u001b[1;33m[\u001b[0m\u001b[0mdate\u001b[0m\u001b[1;33m]\u001b[0m\u001b[1;33m)\u001b[0m\u001b[1;33m\u001b[0m\u001b[0m\n\u001b[0;32m     80\u001b[0m         \u001b[1;32mexcept\u001b[0m\u001b[1;33m:\u001b[0m\u001b[1;33m\u001b[0m\u001b[0m\n\u001b[1;32m---> 81\u001b[1;33m             \u001b[1;32mraise\u001b[0m \u001b[0mKeyError\u001b[0m\u001b[1;33m(\u001b[0m\u001b[1;34m'Date {date} not found in data'\u001b[0m\u001b[1;33m.\u001b[0m\u001b[0mformat\u001b[0m\u001b[1;33m(\u001b[0m\u001b[0mdate\u001b[0m\u001b[1;33m=\u001b[0m\u001b[0mdate\u001b[0m\u001b[1;33m)\u001b[0m\u001b[1;33m)\u001b[0m\u001b[1;33m\u001b[0m\u001b[0m\n\u001b[0m\u001b[0;32m     82\u001b[0m \u001b[1;33m\u001b[0m\u001b[0m\n\u001b[0;32m     83\u001b[0m     def closest(self, date=datetime.date.today(), country=None,\n",
        "\u001b[1;31mKeyError\u001b[0m: 'Date 2000-02-02 not found in data'"
       ]
      }
     ],
     "prompt_number": 25
    },
    {
     "cell_type": "code",
     "collapsed": false,
     "input": [],
     "language": "python",
     "metadata": {},
     "outputs": []
    }
   ],
   "metadata": {}
  }
 ]
}