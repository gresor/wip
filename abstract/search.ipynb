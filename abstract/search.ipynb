{
 "metadata": {
  "name": "",
  "signature": "sha256:e346853d7f7ac9a3c72a260855695311a71d6aa4798e8dc893cad96369d5f952"
 },
 "nbformat": 3,
 "nbformat_minor": 0,
 "worksheets": [
  {
   "cells": [
    {
     "cell_type": "code",
     "collapsed": false,
     "input": [
      "from sklearn.feature_extraction.text import TfidfVectorizer\n",
      "from sklearn.externals import joblib\n",
      "import pickle\n",
      "from sklearn.neighbors import KNeighborsClassifier\n",
      "from bson.objectid import ObjectId\n",
      "from sklearn.metrics.pairwise import cosine_similarity\n",
      "from sets import Set\n",
      "from sklearn.metrics import pairwise_distances\n",
      "from collections import Counter\n",
      "from sklearn.decomposition import PCA, KernelPCA"
     ],
     "language": "python",
     "metadata": {},
     "outputs": [],
     "prompt_number": 109
    },
    {
     "cell_type": "code",
     "collapsed": false,
     "input": [
      "#starting up pymongo\n",
      "import pymongo\n",
      "#making mongo db of abstracts\n",
      "c = pymongo.MongoClient()\n",
      "db = c['PloS']\n",
      "abstract_db = db['this_year']"
     ],
     "language": "python",
     "metadata": {},
     "outputs": [],
     "prompt_number": 130
    },
    {
     "cell_type": "code",
     "collapsed": false,
     "input": [
      "abstract_db.create_index('author_without_collab_display')"
     ],
     "language": "python",
     "metadata": {},
     "outputs": [
      {
       "metadata": {},
       "output_type": "pyout",
       "prompt_number": 32,
       "text": [
        "u'author_without_collab_display_1'"
       ]
      }
     ],
     "prompt_number": 32
    },
    {
     "cell_type": "code",
     "collapsed": false,
     "input": [
      "abstract_db.index_information()"
     ],
     "language": "python",
     "metadata": {},
     "outputs": [
      {
       "metadata": {},
       "output_type": "pyout",
       "prompt_number": 36,
       "text": [
        "{u'_id_': {u'key': [(u'_id', 1)], u'v': 1},\n",
        " u'author_without_collab_display_1': {u'key': [(u'author_without_collab_display',\n",
        "    1)],\n",
        "  u'v': 1}}"
       ]
      }
     ],
     "prompt_number": 36
    },
    {
     "cell_type": "code",
     "collapsed": false,
     "input": [
      "test_text = 'Consumption of calorie-containing sugars elicits appetitive behavioral responses and dopamine release in the ventral striatum, even in the absence of sweet-taste transduction machinery. However, it is unclear if such reward-related postingestive effects reflect preabsorptive or postabsorptive events. In support of the importance of postabsorptive glucose detection, we found that, in rat behavioral tests, high concentration glucose solutions administered in the jugular vein were sufficient to condition a side-bias. Additionally, a lower concentration glucose solution conditioned robust behavioral responses when administered in the hepatic-portal, but not the jugular vein. Furthermore, enteric administration of glucose at a concentration that is sufficient to elicit behavioral conditioning resulted in a glycemic profile similar to that observed after administration of the low concentration glucose solution in the hepatic-portal, but not jugular vein. Finally using fast-scan cyclic voltammetry we found that, in accordance with behavioral findings, a low concentration glucose solution caused an increase in spontaneous dopamine release events in the nucleus accumbens shell when administered in the hepatic-portal, but not the jugular vein. These findings demonstrate that the postabsorptive effects of glucose are sufficient for the postingestive behavioral and dopaminergic reward-related responses that result from sugar consumption. Furthermore, glycemia levels in the hepatic-portal venous system contribute more significantly for this effect than systemic glycemia, arguing for the participation of an intra-abdominal visceral sensor for glucose.'"
     ],
     "language": "python",
     "metadata": {},
     "outputs": [],
     "prompt_number": 7
    },
    {
     "cell_type": "code",
     "collapsed": false,
     "input": [
      "!ls"
     ],
     "language": "python",
     "metadata": {},
     "outputs": [
      {
       "output_type": "stream",
       "stream": "stdout",
       "text": [
        "abstract_neighbors.pkl\t       fit_vectorizer.pkl_01.npy\r\n",
        "abstract_neighbors.pkl_01.npy  fit_vectorizer.pkl_02.npy\r\n",
        "abstract_neighbors.pkl_02.npy  get abstracts.ipynb\r\n",
        "abstract_neighbors.pkl_03.npy  knn_ids.pkl\r\n",
        "abstract_neighbors.pkl_04.npy  make_tf_idf_vectorizer.py\r\n",
        "abstract_neighbors.pkl_05.npy  search.ipynb\r\n",
        "abstracts_to_db.py\t       text_processing.ipynb\r\n",
        "fit_vectorizer.pkl\r\n"
       ]
      }
     ],
     "prompt_number": 2
    },
    {
     "cell_type": "code",
     "collapsed": false,
     "input": [
      "knn_ids = pickle.load(open(\"knn_ids.pkl\",\"rb\"))\n",
      "vectorize = joblib.load('fit_vectorizer.pkl')\n",
      "neigh= joblib.load('abstract_neighbors.pkl')"
     ],
     "language": "python",
     "metadata": {},
     "outputs": [],
     "prompt_number": 6
    },
    {
     "cell_type": "code",
     "collapsed": false,
     "input": [
      "cosine_pca = joblib.load('cosine_pca.pkl')\n",
      "topic_kn = joblib.load('topic_kn.pkl')"
     ],
     "language": "python",
     "metadata": {},
     "outputs": [],
     "prompt_number": 135
    },
    {
     "cell_type": "code",
     "collapsed": false,
     "input": [
      "def search(abstract_text,N=10,method='tfidf'):\n",
      "    \"\"\"returns the N closets documents to your abstract text. Method speciifes what metric and space you search.\"\"\" \n",
      "    if method == 'tfidf':\n",
      "        text_vector =vectorize.transform([abstract_text])\n",
      "        distance,ids = neigh.kneighbors(text_vector,n_neighbors=N)\n",
      "    if method =='topic':\n",
      "        text_vector=cosine_pca.transform(vectorize.transform([abstract_text]))\n",
      "        distance,ids = topic_kn.kneighbors(text_vector,n_neighbors=N)\n",
      "    results ={}\n",
      "    authors = Set()\n",
      "    subjects =Set()\n",
      "    for i in range(N):\n",
      "        doc = abstract_db.find_one({\"_id\":knn_ids[ids[0][i]]})\n",
      "        results[doc['title_display']]={}\n",
      "        results[doc['title_display']]['dist']=distance[0][i]\n",
      "        results[doc['title_display']]['authors']= doc['author_without_collab_display']\n",
      "        results[doc['title_display']]['views']= doc['counter_total_all']\n",
      "        results[doc['title_display']]['subjects']= doc['subject_level_1']\n",
      "        authors.update(doc['author_without_collab_display'])\n",
      "        subjects.update(doc['subject_level_1'])\n",
      "        #results[doc['title_display']]['abstract']= doc['abstract']\n",
      "    return authors, results, subjects, text_vector#distance, ids"
     ],
     "language": "python",
     "metadata": {},
     "outputs": [],
     "prompt_number": 136
    },
    {
     "cell_type": "code",
     "collapsed": false,
     "input": [
      "def relevent_authors(abstract_text,N=10,method='tfidf', TOP=10,match=1):\n",
      "    \"\"\"TOP returns the relevent authors, match is how much you want to weigh having a good match\"\"\"\n",
      "    a,_,_,text_vector = search(abstract_text,N,method)\n",
      "    auth_score=[]\n",
      "\n",
      "    for author in a:\n",
      "        cursor = abstract_db.find({\"author_without_collab_display\":author})\n",
      "        author_abs=[]\n",
      "        author_views=100\n",
      "        for i in cursor:\n",
      "            author_abs.extend(i['abstract'])\n",
      "            author_views+=i['counter_total_all']\n",
      "        if method == 'tfidf':\n",
      "            average_vector = vectorize.transform(author_abs).mean(axis=0)\n",
      "        if method =='topic':\n",
      "            average_vector = cosine_pca.transform(vectorize.transform(author_abs)).mean(axis=0)\n",
      "        \n",
      "        #print author, author_views\n",
      "        #print cosine_similarity(average_vector,text_vector)\n",
      "        sim = cosine_similarity((average_vector,text_vector)[0][0])**match\n",
      "        auth_score.append((author,sim*author_views))\n",
      "    top_auths = sorted(auth_score, key=lambda x:x[1],reverse=True)\n",
      "    return top_auths[0:TOP-1]\n",
      "        \n"
     ],
     "language": "python",
     "metadata": {},
     "outputs": [],
     "prompt_number": 137
    },
    {
     "cell_type": "code",
     "collapsed": false,
     "input": [
      "def relevent_subjects(abstract_text,N=10,method='tfidf'):\n",
      "    \"\"\"search that just returns the subjects\"\"\"\n",
      "    _,_,subjects,_ = search(abstract_text,N,method)\n",
      "    return subjects"
     ],
     "language": "python",
     "metadata": {},
     "outputs": [],
     "prompt_number": 151
    },
    {
     "cell_type": "code",
     "collapsed": false,
     "input": [
      "search(test_text)[0][0][0]"
     ],
     "language": "python",
     "metadata": {},
     "outputs": [
      {
       "metadata": {},
       "output_type": "pyout",
       "prompt_number": 17,
       "text": [
        "0.8425939598118215"
       ]
      }
     ],
     "prompt_number": 17
    },
    {
     "cell_type": "code",
     "collapsed": false,
     "input": [
      "abstract_2015_db.find_one({\"_id\":ObjectId('54f6137f387cca7aa63d6e67')}).keys()"
     ],
     "language": "python",
     "metadata": {},
     "outputs": []
    },
    {
     "cell_type": "code",
     "collapsed": false,
     "input": [
      "abstract_db.find_one({\"_id\":ObjectId('54f6137f387cca7aa63d6e67')}).keys()"
     ],
     "language": "python",
     "metadata": {},
     "outputs": [
      {
       "metadata": {},
       "output_type": "pyout",
       "prompt_number": 12,
       "text": [
        "[u'reference',\n",
        " u'subject_level_1',\n",
        " u'journal',\n",
        " u'counter_total_all',\n",
        " u'id',\n",
        " u'author_display',\n",
        " u'article_type',\n",
        " u'score',\n",
        " u'title_display',\n",
        " u'publication_date',\n",
        " u'author_without_collab_display',\n",
        " u'_id',\n",
        " u'abstract']"
       ]
      }
     ],
     "prompt_number": 12
    },
    {
     "cell_type": "code",
     "collapsed": false,
     "input": [
      "a,b=search(test_text,N=1)"
     ],
     "language": "python",
     "metadata": {},
     "outputs": [],
     "prompt_number": 53
    },
    {
     "cell_type": "code",
     "collapsed": false,
     "input": [
      "test_vect = vectorize.transform([test_text])"
     ],
     "language": "python",
     "metadata": {},
     "outputs": [],
     "prompt_number": 40
    },
    {
     "cell_type": "code",
     "collapsed": false,
     "input": [
      "test_vect.shape[1]"
     ],
     "language": "python",
     "metadata": {},
     "outputs": [
      {
       "metadata": {},
       "output_type": "pyout",
       "prompt_number": 45,
       "text": [
        "767976"
       ]
      }
     ],
     "prompt_number": 45
    },
    {
     "cell_type": "code",
     "collapsed": false,
     "input": [
      "cosine_similarity(test_vect,test_vect)"
     ],
     "language": "python",
     "metadata": {},
     "outputs": [
      {
       "metadata": {},
       "output_type": "pyout",
       "prompt_number": 46,
       "text": [
        "array([[ 1.]])"
       ]
      }
     ],
     "prompt_number": 46
    },
    {
     "cell_type": "code",
     "collapsed": false,
     "input": [
      "for author in a:\n",
      "    cursor = abstract_db.find({\"author_without_collab_display\":author})\n",
      "    author_abs=[]\n",
      "    author_views=1\n",
      "    for i in cursor:\n",
      "        author_abs.extend(i['abstract'])\n",
      "        author_views+=i['counter_total_all']\n",
      "    average_vector = vectorize.transform(author_abs).mean(axis=0)\n",
      "    print author, author_views\n",
      "    print cosine_similarity(average_vector,test_vect)\n",
      "    print pairwise_distances(average_vector,test_vect, metric='cosine')"
     ],
     "language": "python",
     "metadata": {},
     "outputs": [
      {
       "output_type": "stream",
       "stream": "stdout",
       "text": [
        "Trond M. Michelsen 90\n",
        "[[ 0.15740604]]\n",
        "[[ 0.84259396]]\n",
        "Marie Cecilie P. Roland 90\n",
        "[[ 0.15740604]]\n",
        "[[ 0.84259396]]"
       ]
      },
      {
       "output_type": "stream",
       "stream": "stdout",
       "text": [
        "\n",
        "Ane M. Holme 90\n",
        "[[ 0.15740604]]\n",
        "[[ 0.84259396]]\n",
        "Tore Henriksen"
       ]
      },
      {
       "output_type": "stream",
       "stream": "stdout",
       "text": [
        " 90\n",
        "[[ 0.15740604]]\n",
        "[[ 0.84259396]]\n",
        "Bj\u00f8rg Lorentzen 90\n",
        "[[ 0.15740604]]"
       ]
      },
      {
       "output_type": "stream",
       "stream": "stdout",
       "text": [
        "\n",
        "[[ 0.84259396]]\n"
       ]
      }
     ],
     "prompt_number": 54
    },
    {
     "cell_type": "code",
     "collapsed": false,
     "input": [
      "b "
     ],
     "language": "python",
     "metadata": {},
     "outputs": [
      {
       "metadata": {},
       "output_type": "pyout",
       "prompt_number": 37,
       "text": [
        "{u'A Study on the Fundamental Mechanism and the Evolutionary Driving Forces behind Aerobic Fermentation in Yeast': {'authors': [u'Arne Hagman',\n",
        "   u'Jure Pi\\u0161kur'],\n",
        "  'dist': 0.94603190751632837,\n",
        "  'subjects': [u'Physical sciences', u'Biology and life sciences'],\n",
        "  'views': 701},\n",
        " u'Calorie Restriction-Mediated Replicative Lifespan Extension in Yeast Is Non-Cell Autonomous': {'authors': [u'Szu-Chieh Mei',\n",
        "   u'Charles Brenner'],\n",
        "  'dist': 0.94491669060318806,\n",
        "  'subjects': [u'Biology and life sciences',\n",
        "   u'Physical sciences',\n",
        "   u'Research and analysis methods',\n",
        "   u'Engineering and technology'],\n",
        "  'views': 17404},\n",
        " u'Circulating MiRNA-122 Levels Are Associated with Hepatic Necroinflammation and Portal Hypertension in HIV/HCV Coinfection': {'authors': [u'Christian Jansen',\n",
        "   u'Thomas Reiberger',\n",
        "   u'Jia Huang',\n",
        "   u'Hannah Eischeid',\n",
        "   u'Robert Schierwagen',\n",
        "   u'Mattias Mandorfer',\n",
        "   u'Evrim Anadol',\n",
        "   u'Philipp Schwabl',\n",
        "   u'Carolynne Schwarze-Zander',\n",
        "   u'Ute Warnecke-Eberz',\n",
        "   u'Christian P. Strassburg',\n",
        "   u'J\\xfcrgen K. Rockstroh',\n",
        "   u'Markus Peck-Radosavljevic',\n",
        "   u'Margarete Odenthal',\n",
        "   u'Jonel Trebicka'],\n",
        "  'dist': 0.9420842356598742,\n",
        "  'subjects': [u'Biology and life sciences',\n",
        "   u'Medicine and health sciences',\n",
        "   u'Research and analysis methods'],\n",
        "  'views': 367},\n",
        " u'Impaired Increase of Plasma Abscisic Acid in Response to Oral Glucose Load in Type 2 Diabetes and in Gestational Diabetes': {'authors': [u'Pietro Ameri',\n",
        "   u'Santina Bruzzone',\n",
        "   u'Elena Mannino',\n",
        "   u'Giovanna Sociali',\n",
        "   u'Gabriella Andraghetti',\n",
        "   u'Annalisa Salis',\n",
        "   u'Monica Laura Ponta',\n",
        "   u'Lucia Briatore',\n",
        "   u'Giovanni F. Adami',\n",
        "   u'Antonella Ferraiolo',\n",
        "   u'Pier Luigi Venturini',\n",
        "   u'Davide Maggi',\n",
        "   u'Renzo Cordera',\n",
        "   u'Giovanni Murialdo',\n",
        "   u'Elena Zocchi'],\n",
        "  'dist': 0.91294923138733952,\n",
        "  'subjects': [u'Medicine and health sciences',\n",
        "   u'Physical sciences',\n",
        "   u'Biology and life sciences'],\n",
        "  'views': 0},\n",
        " u'Long-Term Pancreatic Beta Cell Exposure to High Levels of Glucose but Not Palmitate Induces DNA Methylation within the Insulin Gene Promoter and Represses Transcriptional Activity': {'authors': [u'Kota Ishikawa',\n",
        "   u'Shin Tsunekawa',\n",
        "   u'Makoto Ikeniwa',\n",
        "   u'Takako Izumoto',\n",
        "   u'Atsushi Iida',\n",
        "   u'Hidetada Ogata',\n",
        "   u'Eita Uenishi',\n",
        "   u'Yusuke Seino',\n",
        "   u'Nobuaki Ozaki',\n",
        "   u'Yoshihisa Sugimura',\n",
        "   u'Yoji Hamada',\n",
        "   u'Akio Kuroda',\n",
        "   u'Keiko Shinjo',\n",
        "   u'Yutaka Kondo',\n",
        "   u'Yutaka Oiso'],\n",
        "  'dist': 0.93725630869760046,\n",
        "  'subjects': [u'Biology and life sciences',\n",
        "   u'Physical sciences',\n",
        "   u'Research and analysis methods',\n",
        "   u'Medicine and health sciences'],\n",
        "  'views': 664},\n",
        " u'Natural Variation in Preparation for Nutrient Depletion Reveals a Cost\\u2013Benefit Tradeoff': {'authors': [u'Jue Wang',\n",
        "   u'Esha Atolia',\n",
        "   u'Bo Hua',\n",
        "   u'Yonatan Savir',\n",
        "   u'Renan Escalante-Chong',\n",
        "   u'Michael Springer'],\n",
        "  'dist': 0.91953584098181762,\n",
        "  'subjects': [u'Research and analysis methods',\n",
        "   u'Physical sciences',\n",
        "   u'Biology and life sciences'],\n",
        "  'views': 16657},\n",
        " u'Non-Invasive, Simultaneous Quantification of Vascular Oxygenation and Glucose Uptake in Tissue': {'authors': [u'Narasimhan Rajaram',\n",
        "   u'Andrew F. Reesor',\n",
        "   u'Christine S. Mulvey',\n",
        "   u'Amy E. Frees',\n",
        "   u'Nirmala Ramanujam'],\n",
        "  'dist': 0.94126634519609764,\n",
        "  'subjects': [u'Physical sciences',\n",
        "   u'Medicine and health sciences',\n",
        "   u'Biology and life sciences',\n",
        "   u'Research and analysis methods'],\n",
        "  'views': 267},\n",
        " u'Placental Glucose Transfer: A Human In Vivo Study': {'authors': [u'Ane M. Holme',\n",
        "   u'Marie Cecilie P. Roland',\n",
        "   u'Bj\\xf8rg Lorentzen',\n",
        "   u'Trond M. Michelsen',\n",
        "   u'Tore Henriksen'],\n",
        "  'dist': 0.8425939598118215,\n",
        "  'subjects': [u'Physical sciences',\n",
        "   u'Biology and life sciences',\n",
        "   u'Medicine and health sciences'],\n",
        "  'views': 89},\n",
        " u'Population Diversification in a Yeast Metabolic Program Promotes Anticipation of Environmental Shifts': {'authors': [u'Ophelia S. Venturelli',\n",
        "   u'Ignacio Zuleta',\n",
        "   u'Richard M. Murray',\n",
        "   u'Hana El-Samad'],\n",
        "  'dist': 0.92759214997610173,\n",
        "  'subjects': [u'Research and analysis methods',\n",
        "   u'Computer and information sciences',\n",
        "   u'Physical sciences',\n",
        "   u'Biology and life sciences',\n",
        "   u'Engineering and technology'],\n",
        "  'views': 17361},\n",
        " u'The Transfection of BDNF to Dopamine Neurons Potentiates the Effect of Dopamine D3 Receptor Agonist Recovering the Striatal Innervation, Dendritic Spines and Motor Behavior in an Aged Rat Model of Parkinson\\u2019s Disease': {'authors': [u'Luis F. Razgado-Hernandez',\n",
        "   u'Armando J. Espadas-Alvarez',\n",
        "   u'Patricia Reyna-Velazquez',\n",
        "   u'Arturo Sierra-Sanchez',\n",
        "   u'Veronica Anaya-Martinez',\n",
        "   u'Ismael Jimenez-Estrada',\n",
        "   u'Michael J. Bannon',\n",
        "   u'Daniel Martinez-Fong',\n",
        "   u'Jorge Aceves-Ruiz'],\n",
        "  'dist': 0.94420925276764156,\n",
        "  'subjects': [u'Biology and life sciences',\n",
        "   u'Medicine and health sciences',\n",
        "   u'Research and analysis methods',\n",
        "   u'Physical sciences'],\n",
        "  'views': 639}}"
       ]
      }
     ],
     "prompt_number": 37
    },
    {
     "cell_type": "code",
     "collapsed": false,
     "input": [
      "irmak = \"Studying the interaction between a system's components and the temporal evolution of the system are two common ways to uncover and characterize its internal workings. Recently, several maps from a time series to a network have been proposed with the intent of using network metrics to characterize time series. Although these maps demonstrate that different time series result in networks with distinct topological properties, it remains unclear how these topological properties relate to the original time series. Here, we propose a map from a time series to a network with an approximate inverse operation, making it possible to use network statistics to characterize time series and time series statistics to characterize networks. As a proof of concept, we generate an ensemble of time series ranging from periodic to random and confirm that application of the proposed map retains much of the information encoded in the original time series (or networks) after application of the map (or its inverse). Our results suggest that network analysis can be used to distinguish different dynamic regimes in time series and, perhaps more importantly, time series analysis can provide a powerful set of tools that augment the traditional network analysis toolkit to quantify networks in new and useful ways.\""
     ],
     "language": "python",
     "metadata": {},
     "outputs": [],
     "prompt_number": 56
    },
    {
     "cell_type": "code",
     "collapsed": false,
     "input": [
      " irmak_vect=vectorize.transform([irmak])"
     ],
     "language": "python",
     "metadata": {},
     "outputs": [],
     "prompt_number": 62
    },
    {
     "cell_type": "code",
     "collapsed": false,
     "input": [
      "f,g = search(irmak)"
     ],
     "language": "python",
     "metadata": {},
     "outputs": [],
     "prompt_number": 58
    },
    {
     "cell_type": "code",
     "collapsed": false,
     "input": [
      "auth_score=[]\n",
      "\n",
      "for author in f:\n",
      "    cursor = abstract_db.find({\"author_without_collab_display\":author})\n",
      "    author_abs=[]\n",
      "    author_views=1\n",
      "    for i in cursor:\n",
      "        author_abs.extend(i['abstract'])\n",
      "        author_views+=i['counter_total_all']\n",
      "    average_vector = vectorize.transform(author_abs).mean(axis=0)\n",
      "    print author, author_views\n",
      "    print cosine_similarity(average_vector,irmak_vect)\n",
      "    auth_score.append((author,cosine_similarity(average_vector,irmak_vect)[0][0]*author_views))\n",
      "    \n",
      "    \n",
      "    "
     ],
     "language": "python",
     "metadata": {},
     "outputs": [
      {
       "output_type": "stream",
       "stream": "stdout",
       "text": [
        "Yan Chen 1304\n",
        "[[ 0.05136934]]\n",
        "Xiaoming Zhang 585\n",
        "[[ 0.09415369]]\n",
        "Nigel Stepp"
       ]
      },
      {
       "output_type": "stream",
       "stream": "stdout",
       "text": [
        " 3648\n",
        "[[ 0.05122707]]\n",
        "Elizabeth N. Davison 3063\n",
        "[[ 0.05307574]]\n",
        "Axel Kleidon"
       ]
      },
      {
       "output_type": "stream",
       "stream": "stdout",
       "text": [
        " 1\n",
        "[[ 0.07962235]]\n",
        "Giulia Gatti 101\n",
        "[[ 0.05645021]]\n",
        "Francesco Massa"
       ]
      },
      {
       "output_type": "stream",
       "stream": "stdout",
       "text": [
        " 101\n",
        "[[ 0.05645021]]\n",
        "Gian Luca Romani 1647\n",
        "[[ 0.06512529]]\n",
        "Hidde de Jong"
       ]
      },
      {
       "output_type": "stream",
       "stream": "stdout",
       "text": [
        " 2340\n",
        "[[ 0.14116762]]\n",
        "Narayan Srinivasa 3648\n",
        "[[ 0.05122707]]\n",
        "Yitao Wang"
       ]
      },
      {
       "output_type": "stream",
       "stream": "stdout",
       "text": [
        " 186\n",
        "[[ 0.04872976]]\n",
        "Zhoujun Li 585\n",
        "[[ 0.09415369]]\n",
        "Jin Qi"
       ]
      },
      {
       "output_type": "stream",
       "stream": "stdout",
       "text": [
        " 186\n",
        "[[ 0.04872976]]\n",
        "Diana Stefan 2340\n",
        "[[ 0.14116762]]\n",
        "Yang Yang"
       ]
      },
      {
       "output_type": "stream",
       "stream": "stdout",
       "text": [
        " 1168\n",
        "[[ 0.06980317]]\n",
        "Kimberly J. Schlesinger 3063\n",
        "[[ 0.05307574]]\n",
        "Gustavo Deco"
       ]
      },
      {
       "output_type": "stream",
       "stream": "stdout",
       "text": [
        " 1647\n",
        "[[ 0.06512529]]\n",
        "Dante Mantini 1647\n",
        "[[ 0.06512529]]\n",
        "Diego R. Amancio"
       ]
      },
      {
       "output_type": "stream",
       "stream": "stdout",
       "text": [
        " 134\n",
        "[[ 0.05263744]]\n",
        "Michael B. Miller 3063\n",
        "[[ 0.05307574]]\n",
        "Jakob Fischer"
       ]
      },
      {
       "output_type": "stream",
       "stream": "stdout",
       "text": [
        " 1\n",
        "[[ 0.07962235]]\n",
        "Adri\u00e1n Ponce-Alvarez 1647\n",
        "[[ 0.06512529]]\n",
        "Corinne Pinel"
       ]
      },
      {
       "output_type": "stream",
       "stream": "stdout",
       "text": [
        " 2340\n",
        "[[ 0.14116762]]\n",
        "Danielle S. Bassett 3063\n",
        "[[ 0.05307574]]"
       ]
      },
      {
       "output_type": "stream",
       "stream": "stdout",
       "text": [
        "\n",
        "Carolina Oi Lam Ung 186\n",
        "[[ 0.04872976]]\n",
        "Eugenio Cinquemani"
       ]
      },
      {
       "output_type": "stream",
       "stream": "stdout",
       "text": [
        " 2340\n",
        "[[ 0.14116762]]\n",
        "Peter Dittrich 1\n",
        "[[ 0.07962235]]"
       ]
      },
      {
       "output_type": "stream",
       "stream": "stdout",
       "text": [
        "\n",
        "Carlo Nike Bianchi 101\n",
        "[[ 0.05645021]]\n",
        "Jean M. Carlson"
       ]
      },
      {
       "output_type": "stream",
       "stream": "stdout",
       "text": [
        " 3195\n",
        "[[ 0.03913708]]\n",
        "Dietmar Plenz 4381\n",
        "[[ 0.04098642]]"
       ]
      },
      {
       "output_type": "stream",
       "stream": "stdout",
       "text": [
        "\n",
        "Fan Ding 458\n",
        "[[ 0.03452557]]\n",
        "Senzhang Wang"
       ]
      },
      {
       "output_type": "stream",
       "stream": "stdout",
       "text": [
        " 585\n",
        "[[ 0.09415369]]\n",
        "Alessio Rovere 101\n",
        "[[ 0.05645021]]\n",
        "Scott T. Grafton"
       ]
      },
      {
       "output_type": "stream",
       "stream": "stdout",
       "text": [
        " 3063\n",
        "[[ 0.05307574]]\n",
        "Johannes Geiselmann 2340\n",
        "[[ 0.14116762]]\n",
        "Sadra Sadeh"
       ]
      },
      {
       "output_type": "stream",
       "stream": "stdout",
       "text": [
        " 2012\n",
        "[[ 0.05028402]]\n",
        "Carla Morri 101\n",
        "[[ 0.05645021]]\n",
        "Monica Montefalcone"
       ]
      },
      {
       "output_type": "stream",
       "stream": "stdout",
       "text": [
        " 101\n",
        "[[ 0.05645021]]\n",
        "Mary-Ellen Lynall 3063\n",
        "[[ 0.05307574]]\n",
        "Valeriano Parravicini"
       ]
      },
      {
       "output_type": "stream",
       "stream": "stdout",
       "text": [
        " 101\n",
        "[[ 0.05645021]]\n",
        "Yuanjia Hu 186\n",
        "[[ 0.04872976]]\n",
        "Yifan Han"
       ]
      },
      {
       "output_type": "stream",
       "stream": "stdout",
       "text": [
        " 186\n",
        "[[ 0.04872976]]\n",
        "Patric Hagmann 2079\n",
        "[[ 0.04611939]]\n",
        "Stefan Rotter"
       ]
      },
      {
       "output_type": "stream",
       "stream": "stdout",
       "text": [
        " 2012\n",
        "[[ 0.05028402]]\n",
        "Andrea Peirano 101\n",
        "[[ 0.05645021]]\n",
        "Maurizio Corbetta"
       ]
      },
      {
       "output_type": "stream",
       "stream": "stdout",
       "text": [
        " 1647\n",
        "[[ 0.06512529]]\n",
        "Qianru Zhang 186\n",
        "[[ 0.04872976]]\n",
        "St\u00e9phane Pinhal"
       ]
      },
      {
       "output_type": "stream",
       "stream": "stdout",
       "text": [
        " 2340\n",
        "[[ 0.14116762]]\n"
       ]
      }
     ],
     "prompt_number": 65
    },
    {
     "cell_type": "code",
     "collapsed": false,
     "input": [
      "sorted(auth_score, key=lambda x:x[1],reverse=True)\n"
     ],
     "language": "python",
     "metadata": {},
     "outputs": [
      {
       "metadata": {},
       "output_type": "pyout",
       "prompt_number": 71,
       "text": [
        "[(u'Hidde de Jong', 330.3322366645927),\n",
        " (u'Diana Stefan', 330.3322366645927),\n",
        " (u'Corinne Pinel', 330.3322366645927),\n",
        " (u'Eugenio Cinquemani', 330.3322366645927),\n",
        " (u'Johannes Geiselmann', 330.3322366645927),\n",
        " (u'St\\xe9phane Pinhal', 330.3322366645927),\n",
        " (u'Nigel Stepp', 186.87634613514462),\n",
        " (u'Narayan Srinivasa', 186.87634613514462),\n",
        " (u'Dietmar Plenz', 179.56150083723401),\n",
        " (u'Elizabeth N. Davison', 162.57098425671865),\n",
        " (u'Kimberly J. Schlesinger', 162.57098425671865),\n",
        " (u'Michael B. Miller', 162.57098425671865),\n",
        " (u'Danielle S. Bassett', 162.57098425671865),\n",
        " (u'Scott T. Grafton', 162.57098425671865),\n",
        " (u'Mary-Ellen Lynall', 162.57098425671865),\n",
        " (u'Jean M. Carlson', 125.0429642374052),\n",
        " (u'Gian Luca Romani', 107.26135426698103),\n",
        " (u'Gustavo Deco', 107.26135426698103),\n",
        " (u'Dante Mantini', 107.26135426698103),\n",
        " (u'Adri\\xe1n Ponce-Alvarez', 107.26135426698103),\n",
        " (u'Maurizio Corbetta', 107.26135426698103),\n",
        " (u'Sadra Sadeh', 101.17145114760814),\n",
        " (u'Stefan Rotter', 101.17145114760814),\n",
        " (u'Patric Hagmann', 95.882219963511218),\n",
        " (u'Yang Yang', 81.53010544765776),\n",
        " (u'Yan Chen', 66.985618959089308),\n",
        " (u'Xiaoming Zhang', 55.079907486124839),\n",
        " (u'Zhoujun Li', 55.079907486124839),\n",
        " (u'Senzhang Wang', 55.079907486124839),\n",
        " (u'Fan Ding', 15.812710921115515),\n",
        " (u'Yitao Wang', 9.0637348747338269),\n",
        " (u'Jin Qi', 9.0637348747338269),\n",
        " (u'Carolina Oi Lam Ung', 9.0637348747338269),\n",
        " (u'Yuanjia Hu', 9.0637348747338269),\n",
        " (u'Yifan Han', 9.0637348747338269),\n",
        " (u'Qianru Zhang', 9.0637348747338269),\n",
        " (u'Diego R. Amancio', 7.053416375707882),\n",
        " (u'Giulia Gatti', 5.7014711370762825),\n",
        " (u'Francesco Massa', 5.7014711370762825),\n",
        " (u'Carlo Nike Bianchi', 5.7014711370762825),\n",
        " (u'Alessio Rovere', 5.7014711370762825),\n",
        " (u'Carla Morri', 5.7014711370762825),\n",
        " (u'Monica Montefalcone', 5.7014711370762825),\n",
        " (u'Valeriano Parravicini', 5.7014711370762825),\n",
        " (u'Andrea Peirano', 5.7014711370762825),\n",
        " (u'Axel Kleidon', 0.079622351854290938),\n",
        " (u'Jakob Fischer', 0.079622351854290938),\n",
        " (u'Peter Dittrich', 0.079622351854290938)]"
       ]
      }
     ],
     "prompt_number": 71
    },
    {
     "cell_type": "code",
     "collapsed": false,
     "input": [
      "c = abstract_db.find({\"author_without_collab_display\":'Dominic Del Re' })\n",
      "for i in c:\n",
      "    print i"
     ],
     "language": "python",
     "metadata": {},
     "outputs": [],
     "prompt_number": 149
    },
    {
     "cell_type": "code",
     "collapsed": false,
     "input": [
      "relevent_authors(irmak)"
     ],
     "language": "python",
     "metadata": {},
     "outputs": [
      {
       "metadata": {},
       "output_type": "pyout",
       "prompt_number": 87,
       "text": [
        "[(u'Hidde de Jong', 330.3322366645927),\n",
        " (u'Diana Stefan', 330.3322366645927),\n",
        " (u'Corinne Pinel', 330.3322366645927),\n",
        " (u'Eugenio Cinquemani', 330.3322366645927),\n",
        " (u'Johannes Geiselmann', 330.3322366645927),\n",
        " (u'St\\xe9phane Pinhal', 330.3322366645927),\n",
        " (u'Nigel Stepp', 186.87634613514462),\n",
        " (u'Narayan Srinivasa', 186.87634613514462),\n",
        " (u'Dietmar Plenz', 179.56150083723401)]"
       ]
      }
     ],
     "prompt_number": 87
    },
    {
     "cell_type": "code",
     "collapsed": false,
     "input": [
      "second_text='The plant hormone abscisic acid (ABA) is present and active in humans, regulating glucose homeostasis. In normal glucose tolerant (NGT) human subjects, plasma ABA (ABAp) increases 5-fold after an oral glucose load. The aim of this study was to assess the effect of an oral glucose load on ABAp in type 2 diabetes (T2D) subjects. We chose two sub-groups of patients who underwent an oral glucose load for diagnostic purposes: i) 9 treatment-naive T2D subjects, and ii) 9 pregnant women with gestational diabetes (GDM), who underwent the glucose load before and 8\u201312 weeks after childbirth. Each group was compared with matched NGT controls. The increase of ABAp in response to glucose was found to be abrogated in T2D patients compared to NGT controls. A similar result was observed in the women with GDM compared to pregnant NGT controls; 8\u201312 weeks after childbirth, however, fasting ABAp and ABAp response to glucose were restored to normal in the GDM subjects, along with glucose tolerance. We also retrospectively compared fasting ABAp before and after bilio-pancreatic diversion (BPD) in obese, but not diabetic subjects, and in obese T2D patients, in which BPD resulted in the resolution of diabetes. Compared to pre-BPD values, basal ABAp significantly increased 1 month after BPD in T2D as well as in NGT subjects, in parallel with a reduction of fasting plasma glucose. These results indicate an impaired hyperglycemia-induced ABAp increase in T2D and in GDM and suggest a beneficial effect of elevated ABAp on glycemic control.'"
     ],
     "language": "python",
     "metadata": {},
     "outputs": [],
     "prompt_number": 89
    },
    {
     "cell_type": "code",
     "collapsed": false,
     "input": [
      "relevent_subjects(domonic1, method='tfidf')"
     ],
     "language": "python",
     "metadata": {},
     "outputs": [
      {
       "metadata": {},
       "output_type": "pyout",
       "prompt_number": 153,
       "text": [
        "Set([u'Biology and life sciences', u'Physical sciences', u'Medicine and health sciences', u'Research and analysis methods', u'Computer and information sciences'])"
       ]
      }
     ],
     "prompt_number": 153
    },
    {
     "cell_type": "code",
     "collapsed": false,
     "input": [
      "relevent_authors(domonic1,N=50,TOP=30,match=2, method='topic')"
     ],
     "language": "python",
     "metadata": {},
     "outputs": [
      {
       "metadata": {},
       "output_type": "pyout",
       "prompt_number": 143,
       "text": [
        "[(u'David L. Dill', array([[ 14921.]])),\n",
        " (u'Ying Li', array([[ 4401.]])),\n",
        " (u'Markus Schneider', array([[ 2728.]])),\n",
        " (u'Tobias Troost', array([[ 2728.]])),\n",
        " (u'Thomas Klein', array([[ 2728.]])),\n",
        " (u'Yue Wang', array([[ 2470.]])),\n",
        " (u'Nicolas Le Nov\\xe8re', array([[ 2385.]])),\n",
        " (u'Stuart J. Edelstein', array([[ 2385.]])),\n",
        " (u'Didem P. Sarikaya', array([[ 2231.]])),\n",
        " (u'Cassandra G. Extavour', array([[ 2231.]])),\n",
        " (u'Damien Coudreuse', array([[ 2190.]])),\n",
        " (u'B\\xe9la Nov\\xe1k', array([[ 2190.]])),\n",
        " (u'Claude G\\xe9rard', array([[ 2190.]])),\n",
        " (u'John J. Tyson', array([[ 2190.]])),\n",
        " (u'Massimo Lai', array([[ 2156.]])),\n",
        " (u'Denis Brun', array([[ 2156.]])),\n",
        " (u'Li Li', array([[ 2001.]])),\n",
        " (u'Matthew C. Lorincz', array([[ 1968.]])),\n",
        " (u'Vered Dulberg', array([[ 1968.]])),\n",
        " (u'Carol Chen', array([[ 1968.]])),\n",
        " (u'Leonard J. Foster', array([[ 1968.]])),\n",
        " (u'Mohammad M. Karimi', array([[ 1968.]])),\n",
        " (u'Peter J. Thompson', array([[ 1968.]])),\n",
        " (u'Kyung-Mee Moon', array([[ 1968.]])),\n",
        " (u'Jonathan P. Richardson', array([[ 1937.]])),\n",
        " (u'Peter E. Sudbery', array([[ 1937.]])),\n",
        " (u'Ian M. Sudbery', array([[ 1937.]])),\n",
        " (u'Julian R. Naglik', array([[ 1937.]])),\n",
        " (u'Jamie A. Greig', array([[ 1937.]]))]"
       ]
      }
     ],
     "prompt_number": 143
    },
    {
     "cell_type": "code",
     "collapsed": false,
     "input": [
      "[(u'Dietmar Plenz', array([[ 4480.]])),\n",
      " (u'Nigel Stepp', array([[ 3747.]])),\n",
      " (u'Narayan Srinivasa', array([[ 3747.]])),\n",
      " (u'Jean M. Carlson', array([[ 3294.]])),\n",
      " (u'Jean-Jacques Slotine', array([[ 3178.]])),\n",
      " (u'Rodney Douglas', array([[ 3178.]])),\n",
      " (u'Ueli Rutishauser', array([[ 3178.]])),\n",
      " (u'Elizabeth N. Davison', array([[ 3162.]])),\n",
      " (u'Kimberly J. Schlesinger', array([[ 3162.]])),\n",
      " (u'Michael B. Miller', array([[ 3162.]])),\n",
      " (u'Danielle S. Bassett', array([[ 3162.]])),\n",
      " (u'Scott T. Grafton', array([[ 3162.]])),\n",
      " (u'Mary-Ellen Lynall', array([[ 3162.]])),\n",
      " (u'Hidde de Jong', array([[ 2439.]])),\n",
      " (u'Diana Stefan', array([[ 2439.]])),\n",
      " (u'Corinne Pinel', array([[ 2439.]])),\n",
      " (u'Johannes Geiselmann', array([[ 2439.]])),\n",
      " (u'Eugenio Cinquemani', array([[ 2439.]])),\n",
      " (u'St\\xe9phane Pinhal', array([[ 2439.]]))]"
     ],
     "language": "python",
     "metadata": {},
     "outputs": []
    },
    {
     "cell_type": "code",
     "collapsed": false,
     "input": [
      "search(irmak,method='topic')"
     ],
     "language": "python",
     "metadata": {},
     "outputs": [
      {
       "metadata": {},
       "output_type": "pyout",
       "prompt_number": 118,
       "text": [
        "(Set([u'Massimo Marchiori', u'Yan Chen', u'Xiaoming Zhang', u'Nigel Stepp', u'Elizabeth N. Davison', u'Axel Kleidon', u'Jean-Jacques Slotine', u'Giulia Gatti', u'Francesco Massa', u'Gian Luca Romani', u'Hidde de Jong', u'Narayan Srinivasa', u'Zhoujun Li', u'Diana Stefan', u'Sadra Sadeh', u'Kimberly J. Schlesinger', u'Gustavo Deco', u'Dante Mantini', u'Michael B. Miller', u'Jakob Fischer', u'Yang Yang', u'Adri\\xe1n Ponce-Alvarez', u'Corinne Pinel', u'Danielle S. Bassett', u'Stefan Rotter', u'Lino Possamai', u'Peter Dittrich', u'Carlo Nike Bianchi', u'Jean M. Carlson', u'Dietmar Plenz', u'Rodney Douglas', u'Senzhang Wang', u'Alessio Rovere', u'Scott T. Grafton', u'Johannes Geiselmann', u'Carla Morri', u'Monica Montefalcone', u'Mary-Ellen Lynall', u'Valeriano Parravicini', u'Ueli Rutishauser', u'Patric Hagmann', u'Eugenio Cinquemani', u'Andrea Peirano', u'Maurizio Corbetta', u'St\\xe9phane Pinhal']),\n",
        " {u'Brain Network Adaptability across Task States': {'authors': [u'Elizabeth N. Davison',\n",
        "    u'Kimberly J. Schlesinger',\n",
        "    u'Danielle S. Bassett',\n",
        "    u'Mary-Ellen Lynall',\n",
        "    u'Michael B. Miller',\n",
        "    u'Scott T. Grafton',\n",
        "    u'Jean M. Carlson'],\n",
        "   'dist': 0.73334451018112579,\n",
        "   'subjects': [u'Biology and life sciences',\n",
        "    u'Medicine and health sciences',\n",
        "    u'Social sciences',\n",
        "    u'Research and analysis methods',\n",
        "    u'Computer and information sciences'],\n",
        "   'views': 3062},\n",
        "  u'Computation in Dynamically Bounded Asymmetric Systems': {'authors': [u'Ueli Rutishauser',\n",
        "    u'Jean-Jacques Slotine',\n",
        "    u'Rodney Douglas'],\n",
        "   'dist': 0.76497277022997201,\n",
        "   'subjects': [u'Computer and information sciences',\n",
        "    u'Physical sciences',\n",
        "    u'Biology and life sciences'],\n",
        "   'views': 3078},\n",
        "  u'Ecological Change, Sliding Baselines and the Importance of Historical Data: Lessons from Combing Observational and Quantitative Data on a Temperate Reef Over 70 Years': {'authors': [u'Giulia Gatti',\n",
        "    u'Carlo Nike Bianchi',\n",
        "    u'Valeriano Parravicini',\n",
        "    u'Alessio Rovere',\n",
        "    u'Andrea Peirano',\n",
        "    u'Monica Montefalcone',\n",
        "    u'Francesco Massa',\n",
        "    u'Carla Morri'],\n",
        "   'dist': 0.75810036360996147,\n",
        "   'subjects': [u'Earth sciences',\n",
        "    u'Ecology and environmental sciences',\n",
        "    u'Biology and life sciences'],\n",
        "   'views': 100},\n",
        "  u'Improving the Robustness of Complex Networks with Preserving Community Structure': {'authors': [u'Yang Yang',\n",
        "    u'Zhoujun Li',\n",
        "    u'Yan Chen',\n",
        "    u'Xiaoming Zhang',\n",
        "    u'Senzhang Wang'],\n",
        "   'dist': 0.49452029090085325,\n",
        "   'subjects': [u'Biology and life sciences',\n",
        "    u'Engineering and technology',\n",
        "    u'Computer and information sciences',\n",
        "    u'Ecology and environmental sciences',\n",
        "    u'Earth sciences',\n",
        "    u'Social sciences',\n",
        "    u'Physical sciences'],\n",
        "   'views': 584},\n",
        "  u'Inference of Quantitative Models of Bacterial Promoters from Time-Series Reporter Gene Data': {'authors': [u'Diana Stefan',\n",
        "    u'Corinne Pinel',\n",
        "    u'St\\xe9phane Pinhal',\n",
        "    u'Eugenio Cinquemani',\n",
        "    u'Johannes Geiselmann',\n",
        "    u'Hidde de Jong'],\n",
        "   'dist': 0.54697025882120598,\n",
        "   'subjects': [u'Biology and life sciences', u'Physical sciences'],\n",
        "   'views': 2339},\n",
        "  u'Micro-Macro Analysis of Complex Networks': {'authors': [u'Massimo Marchiori',\n",
        "    u'Lino Possamai'],\n",
        "   'dist': 0.73723829957540654,\n",
        "   'subjects': [u'Computer and information sciences',\n",
        "    u'Physical sciences',\n",
        "    u'Engineering and technology',\n",
        "    u'Social sciences',\n",
        "    u'Biology and life sciences'],\n",
        "   'views': 804},\n",
        "  u'Orientation Selectivity in Inhibition-Dominated Networks of Spiking Neurons: Effect of Single Neuron Properties and Network Dynamics': {'authors': [u'Sadra Sadeh',\n",
        "    u'Stefan Rotter'],\n",
        "   'dist': 0.71456056114656974,\n",
        "   'subjects': [u'Biology and life sciences',\n",
        "    u'Research and analysis methods',\n",
        "    u'Computer and information sciences',\n",
        "    u'Physical sciences',\n",
        "    u'Medicine and health sciences'],\n",
        "   'views': 2011},\n",
        "  u'Resting-State Temporal Synchronization Networks Emerge from Connectivity Topology and Heterogeneity': {'authors': [u'Adri\\xe1n Ponce-Alvarez',\n",
        "    u'Gustavo Deco',\n",
        "    u'Patric Hagmann',\n",
        "    u'Gian Luca Romani',\n",
        "    u'Dante Mantini',\n",
        "    u'Maurizio Corbetta'],\n",
        "   'dist': 0.63441927882313709,\n",
        "   'subjects': [u'Biology and life sciences',\n",
        "    u'Medicine and health sciences',\n",
        "    u'Physical sciences',\n",
        "    u'Research and analysis methods',\n",
        "    u'Computer and information sciences',\n",
        "    u'Engineering and technology'],\n",
        "   'views': 1646},\n",
        "  u'Synaptic Plasticity Enables Adaptive Self-Tuning Critical Networks': {'authors': [u'Nigel Stepp',\n",
        "    u'Dietmar Plenz',\n",
        "    u'Narayan Srinivasa'],\n",
        "   'dist': 0.71770072730577716,\n",
        "   'subjects': [u'Medicine and health sciences',\n",
        "    u'Biology and life sciences',\n",
        "    u'Research and analysis methods',\n",
        "    u'Computer and information sciences'],\n",
        "   'views': 3647},\n",
        "  u'Thermodynamics of Random Reaction Networks': {'authors': [u'Jakob Fischer',\n",
        "    u'Axel Kleidon',\n",
        "    u'Peter Dittrich'],\n",
        "   'dist': 0.57697589613837108,\n",
        "   'subjects': [u'Physical sciences', u'Computer and information sciences'],\n",
        "   'views': 0}},\n",
        " Set([u'Biology and life sciences', u'Engineering and technology', u'Computer and information sciences', u'Earth sciences', u'Research and analysis methods', u'Physical sciences', u'Ecology and environmental sciences', u'Medicine and health sciences', u'Social sciences']),\n",
        " array([[ -6.98194390e-03,  -5.11195778e-02,  -1.34511683e-02,\n",
        "           1.79662136e-03,  -2.48233238e-02,  -8.82958149e-03,\n",
        "          -6.72927286e-03,   1.25137471e-02,   1.10995438e-02,\n",
        "          -3.52397837e-02,  -1.26249675e-02,   5.31507739e-02,\n",
        "           4.61735027e-03,   2.30453482e-02,  -2.86669118e-02,\n",
        "          -8.19000549e-04,  -3.50877825e-03,   8.52196804e-03,\n",
        "          -1.90770001e-03,  -9.83241931e-03,   1.78842303e-02,\n",
        "           2.58433751e-02,   1.72437618e-02,  -5.62632542e-03,\n",
        "          -3.16663518e-03,   4.10414377e-02,   2.52061574e-02,\n",
        "          -1.95584029e-03,  -4.76482620e-03,  -1.80648647e-02,\n",
        "           5.52762049e-03,   1.28498190e-02,   1.68583206e-02,\n",
        "          -8.68639379e-03,  -4.58747416e-03,  -1.28340281e-02,\n",
        "           2.68376753e-02,  -1.95693974e-03,  -2.68743910e-03,\n",
        "           1.11239580e-02,  -1.69566642e-02,   9.10167601e-03,\n",
        "           1.56073096e-02,   6.13112935e-03,  -9.20002954e-03,\n",
        "           7.90863021e-03,  -2.36003114e-02,  -1.87875176e-04,\n",
        "          -1.45474282e-02,  -1.35987827e-02,   5.48815248e-02,\n",
        "          -8.19321100e-03,   7.38013190e-03,   9.89577256e-03,\n",
        "           4.39482751e-03,  -1.30092288e-02,   3.76375422e-03,\n",
        "          -7.94637128e-03,  -1.37681072e-02,   4.52875670e-03,\n",
        "          -1.64055856e-02,  -3.18179767e-02,  -8.46155277e-03,\n",
        "          -2.73019898e-02,  -5.15141688e-03,  -5.36385949e-03,\n",
        "           2.04625762e-02,  -1.09237022e-02,   2.11765221e-04,\n",
        "           1.90885099e-02,  -4.83223694e-03,   9.27516464e-03,\n",
        "           6.44408113e-03,   2.17297470e-02,   1.07192909e-02,\n",
        "          -4.88578418e-03,   2.58755891e-02,   2.94931956e-03,\n",
        "           7.75182821e-03,   1.53658541e-03,   2.68457186e-02,\n",
        "           1.89454211e-03,   1.04782324e-02,   4.89463158e-03,\n",
        "          -1.79925439e-02,  -2.28983777e-02,  -4.58952845e-03,\n",
        "          -3.08791717e-03,   5.36773931e-03,   3.17357660e-03,\n",
        "          -1.06229072e-02,   2.45708661e-02,   2.18535092e-02,\n",
        "           8.49952564e-03,  -1.74644292e-02,   2.43282217e-02,\n",
        "           1.63450408e-03,  -1.24965521e-02,   1.85976124e-03,\n",
        "          -8.71221325e-03,   8.18535550e-03,   1.40770333e-02,\n",
        "           1.98573063e-02,   1.96593619e-02,   2.40886884e-02,\n",
        "          -1.58338536e-02,  -1.26950772e-02,   1.09065184e-02,\n",
        "          -9.18731659e-03,  -1.64953069e-02,   2.43463268e-05,\n",
        "          -5.46845272e-04,   8.54088308e-03,  -7.61855988e-03,\n",
        "           7.38830517e-03,   1.10474115e-02,  -2.07633034e-03,\n",
        "          -2.21726429e-03,   1.19633233e-03,   1.37686036e-02,\n",
        "          -1.51312608e-02,   1.86045448e-03,   4.37833349e-03,\n",
        "          -4.82643684e-03,   5.12615758e-04,   4.06282987e-03,\n",
        "          -3.31466125e-03,  -1.10452072e-03,  -1.60923844e-02,\n",
        "          -3.84059774e-03,  -1.41011214e-02,  -2.08082847e-03,\n",
        "           1.45519349e-02,   7.60492126e-03,  -1.12964693e-02,\n",
        "          -1.23276257e-02,   4.66009116e-03,  -4.90169363e-03,\n",
        "          -1.84619916e-02,   2.34372900e-03,   1.13173208e-02,\n",
        "           2.73143788e-03,  -2.37108177e-02,  -6.07189731e-03,\n",
        "          -2.45120561e-03,  -1.00020150e-02,   8.40212304e-04,\n",
        "          -1.76295175e-02,  -5.50213489e-03,   1.19400286e-02,\n",
        "          -2.00332851e-04,  -3.92814908e-03,   1.57392629e-02,\n",
        "           1.43964571e-03,   3.23802323e-05,  -3.58572273e-03,\n",
        "           8.51025980e-03,  -4.77666556e-04,   7.72519202e-03,\n",
        "          -8.20203154e-03,   5.33309990e-03,   8.76588645e-03,\n",
        "          -6.22380271e-03,   7.05117929e-03,   2.66656745e-03,\n",
        "           4.37093790e-03,   6.44853102e-05,  -3.12366601e-04,\n",
        "           2.27484097e-03,   1.26294068e-02,  -1.65048297e-02,\n",
        "           5.42934472e-03,  -3.76777708e-03,   4.22858636e-03,\n",
        "           9.62026746e-03,   3.68770357e-03,  -1.51853646e-02,\n",
        "           8.60061807e-03,  -6.22877340e-04,  -6.46246612e-03,\n",
        "          -6.67784068e-03,  -6.02230439e-03,  -9.57410161e-03,\n",
        "           1.32816294e-02,   2.39113394e-03,   1.11977337e-02,\n",
        "          -7.11841116e-03,  -1.88313255e-02,  -1.14122157e-02,\n",
        "          -7.28963991e-03,  -1.24929835e-02,   1.10552743e-03,\n",
        "           3.99045184e-03,   4.22941880e-03,   4.41269688e-03,\n",
        "           1.50524792e-02,   6.52322299e-03,  -6.58338355e-03,\n",
        "           6.90650762e-03,  -2.04098370e-03,   2.76798235e-05,\n",
        "          -1.69332112e-04,   3.36238844e-03,  -3.93393161e-03,\n",
        "          -1.35528545e-02,   2.37902594e-03,   1.83384832e-04,\n",
        "           8.18433478e-03,   4.43216439e-04,  -1.20495578e-03,\n",
        "           4.91704627e-03,  -1.14600090e-03,  -1.27987285e-02,\n",
        "           1.33968638e-02,  -4.99122776e-03,   7.09726708e-03,\n",
        "           5.85391249e-03,  -3.16599194e-03,   5.61351548e-03,\n",
        "           1.62794485e-02,  -8.10578533e-04,   1.03960822e-02,\n",
        "          -1.05740358e-02,   5.53295595e-03,  -4.70324780e-03,\n",
        "           1.33376975e-02,   1.36573722e-03,   4.11283838e-03,\n",
        "           3.30252185e-03,   5.28617350e-04,  -3.81349238e-03,\n",
        "           2.86516992e-03,   7.42622659e-03,   3.11549544e-03,\n",
        "           7.40484934e-03,   2.72865192e-03,   6.94306493e-03,\n",
        "           8.70467118e-03,   2.87518589e-04,  -4.30234779e-03,\n",
        "          -4.14171929e-03,  -9.53873632e-03,  -2.90122135e-04,\n",
        "           4.02438302e-03,   2.72873890e-03,   9.97708626e-03,\n",
        "          -4.15499675e-03,   4.69054128e-03,  -6.09437031e-03,\n",
        "          -4.52567006e-03,  -7.27904890e-03,  -1.23098721e-03,\n",
        "          -6.98541200e-03,  -1.07404035e-02,  -3.09109450e-03,\n",
        "           8.12835225e-03,  -3.29932758e-03,  -4.29425830e-03,\n",
        "           5.83917680e-04,  -3.86658328e-03,  -7.25542915e-03,\n",
        "          -3.88152427e-03,  -8.61356000e-03,   2.27565956e-03,\n",
        "          -2.04681280e-03,  -5.27946804e-03,   5.81714359e-03,\n",
        "          -1.27823882e-02,  -1.33881342e-02,   1.37491860e-03,\n",
        "          -2.96944826e-03,   3.86957300e-03,   3.74847732e-03,\n",
        "           1.15328357e-02,   1.99631557e-04,   3.02577774e-03,\n",
        "           9.19349725e-05,   1.67281080e-03,  -3.16510250e-03,\n",
        "           3.99502816e-03,   7.07987826e-03,   3.30937000e-03,\n",
        "          -5.00897175e-03,  -9.20702320e-03,  -7.40078958e-03,\n",
        "          -7.83109407e-03,   6.51761913e-04,   1.41417391e-03,\n",
        "           2.74186108e-03,  -8.07964824e-04,  -1.28715500e-03,\n",
        "           2.64993264e-03,  -1.22993340e-02,  -1.61240581e-03,\n",
        "          -2.67185041e-03,  -3.76797779e-03,  -9.81457034e-03,\n",
        "          -3.36903966e-03,   1.23931397e-03,   4.38812058e-03,\n",
        "          -1.16293307e-03,   3.38725566e-03,   3.57827928e-03,\n",
        "          -6.42570355e-03,   4.48042944e-03,  -9.29269258e-03,\n",
        "          -1.53137210e-02,   1.05781926e-02,  -5.30296540e-03,\n",
        "           1.12015062e-02,   2.56437670e-03,   2.52518225e-03,\n",
        "           3.46857412e-04,  -8.37901685e-03,   9.45849193e-04,\n",
        "           4.73497407e-03,  -3.88673393e-03,   1.40933013e-02,\n",
        "           1.56798321e-02,   2.93465955e-03,  -4.58881555e-03,\n",
        "          -8.42885596e-03,   5.59972237e-04,   4.00575953e-03,\n",
        "           3.96543441e-03,   1.33392652e-02,  -8.73772166e-03,\n",
        "           2.20633925e-03,  -7.63341808e-03,  -1.03313592e-02,\n",
        "          -4.21846627e-03,  -1.87331405e-03,  -1.87177788e-03,\n",
        "          -1.42655496e-03,   8.81532156e-04,  -4.26415572e-04,\n",
        "          -3.39044485e-03,   1.16271544e-03,   5.14643828e-03,\n",
        "           6.78692090e-03,  -4.35444980e-03,   1.30582053e-02,\n",
        "          -8.60153815e-03,  -3.29034393e-03,  -8.00596945e-03,\n",
        "           5.25217677e-06,   1.41700834e-02,  -7.20098049e-03,\n",
        "           4.06475915e-03,  -1.56257242e-02,   3.55257550e-03,\n",
        "          -9.45345474e-03,  -5.99229823e-03,   1.79333414e-03,\n",
        "          -2.59513313e-04,  -4.16735347e-03,  -5.26084269e-03,\n",
        "           6.06801184e-03,  -9.07150346e-03,  -1.91891142e-03,\n",
        "           4.25817784e-03,   1.41435209e-03,   1.20961948e-02,\n",
        "           6.24896945e-04,  -6.73400024e-03,   2.08132042e-03,\n",
        "          -5.59659102e-04,  -1.51002614e-03,  -4.95486051e-03,\n",
        "          -1.08793182e-04,  -5.51452861e-03,  -6.90960166e-03,\n",
        "          -4.59040257e-04,   3.61943862e-03,  -5.80517242e-03,\n",
        "          -1.24591024e-03,   1.72663681e-03,   1.65170144e-03,\n",
        "           6.70016289e-04,   7.24246831e-03,  -7.30256005e-03,\n",
        "          -3.35593431e-03,  -1.07389421e-02,   1.73989605e-03,\n",
        "           1.46492606e-03,  -2.05973331e-03,   9.39331014e-04,\n",
        "          -7.21604413e-03,   7.27006835e-03,   4.98451134e-03,\n",
        "           9.40528066e-04,   8.20749041e-03,   9.70678360e-03,\n",
        "           4.21747664e-03,  -9.95778211e-03,  -2.34490470e-03,\n",
        "           1.39956872e-03,  -1.14280210e-02,   5.06802633e-03,\n",
        "          -5.61080000e-03,   2.81144190e-03,   6.81828594e-03,\n",
        "           1.27661255e-02,  -5.85506490e-04,   9.09581075e-03,\n",
        "          -2.28918815e-03,  -5.05673435e-03,  -9.46693157e-04,\n",
        "           1.72691154e-03,  -6.97161938e-03,  -3.21681157e-03,\n",
        "           3.25354056e-03,   8.79450150e-04,  -1.69156202e-02,\n",
        "          -5.16396435e-03,   1.59555467e-02,   1.04768420e-03,\n",
        "           2.12709558e-03,  -4.69281155e-04,  -2.54954480e-03,\n",
        "           1.42524137e-02,   6.85433756e-03,   3.70290868e-04,\n",
        "          -3.83039264e-03,  -1.02904787e-02,   1.55422901e-03,\n",
        "          -1.16314867e-03,  -1.21846844e-03,  -5.00818103e-05,\n",
        "          -5.57561307e-03,  -3.49340812e-03,   6.99924814e-03,\n",
        "           2.99949777e-03,  -3.81860885e-03,   2.38078266e-03,\n",
        "           5.48556703e-03,  -2.87848234e-03,   6.95240530e-03,\n",
        "           4.26728432e-03,   7.44431242e-03,   4.56444321e-03,\n",
        "           5.58488916e-03,   2.43659818e-03,  -1.31315231e-03,\n",
        "          -3.17413685e-03,   4.77903101e-03,  -5.29071399e-03,\n",
        "           2.05317963e-03,  -5.39490732e-03,  -3.69826954e-03,\n",
        "           2.03404512e-03,   8.36480776e-03,  -2.94651345e-04,\n",
        "          -8.01859394e-03,   6.45532576e-03,   1.22779883e-03,\n",
        "          -2.14449195e-03,  -2.80668563e-03,  -5.64105214e-03,\n",
        "          -4.70477005e-03,  -8.06134937e-04,  -2.95040696e-03,\n",
        "          -3.77946269e-03,  -5.19086153e-04,   9.26081751e-03,\n",
        "          -4.19475317e-03,  -8.06955981e-03,   1.85453627e-03,\n",
        "          -6.79567268e-03,  -5.74865995e-03,   5.82480527e-03,\n",
        "          -1.26790620e-03,   1.77809479e-03,   9.51565869e-03,\n",
        "          -6.55255634e-03,  -1.63687660e-02,   1.23855034e-04,\n",
        "          -7.93732025e-03,  -7.03855960e-03,  -3.22219660e-03,\n",
        "          -2.08508918e-03,   1.19112114e-02,   1.22299939e-02,\n",
        "          -3.99277171e-03,   1.15189657e-02,   2.48125401e-03,\n",
        "          -1.10349689e-04,  -9.44342497e-03,  -8.84018864e-03,\n",
        "           5.64969923e-03,   3.19606129e-03,  -1.95151759e-03,\n",
        "           6.96642060e-04,   4.56879690e-03,  -2.52098835e-03,\n",
        "           2.02026597e-03,   9.16268020e-03,  -3.63976780e-03,\n",
        "          -1.14821718e-02,   8.69837149e-04,  -8.14593199e-03,\n",
        "           2.68185385e-03,   4.08212959e-03,  -2.39455376e-03,\n",
        "          -5.75233325e-03,   7.95812638e-03,   6.71672277e-05,\n",
        "           3.70056666e-03,  -4.32898186e-03,  -4.20480024e-03,\n",
        "          -4.37664824e-03,  -1.14104973e-02,  -1.25665622e-03,\n",
        "           2.00663461e-03,  -7.59555678e-03,  -4.18666090e-05,\n",
        "           2.78172104e-03,   6.42761937e-03,  -1.67651490e-03,\n",
        "           4.13974500e-03,   8.72955800e-03,   6.43058995e-03,\n",
        "          -3.11024765e-03,  -7.94769935e-03,  -1.02330071e-02,\n",
        "          -2.06659235e-03,   8.28518448e-03,   3.31655549e-03,\n",
        "          -1.72099063e-03,   6.59472986e-03,  -5.39607597e-03,\n",
        "          -2.95029220e-03,   6.36861623e-03,   2.10913948e-03,\n",
        "          -3.03370996e-04,   5.89668950e-03,  -5.15951844e-03,\n",
        "          -4.08413966e-03,   3.76630588e-03,   1.24461336e-03,\n",
        "           8.21524021e-04,  -5.46325493e-03,   1.19823875e-02,\n",
        "          -8.18989225e-04,   1.60323212e-03,  -8.25728805e-03,\n",
        "           1.54765253e-03,   8.13449877e-03,  -7.11001357e-04,\n",
        "           9.74826607e-04,  -1.49442583e-03,   8.06623731e-03,\n",
        "          -2.84107950e-03,  -6.11373822e-03,  -8.29716887e-03,\n",
        "           1.18220645e-03,  -3.47557668e-03,   3.41025324e-03,\n",
        "           1.23527801e-03,   6.51655861e-03,  -4.02539786e-04,\n",
        "          -1.58204730e-02,   7.70789848e-05,   7.67277673e-03,\n",
        "          -2.63986770e-03,  -1.81336210e-02,   5.36002539e-03,\n",
        "          -1.60244049e-03,  -1.06023598e-02,   1.16114329e-02,\n",
        "          -3.81713883e-03,  -3.23452036e-03,   2.85014187e-04,\n",
        "          -3.35045506e-04,  -3.79635655e-03,   1.79763001e-03,\n",
        "           2.71255586e-03,   3.57941775e-03,   6.14693905e-03,\n",
        "          -2.74587229e-03,  -4.53827144e-03,  -8.12899029e-03,\n",
        "           8.71563126e-03,  -8.10097774e-04,  -1.90626840e-03,\n",
        "          -5.76424662e-04,   1.32658024e-02,   5.18358955e-03,\n",
        "          -1.15681901e-03,  -1.02927164e-02,   5.54350653e-03,\n",
        "          -4.66112883e-04,   9.11941997e-03,   9.00402072e-04,\n",
        "          -9.02872465e-04,   7.45137824e-03,   5.87951448e-05,\n",
        "          -1.28117241e-02,   3.09932147e-03,   2.72398548e-03,\n",
        "           5.39404315e-03,  -2.96564112e-04,   2.51021996e-03,\n",
        "          -2.02102074e-03,   4.93226602e-03,  -1.75646122e-03,\n",
        "           6.61239413e-04,  -7.43821949e-03,   3.11891763e-03,\n",
        "          -5.97433204e-04,  -4.26697511e-03,  -2.66039351e-03,\n",
        "           9.30384408e-04,   1.70380408e-03,  -2.21683536e-04,\n",
        "           4.90781071e-03,  -2.08212155e-03,   6.29792302e-03,\n",
        "           8.53720301e-03,   4.65122461e-03,  -1.10270075e-03,\n",
        "           2.11274875e-03,   1.63489976e-03,   7.53940145e-03,\n",
        "          -6.65153199e-04,  -7.89519720e-03,  -2.32339099e-03,\n",
        "          -4.65068376e-03,  -5.48875589e-03,   4.92550318e-03,\n",
        "           5.25737525e-03,   3.28396708e-03,  -4.83069906e-04,\n",
        "           4.53302727e-03,   6.86459259e-05,  -5.17466873e-03,\n",
        "          -5.28428131e-03,  -1.22765674e-02,  -7.39083754e-03,\n",
        "           3.88547384e-03,  -4.86550816e-04,  -4.17245882e-03,\n",
        "           8.70763209e-03,   4.55542050e-04,  -3.41443949e-03,\n",
        "           4.91501813e-03,  -1.79673024e-03,   5.51492594e-03,\n",
        "           6.31907182e-03,  -3.95398375e-03,  -6.14146349e-03,\n",
        "          -1.00852998e-03,  -2.65830224e-03,   2.90024771e-03,\n",
        "          -1.18387557e-02,  -1.48450051e-02,  -8.48490347e-04,\n",
        "           5.34236580e-03,  -1.87780997e-03,   6.39901535e-03,\n",
        "           1.32040647e-03,  -3.75694441e-03,   1.20546613e-02,\n",
        "           3.58200053e-03,   3.13462041e-03,   6.40860999e-03,\n",
        "          -1.39855689e-03,  -6.95191542e-03,   5.23275105e-03,\n",
        "           6.92012458e-03,   3.16981669e-04,   8.76589361e-04,\n",
        "          -3.12878664e-03,  -2.97741965e-03,   4.19281316e-03,\n",
        "           5.13253895e-03,   1.41043143e-03,   1.17768239e-03,\n",
        "          -2.73642858e-03,  -8.89437484e-03,   6.32780971e-03,\n",
        "           7.69568154e-03,  -1.14617387e-03,  -5.53075070e-03,\n",
        "           4.80525812e-03,  -4.71657788e-03,  -5.74377783e-03,\n",
        "           2.84920715e-04,   4.39056021e-03,  -8.96591171e-04,\n",
        "           8.25768165e-03,   8.53928674e-03,   7.16856874e-03,\n",
        "           1.41348287e-03,   6.09277806e-03,   1.08913189e-02,\n",
        "          -8.85665274e-05,  -4.89714680e-03,  -1.46133564e-04,\n",
        "          -3.15526339e-03,  -4.23543692e-03,  -8.16393545e-04,\n",
        "          -1.08395365e-02,   1.91525973e-03,   7.19165712e-03,\n",
        "           1.81990611e-03,   8.77372540e-03,  -3.37840663e-03,\n",
        "          -5.29636272e-04,  -8.24097758e-03,  -2.29176987e-03,\n",
        "          -1.45117738e-03,   8.10632532e-03,   4.29372094e-03,\n",
        "          -6.19185454e-03,   1.41833645e-03,   3.73607184e-03,\n",
        "          -3.54990971e-03,  -5.00181737e-03,   6.97184503e-03,\n",
        "          -4.00466259e-03,   3.48667625e-03,  -7.98413374e-03,\n",
        "          -7.13096732e-03,  -3.95547353e-03,   6.08906320e-03,\n",
        "           3.90724007e-03,   4.83726991e-03,  -2.25980687e-04,\n",
        "          -9.42928492e-03,   2.53304164e-03,  -3.43876547e-03,\n",
        "          -8.21585123e-04,   5.04578848e-03,  -1.30548407e-03,\n",
        "          -8.90362562e-05,  -3.92513314e-03,   6.74309647e-03,\n",
        "           5.54897877e-03,   3.21734688e-03,  -6.22849104e-03,\n",
        "          -3.09779966e-03,  -5.18361364e-04,  -2.39981688e-03,\n",
        "           1.53871151e-03,   1.42008166e-03,   5.08308860e-03,\n",
        "           5.28019092e-03,  -6.42669482e-03,  -3.79155971e-03,\n",
        "           8.29860732e-04,  -4.10615513e-04,  -7.79234515e-03,\n",
        "           7.86414216e-03,  -5.59290409e-04,   3.07493363e-04,\n",
        "          -1.21225204e-03,  -1.82630587e-03,   4.11685055e-03,\n",
        "          -3.85042924e-03,   1.04706259e-03,   3.25908395e-03,\n",
        "           4.02986691e-03,   6.38227237e-03,  -4.43046845e-05,\n",
        "          -3.09006891e-03,  -2.91907242e-03,  -7.19769883e-03,\n",
        "          -3.98574406e-03,  -9.88650699e-04,  -2.82905960e-03,\n",
        "          -7.86439968e-03,   1.04944431e-02,  -1.18720988e-03,\n",
        "           4.78779076e-03,   4.57042186e-03,   2.27696844e-03,\n",
        "          -5.75365135e-03,  -3.97400549e-03,   1.33792394e-03,\n",
        "          -5.99651478e-03,   7.05877484e-03,   3.92876949e-03,\n",
        "           5.32720908e-03,  -5.07932796e-03,   4.80376470e-03,\n",
        "           5.91967271e-03,  -3.80668405e-03,  -6.62250930e-04,\n",
        "          -9.87236079e-04,   6.33772780e-03,   3.18074148e-03,\n",
        "           1.40010516e-04,  -4.16222982e-03,  -1.75465514e-03,\n",
        "           2.28139298e-03,   7.18028212e-03,  -3.40477818e-05,\n",
        "           3.83597188e-03,  -9.85998031e-03,   4.90214040e-04,\n",
        "           4.62534429e-04,  -2.55045337e-03,  -1.06945032e-03,\n",
        "           2.42061132e-03,   6.92763668e-03,  -2.10614769e-03,\n",
        "          -8.97628920e-03,   3.05646928e-03,   9.16197936e-03,\n",
        "           2.69306230e-03,  -1.49873512e-03,  -2.57110824e-04,\n",
        "           3.63205482e-03,  -8.11008989e-03,  -4.93036648e-03,\n",
        "          -1.45559376e-03,   7.70350747e-03,   7.98854663e-03,\n",
        "          -6.09926415e-04,  -2.13944681e-04,   1.17550277e-02,\n",
        "           1.39679337e-03,   1.53215674e-02,   4.89387957e-04,\n",
        "          -1.08772994e-02,  -3.12211737e-03,  -3.08814850e-03,\n",
        "           3.89464629e-03,  -5.78300578e-03,   1.09368932e-03,\n",
        "           3.51143451e-03,   4.71735572e-04,  -1.26476415e-05,\n",
        "           3.54492423e-03,  -3.83703196e-03,  -5.52576352e-03,\n",
        "           2.16018768e-03,  -1.99939223e-03,   4.83296529e-03,\n",
        "          -3.60541409e-03,  -2.04585892e-03,   2.47298921e-04,\n",
        "          -5.19164191e-03,   5.35726637e-03,  -2.81854691e-03,\n",
        "          -1.99241629e-04,  -1.72990788e-03,   6.53129941e-04,\n",
        "           9.87573112e-04,  -3.16163766e-03,  -1.30502930e-03,\n",
        "           5.14470900e-03,  -7.46008474e-04,  -1.09383152e-02,\n",
        "          -1.83544594e-03,   1.34858320e-03,   1.17703676e-02,\n",
        "           1.39041080e-03,  -3.36051125e-03,   3.79421926e-03,\n",
        "           2.21791339e-03,  -8.74246746e-03,  -8.54568167e-04,\n",
        "          -1.30325565e-04,   9.02891355e-03,  -1.02117967e-02,\n",
        "          -6.79189468e-03,   1.42688091e-03,   4.97937151e-03,\n",
        "           4.29902530e-03,   1.05012940e-02,   9.87621738e-03,\n",
        "           1.52250184e-03,  -9.70340408e-03,  -1.22165095e-04,\n",
        "          -8.04492602e-03,  -2.93919029e-03,   4.59667421e-04,\n",
        "           5.87637249e-03,   3.08206526e-03,  -4.61465243e-03,\n",
        "           6.21246490e-03,   4.84402871e-03,  -4.33824151e-03,\n",
        "           4.67806641e-03,  -3.45988657e-03,  -4.72713523e-03,\n",
        "           4.74287469e-06,   9.34977779e-04,   3.75228338e-03,\n",
        "          -7.47632233e-03,  -4.89486213e-03,   6.79626050e-03,\n",
        "           1.63639076e-04,   5.94855477e-03,  -2.16799154e-03,\n",
        "           3.81192292e-03,   1.49148313e-03,   2.86652352e-03,\n",
        "          -2.13014870e-05,  -5.23308711e-03,   1.08074707e-02,\n",
        "           9.29676054e-03,   1.23228294e-03,  -7.40433898e-03,\n",
        "          -5.93991357e-03,   3.23410754e-03,  -9.66644149e-03,\n",
        "           4.10169488e-03,  -7.28625566e-04,  -5.99062818e-05,\n",
        "          -3.56254466e-03,  -1.03208725e-02,  -1.68440706e-03,\n",
        "           2.02435514e-03,   9.82829068e-04,   5.61000790e-03,\n",
        "          -2.85518931e-03,   4.26570698e-03,   1.04383956e-02,\n",
        "           6.25060559e-03,   3.89263696e-03,  -6.74648330e-03,\n",
        "          -7.64768768e-04,   5.94733931e-03,   5.75546331e-03,\n",
        "          -9.11416786e-03,   7.32113961e-03,  -2.67183238e-03,\n",
        "           1.32745277e-03,   6.52502500e-04,   8.37819884e-04,\n",
        "          -5.34786650e-03,   2.75141495e-03,   9.58856009e-04,\n",
        "          -2.08692461e-03,   4.16974186e-04,  -1.03024766e-03,\n",
        "           1.21881855e-03,  -1.05278064e-02,   6.03710817e-04,\n",
        "          -1.26791334e-03,   4.77541681e-03,  -9.73243597e-04,\n",
        "          -5.82543588e-03,  -4.72360516e-04,  -8.08545075e-03,\n",
        "           1.95525657e-03,   8.77896535e-03,  -5.32842985e-03,\n",
        "          -8.10114503e-03,   2.80804567e-04,  -7.26765911e-03,\n",
        "           5.35335283e-03,  -4.92317985e-03,   2.11016579e-03,\n",
        "           2.27832129e-03,  -1.31661514e-04,  -3.09097908e-03,\n",
        "          -3.27866549e-03,  -3.02832219e-03,   3.10710173e-03,\n",
        "          -3.44315552e-04,  -6.65422535e-04,   8.15793220e-04,\n",
        "          -1.05785316e-02,   8.56582262e-04,   1.70563510e-03,\n",
        "          -8.07283388e-04,  -2.35196252e-04,   2.36367453e-03,\n",
        "          -3.16572394e-04,  -8.61735791e-03,   1.21214838e-03,\n",
        "          -2.93573023e-03,   8.29662206e-03,   2.30977451e-03,\n",
        "          -9.73692617e-03,   3.27519139e-03,   4.20658731e-03,\n",
        "           4.24451825e-03,   2.46631913e-03,   1.04444155e-02,\n",
        "           4.21312946e-03,   4.42940714e-03,   7.97057129e-04,\n",
        "          -2.89074287e-03,   5.23286839e-03,  -3.06030559e-03,\n",
        "          -1.71555899e-03,  -6.28938399e-03,  -3.07541482e-03,\n",
        "           1.12911894e-03,  -7.24690414e-03,   6.59700618e-03,\n",
        "           8.54510197e-04,   3.56177413e-04,  -2.27682910e-03,\n",
        "           5.11311064e-03]]))"
       ]
      }
     ],
     "prompt_number": 118
    },
    {
     "cell_type": "code",
     "collapsed": false,
     "input": [
      "authors, results, subjects, text_vector = search(irmak, method='topic')"
     ],
     "language": "python",
     "metadata": {},
     "outputs": [],
     "prompt_number": 139
    },
    {
     "cell_type": "code",
     "collapsed": false,
     "input": [
      "text_vector"
     ],
     "language": "python",
     "metadata": {},
     "outputs": [
      {
       "metadata": {},
       "output_type": "pyout",
       "prompt_number": 140,
       "text": [
        "array([[-0.00698194, -0.05111958, -0.01345117,  0.00179662, -0.02482332,\n",
        "        -0.00882958, -0.00672927,  0.01251375,  0.01109954, -0.03523978,\n",
        "        -0.01262497,  0.05315077,  0.00461735,  0.02304535, -0.02866691,\n",
        "        -0.000819  , -0.00350878,  0.00852197, -0.0019077 , -0.00983242,\n",
        "         0.01788423,  0.02584338,  0.01724376, -0.00562633, -0.00316664,\n",
        "         0.04104144,  0.02520616, -0.00195584, -0.00476483, -0.01806486,\n",
        "         0.00552762,  0.01284982,  0.01685832, -0.00868639, -0.00458747,\n",
        "        -0.01283403,  0.02683768, -0.00195694, -0.00268744,  0.01112396,\n",
        "        -0.01695666,  0.00910168,  0.01560731,  0.00613113, -0.00920003,\n",
        "         0.00790863, -0.02360031, -0.00018788, -0.01454743, -0.01359878]])"
       ]
      }
     ],
     "prompt_number": 140
    },
    {
     "cell_type": "code",
     "collapsed": false,
     "input": [
      "domonic1 ='The discovery of the Hippo pathway can be traced back to two areas of research. Genetic screens in fruit flies led to the identification of the Hippo pathway kinases and scaffolding proteins that function together to suppress cell proliferation and tumor growth. Independent research, often in the context of muscle biology, described Tead (TEA domain) transcription factors, which bind CATTCC DNA motifs to regulate gene expression. These two research areas were joined by the finding that the Hippo pathway regulates the activity of Tead transcription factors mainly through phosphorylation of the transcriptional coactivators Yap and Taz, which bind to and activate Teads. Additionally, many other signal transduction proteins crosstalk to members of the Hippo pathway forming a Hippo signal transduction network. We discuss evidence that the Hippo signal transduction network plays important roles in myogenesis, regeneration, muscular dystrophy, and rhabdomyosarcoma in skeletal muscle, as well as in myogenesis, organ size control, and regeneration of the heart. Understanding the role of Hippo kinases in skeletal and heart muscle physiology could have important implications for translational research.'"
     ],
     "language": "python",
     "metadata": {},
     "outputs": [],
     "prompt_number": 141
    },
    {
     "cell_type": "code",
     "collapsed": false,
     "input": [],
     "language": "python",
     "metadata": {},
     "outputs": []
    }
   ],
   "metadata": {}
  }
 ]
}