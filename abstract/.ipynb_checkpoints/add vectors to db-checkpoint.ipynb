{
 "metadata": {
  "name": "",
  "signature": "sha256:166dd9a3bbe49f2dbd1090b0a1c1e61fba6bd0c21bbc0b6cadc73bf15d0e0db8"
 },
 "nbformat": 3,
 "nbformat_minor": 0,
 "worksheets": [
  {
   "cells": [
    {
     "cell_type": "code",
     "collapsed": false,
     "input": [
      "from sklearn.feature_extraction.text import TfidfVectorizer\n",
      "from sklearn.externals import joblib\n",
      "import pickle\n",
      "from sklearn.neighbors import KNeighborsClassifier\n",
      "from bson.objectid import ObjectId\n",
      "from sklearn.metrics.pairwise import cosine_similarity\n",
      "from sets import Set\n",
      "from sklearn.metrics import pairwise_distances\n",
      "from collections import Counter\n",
      "from sklearn.decomposition import PCA, KernelPCA\n",
      "from sklearn.feature_selection import VarianceThreshold\n",
      "from bson.objectid import ObjectId"
     ],
     "language": "python",
     "metadata": {},
     "outputs": [],
     "prompt_number": 1
    },
    {
     "cell_type": "code",
     "collapsed": false,
     "input": [
      "#starting up pymongo\n",
      "import pymongo\n",
      "#making mongo db of abstracts\n",
      "c = pymongo.MongoClient()\n",
      "db = c['PloS']\n",
      "abstract_db = db['this_year']\n",
      "\n",
      "\n"
     ],
     "language": "python",
     "metadata": {},
     "outputs": [],
     "prompt_number": 2
    },
    {
     "cell_type": "code",
     "collapsed": false,
     "input": [
      "doc_ids = pickle.load(open(\"ids.pkl\",\"rb\"))\n",
      "topics = pickle.load(open(\"topics.pkl\",\"rb\"))"
     ],
     "language": "python",
     "metadata": {},
     "outputs": [],
     "prompt_number": 3
    },
    {
     "cell_type": "code",
     "collapsed": false,
     "input": [
      "F"
     ],
     "language": "python",
     "metadata": {},
     "outputs": []
    }
   ],
   "metadata": {}
  }
 ]
}