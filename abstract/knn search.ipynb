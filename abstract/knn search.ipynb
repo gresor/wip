{
 "metadata": {
  "name": "",
  "signature": "sha256:8a7c9bb27f86df600be1cc84f63f6b4a3f1961c4de21a93432b6e1b2a0df598e"
 },
 "nbformat": 3,
 "nbformat_minor": 0,
 "worksheets": [
  {
   "cells": [
    {
     "cell_type": "code",
     "collapsed": false,
     "input": [
      "from sklearn.feature_extraction.text import TfidfVectorizer\n",
      "from sklearn.externals import joblib\n",
      "import pickle\n",
      "from sklearn.neighbors import KNeighborsClassifier\n",
      "from bson.objectid import ObjectId\n",
      "from sklearn.metrics.pairwise import cosine_similarity\n",
      "from sets import Set\n",
      "from sklearn.metrics import pairwise_distances\n",
      "from collections import Counter\n",
      "from sklearn.decomposition import PCA, KernelPCA\n",
      "from sklearn.feature_selection import VarianceThreshold\n",
      "from bson.objectid import ObjectId\n",
      "import numpy as np\n",
      "from sklearn.utils import resample\n",
      "import time"
     ],
     "language": "python",
     "metadata": {},
     "outputs": [],
     "prompt_number": 1
    },
    {
     "cell_type": "code",
     "collapsed": false,
     "input": [],
     "language": "python",
     "metadata": {},
     "outputs": []
    },
    {
     "cell_type": "code",
     "collapsed": false,
     "input": [
      "#starting up pymongo\n",
      "import pymongo\n",
      "#making mongo db of abstracts\n",
      "c = pymongo.MongoClient()\n",
      "db = c['PloS']\n",
      "abstract_db = db['this_year']"
     ],
     "language": "python",
     "metadata": {},
     "outputs": [],
     "prompt_number": 2
    },
    {
     "cell_type": "code",
     "collapsed": false,
     "input": [
      "doc_ids = pickle.load(open(\"ids.pkl\",\"rb\"))\n",
      "topics = pickle.load(open(\"topics.pkl\",\"rb\"))\n",
      "neigh= joblib.load('kn_search.pkl')\n",
      "step_1 =joblib.load('step_1.pkl')\n",
      "step_2 =joblib.load('step_2.pkl')\n",
      "step_3 =joblib.load('step_3.pkl')\n",
      "step_4 = joblib.load('step_4.pkl')"
     ],
     "language": "python",
     "metadata": {},
     "outputs": [],
     "prompt_number": 3
    },
    {
     "cell_type": "code",
     "collapsed": false,
     "input": [
      "# from nearpy import Engine\n",
      "# from nearpy.hashes import  RandomBinaryProjectionTree, RandomBinaryProjections\n",
      "# from nearpy.filters import NearestFilter\n",
      "# # need to import something to cosine distance\n",
      "# dimension =1000"
     ],
     "language": "python",
     "metadata": {},
     "outputs": [],
     "prompt_number": 4
    },
    {
     "cell_type": "code",
     "collapsed": false,
     "input": [
      "def transform_text(text):\n",
      "    \"\"\"takes the text and turns it into 1000 dimentional vecotr\"\"\"\n",
      "    text_vector =step_4.transform(step_3.transform(step_2.transform(step_1.transform([text]))))[0]\n",
      "    return text_vector"
     ],
     "language": "python",
     "metadata": {},
     "outputs": [],
     "prompt_number": 4
    },
    {
     "cell_type": "code",
     "collapsed": false,
     "input": [
      "test_ids = resample(doc_ids,n_samples =5)"
     ],
     "language": "python",
     "metadata": {},
     "outputs": [],
     "prompt_number": 5
    },
    {
     "cell_type": "code",
     "collapsed": false,
     "input": [
      "for test_id in test_ids:\n",
      "    doc = abstract_db.find_one({\"_id\":ObjectId(test_id)})\n",
      "    text =  doc['abstract'][0]\n",
      "    print test_id,\"*\"\n",
      "    print engine.neighbours(transform_text(text))#[0][1],search1.query_(text)[1][1],search1.query_(text)[2][1]"
     ],
     "language": "python",
     "metadata": {},
     "outputs": [
      {
       "output_type": "stream",
       "stream": "stdout",
       "text": [
        "54f6122f387cca7aa63d6991 *\n",
        "[]"
       ]
      },
      {
       "output_type": "stream",
       "stream": "stdout",
       "text": [
        "\n",
        "54f61338387cca7aa63d6ce4 *\n",
        "[]"
       ]
      },
      {
       "output_type": "stream",
       "stream": "stdout",
       "text": [
        "\n",
        "54f613a3387cca7aa63d6f4f *\n",
        "[]"
       ]
      },
      {
       "output_type": "stream",
       "stream": "stdout",
       "text": [
        "\n",
        "54f612c8387cca7aa63d6c11 *\n",
        "[]"
       ]
      },
      {
       "output_type": "stream",
       "stream": "stdout",
       "text": [
        "\n",
        "54f613a3387cca7aa63d6f74 *\n",
        "[]"
       ]
      },
      {
       "output_type": "stream",
       "stream": "stdout",
       "text": [
        "\n"
       ]
      }
     ],
     "prompt_number": 16
    },
    {
     "cell_type": "code",
     "collapsed": false,
     "input": [
      "def knsearch(tex,N):\n",
      "    x=transform_text(text)\n",
      "    results = neigh.kneighbors(x, n_neighbors=N,return_distance=True)\n",
      "    return results"
     ],
     "language": "python",
     "metadata": {},
     "outputs": [],
     "prompt_number": 63
    },
    {
     "cell_type": "code",
     "collapsed": false,
     "input": [
      "for test_id in test_ids:\n",
      "    doc = abstract_db.find_one({\"_id\":ObjectId(test_id)})\n",
      "    text =  doc['abstract'][0]\n",
      "    start= time.time()\n",
      "    results = knsearch(text,5)\n",
      "    end = time.time()\n",
      "    print end-start,test_id,\"*\"\n",
      "    print results"
     ],
     "language": "python",
     "metadata": {},
     "outputs": [
      {
       "output_type": "stream",
       "stream": "stdout",
       "text": [
        "0.0772421360016 54f6122f387cca7aa63d6991 *\n",
        "(array([[ 0.78947066,  0.78986297,  0.80234486,  0.82628682,  0.82914877]]), array([[ 661, 2110,  965, 1066, 1024]]))\n",
        "0.0725839138031"
       ]
      },
      {
       "output_type": "stream",
       "stream": "stdout",
       "text": [
        " 54f61338387cca7aa63d6ce4 *\n",
        "(array([[ 0.84747001,  0.84947072,  0.85113725,  0.85556025,  0.85992608]]), array([[2178,  131, 1395, 1235, 1501]]))\n",
        "0.0752210617065"
       ]
      },
      {
       "output_type": "stream",
       "stream": "stdout",
       "text": [
        " 54f613a3387cca7aa63d6f4f *\n",
        "(array([[ 0.80275278,  0.80481572,  0.81792914,  0.84026916,  0.84429917]]), array([[2516,  713, 1662, 2387, 1488]]))\n",
        "0.073627948761"
       ]
      },
      {
       "output_type": "stream",
       "stream": "stdout",
       "text": [
        " 54f612c8387cca7aa63d6c11 *\n",
        "(array([[ 0.86476608,  0.89082051,  0.89674195,  0.89781274,  0.90102785]]), array([[1662, 1924, 1403, 1828, 1829]]))\n",
        "0.0725090503693"
       ]
      },
      {
       "output_type": "stream",
       "stream": "stdout",
       "text": [
        " 54f613a3387cca7aa63d6f74 *\n",
        "(array([[ 0.79897421,  0.82573365,  0.84478641,  0.85245944,  0.85693022]]), array([[  82, 2464,  226, 2253, 2568]]))\n"
       ]
      }
     ],
     "prompt_number": 64
    },
    {
     "cell_type": "code",
     "collapsed": false,
     "input": [
      "import math"
     ],
     "language": "python",
     "metadata": {},
     "outputs": [],
     "prompt_number": 28
    },
    {
     "cell_type": "code",
     "collapsed": false,
     "input": [
      "def est_run_time(n1,n2):\n",
      "    factor1=(n1*math.log(n1))/(n2*math.log(n2))\n",
      "    factor2= ((n1**2)/(n2**2))\n",
      "    return factor1, factor2, factor2/factor1"
     ],
     "language": "python",
     "metadata": {},
     "outputs": [],
     "prompt_number": 35
    },
    {
     "cell_type": "code",
     "collapsed": false,
     "input": [
      "est_run_time(120000,2500)"
     ],
     "language": "python",
     "metadata": {},
     "outputs": [
      {
       "metadata": {},
       "output_type": "pyout",
       "prompt_number": 36,
       "text": [
        "(71.7495597885987, 2304, 32.11169527434669)"
       ]
      }
     ],
     "prompt_number": 36
    },
    {
     "cell_type": "code",
     "collapsed": false,
     "input": [
      "\n",
      "doc = abstract_db.find_one({\"_id\":ObjectId(test_ids[0])})\n",
      "text =  doc['abstract'][0]\n",
      "start= time.time()\n",
      "results = knsearch(text,5)\n",
      "end = time.time()\n",
      "print end-start,test_ids[0],\"*\"\n",
      "print results"
     ],
     "language": "python",
     "metadata": {},
     "outputs": [
      {
       "output_type": "stream",
       "stream": "stdout",
       "text": [
        "0.0844178199768 54f6122f387cca7aa63d6991 *\n",
        "(array([[ 0.78947066,  0.78986297,  0.80234486,  0.82628682,  0.82914877]]), array([[ 661, 2110,  965, 1066, 1024]]))\n"
       ]
      }
     ],
     "prompt_number": 37
    },
    {
     "cell_type": "code",
     "collapsed": false,
     "input": [
      "2304*.084"
     ],
     "language": "python",
     "metadata": {},
     "outputs": [
      {
       "metadata": {},
       "output_type": "pyout",
       "prompt_number": 39,
       "text": [
        "193.536"
       ]
      }
     ],
     "prompt_number": 39
    },
    {
     "cell_type": "code",
     "collapsed": false,
     "input": [
      "results"
     ],
     "language": "python",
     "metadata": {},
     "outputs": [
      {
       "metadata": {},
       "output_type": "pyout",
       "prompt_number": 62,
       "text": [
        "(array([[ 0.78947066,  0.78986297,  0.80234486,  0.82628682,  0.82914877]]),\n",
        " array([[ 661, 2110,  965, 1066, 1024]]))"
       ]
      }
     ],
     "prompt_number": 62
    },
    {
     "cell_type": "code",
     "collapsed": false,
     "input": [
      "things =[]\n",
      "for x in results[1][0]:\n",
      "    things.append(doc_ids[x])"
     ],
     "language": "python",
     "metadata": {},
     "outputs": [],
     "prompt_number": 47
    },
    {
     "cell_type": "code",
     "collapsed": false,
     "input": [
      "for thing in things:\n",
      "    doc = abstract_db.find_one({\"_id\":ObjectId(thing)})\n",
      "    print doc['abstract'][0]"
     ],
     "language": "python",
     "metadata": {},
     "outputs": [
      {
       "output_type": "stream",
       "stream": "stdout",
       "text": [
        "Background: Maintenance of T cell immune homeostasis is critical for adequate anti-tumor immunity. The transcription factor Ikaros is essential for lymphocyte development including T cells. Alterations in Ikaros expression occur in blood malignancies in humans and mice. In this study, we investigated the role of Ikaros in regulating T cell immune balance in pancreatic cancer mouse models. Methodology and Principal Findings: Using our Panc02 tumor-bearing (TB) mouse model, western blot analysis revealed a reduction in Ikaros proteins while qRT-PCR showed no differences in Ikaros mRNA levels in TB splenocytes compared to control. Treatment of na\u00efve splenocytes with the proteasomal inhibitor, MG132, stabilized Ikaros expression and prevented Ikaros downregulation by Panc02 cells, in vitro. Western blot analyses showed a reduction in protein phosphatase 1 (PP1) and protein kinase CK2 expression in TB splenocytes while CK2 activity was increased. Immunofluorescence microscopy revealed altered punctate staining of Ikaros in TB splenocytes. Flow cytometry revealed a significant decrease in effector CD4+ and CD8+ T cell percentages but increased CD4+CD25+ regulatory T cells in TB splenocytes. Similar alterations in T cell percentages, as well as reduced Ikaros and CK2 but not PP1 expression, were observed in a transgenic, triple mutant (TrM) pancreatic cancer model. Ikaros expression was also reduced in enriched TB CD3+ T cells. MG132 treatment of na\u00efve CD3+ T cells stabilized Ikaros expression in the presence of Panc02 cells. Western blots showed reduced PP1 and CK2 expression in TB CD3+ T cells. Conclusions/Significance: The results of this study suggest that the pancreatic tumor microenvironment may cause proteasomal degradation of Ikaros, possibly via dysregulation of PP1 and CK2 expression and activity, respectively. This loss of Ikaros expression may contribute to an imbalance in T cell percentages. Ikaros may potentially be a therapeutic target to restore T cell homeostasis in pancreatic cancer hosts, which may be critical for effective anti-tumor immunity. \n",
        "\n",
        "DJ-1 is an oncoprotein that promotes survival of cancer cells through anti-apoptosis. However, DJ-1 also plays a role in regulating IL-1\u03b2 expression, and whether inflammatory microenvironment built by dysregulated DJ-1 affects cancer progression is still unclear. This study thus aimed to compare the metastatic abilities of melanoma cells in wild-type (WT) and DJ-1 knockout (KO) mice, and to check whether inflammatory microenvironment built in DJ-1 KO mice plays a role in migration of cancer cells to lungs. First, B16F10 melanoma cells (at 6\u00d7104) were injected into the femoral vein of mice, and formation of lung nodules, levels of lung IL-1\u03b2 and serum cytokines, and accumulation of myeloid-derived suppressor cells (MDSCs) were compared between WT and DJ-1 KO mice. Second, the cancer-bearing mice were treated with an interleukin-1 beta (IL-1\u03b2) neutralizing antibody to see whether IL-1\u03b2 is involved in the cancer migration. Finally, cultured RAW 264.7 macrophage and B16F10 melanoma cells were respectively treated with DJ-1 shRNA and recombinant IL-1\u03b2 to explore underlying molecular mechanisms. Our results showed that IL-1\u03b2 enhanced survival and colony formation of cultured melanoma cells, and that IL-1\u03b2 levels were elevated both in DJ-1 KO mice and in cultured macrophage cells with DJ-1 knockdown. The elevated IL-1\u03b2 correlated with higher accumulation of immunosuppressive MDSCs and formation of melanoma module in the lung of DJ-1 KO mice, and both can be decreased by treating mice with IL-1\u03b2 neutralizing antibodies. Taken together, these results indicate that immunosuppressive tissue microenvironment built in DJ-1 KO mice can enhance lung migration of cancer, and IL-1\u03b2 plays an important role in promoting the cancer migration.\n",
        "\n",
        "\n",
        "Mutations are a critical driver of cancer initiation. While extensive studies have focused on exposure-induced mutations, few studies have explored the importance of tissue physiology as a modulator of mutation susceptibility in vivo. Of particular interest is inflammation, a known cancer risk factor relevant to chronic inflammatory diseases and pathogen-induced inflammation. Here, we used the fluorescent yellow direct repeat (FYDR) mice that harbor a reporter to detect misalignments during homologous recombination (HR), an important class of mutations. FYDR mice were exposed to cerulein, a potent inducer of pancreatic inflammation. We show that inflammation induces DSBs (\u03b3H2AX foci) and that several days later there is an increase in cell proliferation. While isolated bouts of inflammation did not induce HR, overlap between inflammation-induced DNA damage and inflammation-induced cell proliferation induced HR significantly. To study exogenously-induced DNA damage, animals were exposed to methylnitrosourea, a model alkylating agent that creates DNA lesions relevant to both environmental exposures and cancer chemotherapy. We found that exposure to alkylation damage induces HR, and importantly, that inflammation-induced cell proliferation and alkylation induce HR in a synergistic fashion. Taken together, these results show that, during an acute bout of inflammation, there is a kinetic barrier separating DNA damage from cell proliferation that protects against mutations, and that inflammation-induced cell proliferation greatly potentiates exposure-induced mutations. These studies demonstrate a fundamental mechanism by which inflammation can act synergistically with DNA damage to induce mutations that drive cancer and cancer recurrence.\n",
        "Author Summary: People with chronic inflammatory conditions have a markedly increased risk for cancer. In addition, many cancers have an inflammatory microenvironment that promotes tumor growth. Here, we show that inflammatory infiltration synergizes with tissue regeneration to induce DNA sequence rearrangements in vivo. Chronically inflamed issues that are continuously regenerating are thus at an increased risk for mutagenesis and malignant transformation. Further, rapidly dividing tumor cells in an inflammatory microenvironment can also acquire mutations, which have been shown to contribute to drug resistance and disease recurrence. Finally, inflammation-induced tissue regeneration sensitizes tissues to DNA damaging environmental exposures and chemotherapeutics. The work described here thus increases our understanding of how inflammation leads to genetic changes that drive cancer formation and recurrence. \n",
        "\n",
        "Our previous data illustrated that activation of the canonical Wnt signaling pathway was enriched in triple-negative breast cancer and associated with reduced overall survival in all patients. To determine whether Wnt signaling may be a promising therapeutic target for triple-negative breast cancer, we investigated whether \u03b2-catenin was necessary for tumorigenic behaviors in vivo and in vitro. \u03b2-catenin expression level was significantly reduced in two human triple-negative breast cancer cell lines, MDA-MB-231 and HCC38, using lentiviral delivery of \u03b2-catenin-specific small hairpin RNAs (shRNAs). Upon implantation of the cells in the mammary fat pad of immunocompromised mice, we found that \u03b2-catenin shRNA HCC38 cells formed markedly smaller tumors than control cells and grew much more slowly. In in vitro assays, \u03b2-catenin silencing significantly reduced the percentage of Aldefluor-positive cells, a read-out of the stem-like cell population, as well as the expression of stem cell-related target genes including Bmi-1 and c-Myc. \u03b2-catenin-knockdown cells were also significantly impaired in their ability to migrate in wound-filling assays and form anchorage-independent colonies in soft agar. \u03b2-catenin-knockdown cells were more sensitive to chemotherapeutic agents doxorubicin and cisplatin. Collectively, these data suggest that \u03b2-catenin is required for triple-negative breast cancer development by controlling numerous tumor-associated properties, such as migration, stemness, anchorage-independent growth and chemosensitivity.\n",
        "\n",
        "\n",
        "The wild-type p53-induced phosphatase 1 (WIP1) is a serine/threonine phosphatase that negatively regulates multiple proteins involved in DNA damage response including p53, CHK2, Histone H2AX, and ATM, and it has been shown to be overexpressed or amplified in human cancers including breast and ovarian cancers. We examined WIP1 mRNA levels across multiple tumor types and found the highest levels in breast cancer, leukemia, medulloblastoma and neuroblastoma. Neuroblastoma is an exclusively TP53 wild type tumor at diagnosis and inhibition of p53 is required for tumorigenesis. Neuroblastomas in particular have previously been shown to have 17q amplification, harboring the WIP1 (PPM1D) gene and associated with poor clinical outcome. We therefore sought to determine whether inhibiting WIP1 with a selective antagonist, GSK2830371, can attenuate neuroblastoma cell growth through reactivation of p53 mediated tumor suppression. Neuroblastoma cell lines with wild-type TP53 alleles were highly sensitive to GSK2830371 treatment, while cell lines with mutant TP53 were resistant to GSK2830371. The majority of tested neuroblastoma cell lines with copy number gains of the PPM1D locus were also TP53 wild-type and sensitive to GSK2830371A; in contrast cell lines with no copy gain of PPM1D were mixed in their sensitivity to WIP1 inhibition, with the primary determinant being TP53 mutational status. Since WIP1 is involved in the cellular response to DNA damage and drugs used in neuroblastoma treatment induce apoptosis through DNA damage, we sought to determine whether GSK2830371 could act synergistically with standard of care chemotherapeutics. Treatment of wild-type TP53 neuroblastoma cell lines with both GSK2830371 and either doxorubicin or carboplatin resulted in enhanced cell death, mediated through caspase 3/7 induction, as compared to either agent alone. Our data suggests that WIP1 inhibition represents a novel therapeutic approach to neuroblastoma that could be integrated with current chemotherapeutic approaches.\n",
        "\n"
       ]
      }
     ],
     "prompt_number": 48
    },
    {
     "cell_type": "code",
     "collapsed": false,
     "input": [
      "topics[0]"
     ],
     "language": "python",
     "metadata": {},
     "outputs": [
      {
       "metadata": {},
       "output_type": "pyout",
       "prompt_number": 6,
       "text": [
        "array([ -8.49449165e-03,  -9.22680869e-02,  -6.56132596e-03,\n",
        "         4.96699208e-03,  -4.59189236e-02,   6.47064712e-04,\n",
        "        -8.20239502e-02,  -4.50671220e-02,  -4.37270535e-04,\n",
        "        -1.33399179e-02,  -6.26085932e-03,  -1.56431457e-02,\n",
        "        -2.27372413e-02,   2.41716064e-02,   2.38341931e-02,\n",
        "        -1.88061454e-02,   1.87750484e-02,  -2.19112186e-02,\n",
        "         6.13494181e-03,   3.63257666e-02,   4.10504685e-02,\n",
        "        -1.52555399e-02,  -1.24170489e-02,   2.34052878e-02,\n",
        "        -3.65421800e-02,   3.71059037e-02,   5.60648644e-03,\n",
        "         2.94033988e-03,  -1.65807055e-02,  -4.26036650e-02,\n",
        "         2.04900521e-02,  -5.84935913e-04,  -4.08696871e-02,\n",
        "        -2.09992004e-02,  -3.89004424e-03,   1.39407528e-02,\n",
        "        -9.50521301e-03,   6.43697312e-02,   5.17785560e-03,\n",
        "        -6.47740198e-03,   9.55225913e-03,  -1.84756287e-02,\n",
        "         7.34387620e-03,  -1.32194108e-02,  -1.30561049e-02,\n",
        "        -2.10251133e-02,   9.11717096e-03,  -2.39675314e-02,\n",
        "         1.30162416e-02,  -2.23860975e-02,  -1.27356860e-03,\n",
        "        -8.81759383e-03,   1.40851145e-02,  -3.25498695e-02,\n",
        "         9.80390035e-03,  -7.59567042e-03,   1.11490174e-03,\n",
        "         1.04080885e-02,   1.62761140e-02,  -2.47634502e-02,\n",
        "        -1.16053711e-02,   1.05947217e-02,  -1.82843143e-02,\n",
        "        -1.03164820e-02,  -6.99907909e-03,   2.38538538e-02,\n",
        "         2.12976890e-02,   2.80526608e-04,   2.17380016e-02,\n",
        "        -1.65452201e-02,   2.47648405e-02,   2.71457924e-02,\n",
        "         6.36859329e-02,  -9.28260893e-03,  -5.89839308e-03,\n",
        "        -3.19416953e-02,   8.61040095e-03,   1.61827456e-02,\n",
        "        -1.41347327e-02,   7.69222683e-03,   1.55015595e-02,\n",
        "         6.99462851e-03,   1.80311782e-02,   2.26072554e-02,\n",
        "        -1.49623477e-03,  -3.21897628e-02,   2.52561561e-02,\n",
        "         3.92654003e-03,   4.80501470e-03,   4.32761599e-02,\n",
        "        -1.55603863e-02,  -1.26313900e-02,   2.78586876e-02,\n",
        "        -3.65006936e-02,  -2.63999309e-03,  -9.08226315e-03,\n",
        "         3.52565050e-03,   2.74221029e-02,  -1.80882726e-02,\n",
        "        -3.38727467e-03,  -1.03656729e-03,   1.24397534e-02,\n",
        "        -3.71239557e-03,  -5.17415808e-02,  -1.63645201e-03,\n",
        "        -3.35711347e-02,  -1.56978632e-02,   4.02153010e-02,\n",
        "         2.57675109e-02,  -3.48339583e-02,   1.14349477e-02,\n",
        "         2.72403819e-02,   7.49371410e-03,   4.49701002e-02,\n",
        "         2.57343398e-02,  -2.80253285e-02,   8.90046381e-03,\n",
        "        -5.48187167e-03,   1.76085973e-02,  -1.88453051e-02,\n",
        "         3.15738768e-03,  -2.24324082e-03,  -3.43149724e-03,\n",
        "        -6.94360239e-02,  -8.62615219e-03,   2.52120965e-02,\n",
        "         3.51126825e-02,  -1.98910371e-02,  -2.57966237e-02,\n",
        "        -1.87052171e-03,   4.47715893e-03,   2.19429066e-02,\n",
        "        -1.29824217e-02,   1.43299240e-03,  -8.71050944e-03,\n",
        "         3.01224358e-02,  -1.26902861e-02,   3.09538740e-03,\n",
        "         2.49838367e-02,   3.49086305e-02,  -4.38623047e-02,\n",
        "         2.33493266e-02,  -1.38243923e-02,  -5.68837766e-03,\n",
        "        -4.59366445e-03,  -7.15728533e-03,   3.69040842e-03,\n",
        "         3.46458653e-02,  -2.54770307e-03,  -2.54773963e-02,\n",
        "         3.20052825e-02,   2.87395317e-02,  -2.50941798e-02,\n",
        "        -2.08752875e-03,  -2.23383898e-02,   1.62119295e-03,\n",
        "        -1.44528266e-03,   6.11786738e-02,  -7.78931064e-03,\n",
        "         2.86513620e-02,   8.84285747e-03,   2.95666240e-02,\n",
        "         3.00212806e-02,   4.24242790e-02,  -1.62135013e-02,\n",
        "         1.39352348e-02,  -1.59059085e-03,  -4.18076203e-02,\n",
        "        -4.30652506e-02,  -5.44829388e-02,  -2.97615527e-02,\n",
        "         2.57105130e-02,   2.62823491e-02,  -1.06014908e-02,\n",
        "         4.11732669e-02,  -2.99547866e-02,  -3.31129895e-02,\n",
        "         1.74593638e-02,  -4.01118691e-02,   2.30352926e-02,\n",
        "        -4.88785627e-02,   1.41512815e-02,   2.86686337e-02,\n",
        "         2.90634523e-02,   1.33752634e-02,   2.67930102e-02,\n",
        "        -9.06829045e-03,  -1.41583766e-02,  -2.35391132e-02,\n",
        "         1.95578965e-03,  -2.31005159e-02,   1.56362845e-02,\n",
        "        -9.00706875e-03,  -1.26615965e-02,   6.98632816e-03,\n",
        "         2.30457235e-02,   6.22991551e-03,  -2.70215205e-02,\n",
        "        -6.91737366e-03,   9.08633290e-03,  -1.47047877e-02,\n",
        "         5.15182151e-02,   3.13414853e-02,  -1.03237636e-02,\n",
        "        -2.42324320e-03,  -2.18058743e-02,  -2.24214752e-02,\n",
        "        -1.12277372e-03,  -1.36297973e-02,   2.07289336e-02,\n",
        "        -7.94314626e-03,   4.99622474e-02,  -9.32826223e-03,\n",
        "         3.36818187e-02,   2.92859490e-02,  -2.78475173e-02,\n",
        "        -1.94953977e-02,   2.42897397e-02,  -3.26889464e-02,\n",
        "        -4.03534548e-02,   2.88943713e-02,   6.90864937e-03,\n",
        "        -6.44579469e-04,   2.38159966e-02,   1.07411514e-02,\n",
        "         1.22029751e-02,   8.66270187e-03,   3.77575080e-04,\n",
        "        -1.41330314e-02,  -1.58320484e-02,   1.58830871e-02,\n",
        "        -3.57681505e-02,   3.94379688e-03,   1.32675497e-02,\n",
        "        -9.03436073e-03,  -9.99498256e-03,  -1.73666629e-02,\n",
        "        -2.26498100e-02,  -2.80308949e-02,   1.33570998e-02,\n",
        "        -2.94796478e-02,  -1.66900275e-03,   3.65454853e-02,\n",
        "         1.48229500e-02,  -3.92429847e-02,  -7.84042333e-02,\n",
        "         1.59164109e-02,  -1.07477018e-02,   3.71914236e-02,\n",
        "         2.74263974e-02,  -1.13831798e-02,   2.55284552e-02,\n",
        "         9.73741826e-03,   1.75681468e-02,  -2.46698703e-02,\n",
        "        -2.73882833e-02,   8.10675882e-03,  -1.10718501e-02,\n",
        "        -3.57044698e-03,   3.23436277e-02,  -1.23489346e-02,\n",
        "         4.28655783e-02,   2.18941987e-02,   3.94149844e-02,\n",
        "         3.28309299e-02,   2.45332967e-02,   1.81044322e-02,\n",
        "         4.75435591e-02,  -4.19800344e-02,   1.41439086e-02,\n",
        "         1.75875374e-02,  -4.10014411e-02,   1.61375416e-02,\n",
        "        -2.22583932e-02,   4.60548271e-03,   2.91742799e-02,\n",
        "         1.07264054e-03,   3.78382689e-02,   2.55917521e-02,\n",
        "        -2.97032034e-02,   3.44197446e-02,  -3.78134437e-02,\n",
        "         5.01952362e-02,   5.91463870e-02,  -1.13335807e-02,\n",
        "        -3.15385860e-03,   4.47005235e-02,   5.21172017e-03,\n",
        "         1.18085550e-02,  -2.41614385e-02,   1.18426109e-02,\n",
        "        -3.59163973e-02,  -9.05855698e-03,  -3.40100289e-03,\n",
        "        -3.35329957e-02,   1.19595207e-02,  -2.27834138e-02,\n",
        "         1.32241271e-03,  -1.39320418e-02,   3.03338809e-02,\n",
        "         8.92593318e-03,   4.12924187e-02,  -2.29421529e-02,\n",
        "        -3.86077433e-02,  -1.47445408e-02,   1.79192768e-02,\n",
        "        -2.53645080e-02,   1.87419056e-02,   4.28639750e-03,\n",
        "         2.17752086e-02,  -2.36019813e-02,   3.47637449e-02,\n",
        "        -4.25051537e-04,  -4.42525123e-02,  -2.55148217e-02,\n",
        "         1.16023830e-03,  -1.80342102e-02,   3.94814687e-04,\n",
        "        -4.13648519e-02,   1.21417966e-02,  -4.91734985e-03,\n",
        "         9.80798668e-02,  -6.48680546e-03,   5.90021238e-02,\n",
        "         1.24128248e-03,   8.38410875e-03,   7.85581487e-03,\n",
        "         8.00991756e-03,  -1.75950533e-02,   1.82328468e-02,\n",
        "        -6.11375403e-03,  -9.26886307e-03,   1.48747102e-02,\n",
        "         4.24287791e-02,   8.87637402e-03,   5.07702935e-02,\n",
        "         5.65364833e-02,   1.19286965e-02,  -6.70767355e-02,\n",
        "         1.49830816e-02,  -4.75266891e-02,  -4.71922167e-04,\n",
        "        -1.68637127e-02,  -3.16318653e-02,  -2.11456620e-02,\n",
        "        -3.29427438e-03,   1.83498387e-02,   2.21974394e-03,\n",
        "        -6.79862320e-03,  -1.06506427e-02,   1.45749033e-02,\n",
        "        -4.34383158e-02,  -3.49209756e-02,   1.88909059e-02,\n",
        "         4.02852370e-02,  -3.09087097e-02,  -1.64313231e-02,\n",
        "        -3.28199916e-02,  -9.64798915e-03,   3.13000394e-02,\n",
        "        -5.49018621e-02,  -2.04010328e-02,  -4.30159065e-02,\n",
        "         2.46783022e-02,  -3.13592225e-02,  -9.40167005e-03,\n",
        "        -1.09727266e-02,  -2.85204472e-02,  -2.23457043e-02,\n",
        "         1.27175810e-02,  -2.71126456e-02,  -1.15748345e-02,\n",
        "        -6.50552853e-03,   1.86369859e-02,   3.29419066e-02,\n",
        "         3.28359318e-02,   4.34965384e-02,  -5.26157813e-02,\n",
        "         1.66922296e-02,  -3.41638752e-02,   6.14494073e-03,\n",
        "        -9.39345413e-03,  -7.75425853e-02,  -3.81183120e-02,\n",
        "        -5.08027355e-02,  -2.82100602e-03,  -2.17256200e-02,\n",
        "         2.38829234e-04,  -8.49947340e-02,   3.41378617e-02,\n",
        "         3.03365563e-02,  -4.09481918e-02,   7.46550009e-03,\n",
        "        -5.48277720e-02,   3.35284488e-02,   4.02673142e-03,\n",
        "        -9.17688165e-03,  -3.54164723e-02,  -4.71802325e-03,\n",
        "        -4.14732100e-02,   3.60721190e-02,  -1.22404240e-02,\n",
        "        -7.74436809e-02,   8.78827362e-03,   1.36110359e-03,\n",
        "         1.97576605e-02,  -5.94907175e-03,   1.07323998e-02,\n",
        "        -3.97582785e-02,  -1.76492721e-02,   3.62055299e-02,\n",
        "         1.45753507e-02,   1.08671578e-01,  -1.64705162e-02,\n",
        "         1.42046553e-02,  -3.65111951e-02,  -3.65117475e-02,\n",
        "        -1.56033703e-02,   4.60824906e-02,   2.66121237e-02,\n",
        "         3.25137389e-02,   1.30695423e-02,   1.29203659e-02,\n",
        "        -3.20611703e-02,   8.55843272e-03,   7.36847370e-02,\n",
        "         9.55754664e-03,   5.94246887e-03,   1.38581093e-02,\n",
        "        -4.22185867e-02,   7.20545645e-02,  -4.14961885e-03,\n",
        "        -2.40493314e-02,   3.58731136e-02,  -1.28199715e-02,\n",
        "        -1.86088122e-02,   5.72222865e-02,  -1.88884050e-02,\n",
        "        -7.64584694e-04,  -1.77665644e-02,  -1.58167125e-02,\n",
        "        -3.79348397e-02,  -3.12742634e-03,   5.87907757e-03,\n",
        "         4.65726486e-02,  -1.21318713e-02,  -2.86077390e-02,\n",
        "        -3.68715111e-02,   1.20939335e-03,   8.34066495e-02,\n",
        "        -2.43630540e-02,  -3.76149109e-03,  -4.40752704e-02,\n",
        "         2.78388462e-02,  -1.11749816e-02,   6.44779835e-02,\n",
        "        -2.03031211e-02,  -5.15642162e-02,  -4.82188600e-02,\n",
        "        -5.11064546e-02,  -5.44974805e-02,   1.08112464e-02,\n",
        "        -2.28939621e-02,  -3.62548009e-02,  -3.32155981e-03,\n",
        "         5.94027437e-02,  -2.12864068e-02,   1.88752395e-02,\n",
        "         8.62292226e-02,  -1.05813073e-01,   2.46551440e-02,\n",
        "        -9.49418884e-02,  -4.49937158e-02,   5.80125188e-04,\n",
        "        -2.68704168e-02,   2.18530939e-02,   3.85334674e-02,\n",
        "         3.68448698e-02,  -5.62129463e-02,  -8.96086659e-03,\n",
        "        -1.08771619e-02,  -1.92633281e-02,   2.79604998e-02,\n",
        "         2.49032143e-02,  -3.16558020e-02,  -2.12784331e-02,\n",
        "         3.17354772e-02,  -5.24338448e-02,   7.12475822e-02,\n",
        "         4.24750367e-02,   4.32145284e-02,  -2.90702220e-02,\n",
        "         2.21811517e-02,  -5.65482114e-02,   9.44074068e-02,\n",
        "         2.72000048e-03,  -3.86533330e-02,   2.79315721e-02,\n",
        "         4.16954444e-04,  -6.01181228e-02,  -7.19058658e-03,\n",
        "         3.09258974e-02,  -2.28038633e-02,  -1.83250809e-02,\n",
        "        -1.19820882e-03,   3.28835966e-03,  -1.59774938e-02,\n",
        "         4.24440005e-02,   5.07563264e-02,  -5.96509698e-02,\n",
        "         2.68182268e-03,   2.47718344e-02,   5.89141624e-02,\n",
        "        -8.69090065e-02,  -4.51183640e-02,  -4.71759464e-02,\n",
        "        -4.95053775e-02,   7.36773682e-03,   2.01065745e-02,\n",
        "         9.81497739e-03,  -5.51240667e-02,  -1.65817140e-02,\n",
        "        -3.95116582e-02,  -2.06261061e-02,   1.33693267e-02,\n",
        "         9.66962781e-03,  -5.58178580e-02,   2.02459065e-02,\n",
        "        -1.64970599e-02,  -2.60328433e-02,  -4.26168441e-02,\n",
        "        -9.84497443e-03,  -2.23329185e-03,  -4.44787745e-02,\n",
        "        -1.57280310e-03,   8.01053301e-02,   3.23994726e-02,\n",
        "        -3.39725027e-02,   3.07774942e-02,   1.55637201e-02,\n",
        "         1.01219313e-02,   1.30224737e-02,  -3.79632652e-02,\n",
        "        -1.84148329e-02,   2.20654217e-02,   1.28689669e-01,\n",
        "        -5.31763093e-02,  -9.95767931e-03,  -9.01133806e-03,\n",
        "         1.53030538e-02,   2.18329227e-02,  -3.60802414e-02,\n",
        "         4.67622455e-03,  -2.67042569e-02,  -2.19916653e-02,\n",
        "        -3.66258472e-02,  -1.28069057e-02,  -2.87241700e-02,\n",
        "         8.38189241e-02,   1.98312000e-02,   9.54851402e-03,\n",
        "        -4.18246981e-02,  -3.40215285e-02,  -1.78916741e-02,\n",
        "         1.69013714e-03,   3.03041599e-02,  -2.64241231e-02,\n",
        "         1.85343409e-02,   3.04379732e-02,  -1.69909018e-02,\n",
        "         1.30113150e-02,  -5.08180231e-02,   1.59922085e-03,\n",
        "        -2.95784398e-02,  -7.24017566e-03,   2.19476120e-02,\n",
        "         9.64956501e-02,   5.77477196e-02,  -6.51400781e-03,\n",
        "         1.25206725e-02,  -8.82646418e-02,   4.80665754e-02,\n",
        "        -1.48852179e-03,   1.59081198e-02,   1.65353947e-02,\n",
        "         5.44306593e-02,   3.84195199e-02,  -8.85092188e-03,\n",
        "        -2.02521773e-02,   3.54085428e-02,  -2.92963273e-02,\n",
        "         9.87590227e-03,  -5.44386218e-02,  -2.01942967e-03,\n",
        "        -4.26730242e-02,   1.50731693e-02,  -3.18966437e-02,\n",
        "         7.96755959e-02,  -3.03565922e-02,  -2.19628117e-02,\n",
        "         3.23949550e-02,  -2.60521110e-02,  -3.03020846e-03,\n",
        "        -5.27740544e-02,  -1.81095130e-02,   2.96607524e-02,\n",
        "         1.79459050e-02,   2.67885579e-02,  -6.91022369e-03,\n",
        "        -1.36314160e-02,  -3.51903353e-02,  -4.71634500e-02,\n",
        "         3.38301880e-02,  -5.90182421e-03,  -5.86535595e-02,\n",
        "         2.09974470e-02,  -1.11015358e-03,  -3.62288298e-02,\n",
        "         9.17205804e-03,   2.15274574e-03,   2.31417845e-02,\n",
        "         1.67403835e-02,   4.73298013e-02,  -8.91117387e-04,\n",
        "         2.39924050e-02,   5.98978543e-02,   1.49490554e-02,\n",
        "         1.08046037e-02,   5.17924494e-02,   3.45260858e-02,\n",
        "        -4.50983755e-02,  -2.14876696e-03,   6.06739205e-02,\n",
        "         4.48452200e-02,   1.94258661e-03,   8.79329997e-03,\n",
        "        -3.17764153e-02,  -3.27017458e-02,   2.68090277e-02,\n",
        "         1.30468585e-04,   1.93701650e-02,   1.77996790e-02,\n",
        "        -1.85559204e-02,   7.84894216e-02,   1.47737151e-02,\n",
        "         3.93892087e-02,   1.78482434e-03,   2.23684053e-02,\n",
        "        -1.17409689e-02,  -2.92829464e-02,  -2.90478626e-02,\n",
        "        -5.92439041e-02,  -1.62280315e-02,   5.76814107e-02,\n",
        "         1.60901376e-03,   1.07055939e-02,  -1.55651298e-02,\n",
        "        -1.31776823e-02,   1.43910799e-04,  -5.47310438e-02,\n",
        "         3.07857948e-02,   3.34783567e-03,  -9.45651369e-04,\n",
        "        -5.53635234e-02,  -1.73835358e-02,  -2.51660119e-02,\n",
        "        -3.30155063e-02,  -1.43469893e-02,  -2.73764826e-02,\n",
        "         3.60152038e-02,   3.44519442e-02,  -1.28520312e-03,\n",
        "        -1.93928769e-03,  -1.96934964e-04,   2.58533754e-03,\n",
        "        -3.61157408e-02,  -6.75621862e-03,  -1.00626721e-02,\n",
        "         1.18265283e-03,   1.68199789e-02,  -4.18555120e-02,\n",
        "        -6.81800858e-02,   3.49540830e-02,   9.29168970e-03,\n",
        "         4.24976859e-02,   5.43525185e-02,  -1.60565090e-02,\n",
        "         2.58591884e-02,  -1.67808293e-03,  -5.78850023e-02,\n",
        "        -8.84227922e-03,   3.64649961e-03,   5.01649928e-03,\n",
        "        -1.41706756e-03,  -2.30849637e-03,   1.74552054e-02,\n",
        "         1.96952665e-02,  -3.23033600e-02,  -2.67195491e-02,\n",
        "        -3.28583354e-02,   1.64232035e-03,   3.82050959e-02,\n",
        "         3.28507838e-02,   1.13460534e-02,  -4.21882142e-03,\n",
        "         2.32547475e-03,  -1.26592938e-02,  -1.98604999e-03,\n",
        "         4.35700578e-03,   4.43147855e-02,  -2.09311587e-03,\n",
        "        -2.51698560e-02,   5.68992906e-03,   6.79332626e-02,\n",
        "         9.91432981e-03,   1.35644230e-02,   1.18723666e-02,\n",
        "        -1.16746760e-02,  -6.55404251e-02,  -2.47880853e-03,\n",
        "         1.71989608e-02,  -5.44522078e-03,   2.11271502e-02,\n",
        "         2.77001113e-02,   1.76558588e-03,   3.00032084e-02,\n",
        "        -2.16829972e-02,   6.24479613e-02,  -6.22246544e-02,\n",
        "         8.15807219e-03,  -1.71927914e-02,   2.53626166e-02,\n",
        "         1.43497061e-02,  -7.44547332e-03,  -3.75180824e-02,\n",
        "         4.31710937e-02,   7.84677784e-03,   4.48585123e-02,\n",
        "         1.22860896e-02,   2.89893648e-02,   4.89020007e-02,\n",
        "         3.51592293e-02,   6.02710979e-03,  -2.73896559e-03,\n",
        "        -9.50484053e-03,  -1.90227558e-03,  -9.07122935e-03,\n",
        "        -3.25957121e-02,   2.34315536e-02,  -1.81374536e-02,\n",
        "         5.64917956e-02,   3.64736989e-02,  -2.45320316e-02,\n",
        "         2.00847551e-02,  -2.07448271e-02,  -1.15715884e-02,\n",
        "         3.10376585e-02,   2.50435822e-02,   2.96633212e-02,\n",
        "        -5.62630713e-02,  -3.85745093e-03,  -3.08112993e-02,\n",
        "         1.10476814e-02,  -2.92268715e-02,  -3.25901959e-02,\n",
        "         2.02794204e-02,   2.48809461e-02,  -3.38418121e-03,\n",
        "         6.59448286e-02,  -2.90221276e-02,   4.27367975e-02,\n",
        "        -4.25915939e-02,   4.18043595e-02,   2.17793663e-02,\n",
        "        -2.28217381e-03,   3.94451511e-03,  -4.60063997e-03,\n",
        "        -5.08318387e-02,   3.51508339e-02,  -1.58464254e-02,\n",
        "        -1.21435485e-02,   3.98416436e-02,   1.90118081e-02,\n",
        "         5.07498289e-02,   2.83848015e-02,  -1.52048667e-03,\n",
        "        -5.17855336e-02,   3.80204514e-02,  -5.95836630e-02,\n",
        "         4.88080613e-02,   4.11842552e-02,  -8.68569975e-02,\n",
        "        -5.18798678e-02,   3.44289739e-02,   8.72180046e-03,\n",
        "        -4.16525410e-04,   1.90182076e-02,   1.18511015e-02,\n",
        "         1.54118051e-02,  -3.98692007e-03,   1.39418631e-03,\n",
        "        -3.36805086e-03,   1.81083787e-02,   1.99550897e-02,\n",
        "         4.90905051e-03,   3.76602332e-03,  -1.36699075e-02,\n",
        "         1.32675590e-03,   1.18313840e-02,  -2.95019117e-02,\n",
        "         1.40974347e-02,   4.32496889e-02,  -1.46115466e-02,\n",
        "         5.15907674e-03,  -2.88526692e-02,   2.35621536e-02,\n",
        "        -1.51553476e-02,  -1.18822495e-02,   1.86237680e-02,\n",
        "        -3.82031951e-02,   9.07962789e-03,  -3.38540571e-02,\n",
        "        -2.99708021e-02,   1.04832815e-02,   1.56242307e-02,\n",
        "         6.08042316e-03,  -7.24237680e-03,  -3.04497039e-02,\n",
        "        -1.84536871e-02,  -2.32317254e-02,   6.75895127e-03,\n",
        "        -3.71618888e-02,   1.91924182e-02,  -1.17956581e-02,\n",
        "        -6.81517621e-02,   5.28387626e-02,   4.58395284e-02,\n",
        "         2.56741515e-02,  -4.07100059e-02,   7.77682031e-03,\n",
        "        -1.15996829e-02,   2.81000346e-02,  -2.51171996e-02,\n",
        "        -5.07707721e-02,   4.61043545e-02,  -7.64680332e-06,\n",
        "         4.76438883e-03,  -2.95107629e-02,   3.71011818e-02,\n",
        "         4.10882421e-03,  -3.96809130e-03,  -3.47698271e-02,\n",
        "         2.40437818e-02,  -1.90882048e-02,  -1.29798915e-02,\n",
        "        -5.31598856e-02,  -6.61061867e-03,  -3.88234532e-03,\n",
        "         8.74839241e-02,   2.32406801e-02,  -1.50633558e-02,\n",
        "        -1.14380314e-02,  -2.65741907e-03,  -4.65465871e-02,\n",
        "        -2.41220978e-02,  -5.32278807e-06,   1.07392919e-02,\n",
        "         1.58744680e-02,   1.13545620e-02,  -3.63956576e-02,\n",
        "         7.87753274e-03,   3.12336038e-02,   2.50685356e-02,\n",
        "         5.87859351e-03,  -6.02523421e-03,  -8.18050646e-03,\n",
        "         1.88708539e-02,   4.15634877e-02,   4.68423877e-02,\n",
        "         1.04638989e-02,  -2.55081292e-02,  -3.32002342e-02,\n",
        "         8.38474667e-03,  -1.05960925e-02,  -1.65001597e-02,\n",
        "         1.30829923e-04,   4.47749318e-03,  -1.28340091e-02,\n",
        "        -4.16710202e-02,  -3.36905459e-02,  -4.82894893e-02,\n",
        "        -2.41125166e-02,   4.36545273e-02,  -2.34243418e-02,\n",
        "        -3.60358335e-02,  -8.42403682e-03,   4.34334183e-02,\n",
        "         1.47958900e-02,   3.41868156e-02,   5.02175784e-03,\n",
        "         1.51850557e-02,   1.72392516e-02,   6.17914291e-02,\n",
        "         2.17647643e-02,  -2.80937146e-02,   1.37561173e-02,\n",
        "         8.05128597e-03,  -6.94520353e-03,  -4.51262951e-03,\n",
        "         7.70189010e-04,  -2.12080645e-02,   2.09212013e-02,\n",
        "         1.59537524e-02,   6.21577487e-04,   2.21842906e-02,\n",
        "         5.03667822e-03,  -1.66766240e-02,   3.38008537e-04,\n",
        "         4.36039183e-02,   5.24868061e-02,   1.17302311e-03,\n",
        "        -1.61549961e-02,  -3.11190141e-02,  -5.45834689e-02,\n",
        "        -2.06858468e-02,   5.39228759e-03,  -1.45966740e-02,\n",
        "         1.22324791e-02,   1.26393022e-02,  -2.14454144e-02,\n",
        "         4.00088720e-02,   9.16550560e-04,   2.67929132e-02,\n",
        "        -1.86330144e-02,   2.79106252e-03,  -5.48077045e-02,\n",
        "        -4.63828151e-03,   3.83508917e-02,  -1.33526284e-02,\n",
        "         2.27746245e-03,   1.40677862e-02,  -5.67099760e-03,\n",
        "        -2.61597635e-02,   1.69543301e-02,   3.45468572e-03,\n",
        "        -5.74400375e-03,   2.52998665e-02,   9.88456538e-03,\n",
        "        -6.64072118e-03,   5.69596017e-03,   3.46868570e-02,\n",
        "         3.29144688e-02,   1.33215532e-02,   4.41415422e-02,\n",
        "        -3.08105066e-02,   3.61109337e-03,  -7.81023845e-04,\n",
        "        -1.29737092e-02,   6.49751764e-03,   2.31512967e-02,\n",
        "         2.78062885e-02,   6.38415799e-03,   5.25599951e-03,\n",
        "        -1.28147885e-02,   2.10930347e-02,   2.09752302e-02,\n",
        "         1.37799762e-02,  -3.13455009e-02,   1.67726024e-03,\n",
        "        -2.63309008e-02,  -1.66214272e-02,   1.00228694e-02,\n",
        "         7.80217792e-03,   1.57356535e-02,   3.41945511e-02,\n",
        "         4.18712022e-02,  -4.45247831e-02,   2.25249527e-02,\n",
        "        -3.95543391e-02,   6.58980651e-03,   1.15660316e-02,\n",
        "        -1.49038915e-03,  -1.52019511e-02,   1.34056665e-02,\n",
        "        -1.16732884e-02,  -4.26131243e-03,  -2.25803570e-02,\n",
        "         8.68568177e-03,  -3.45014577e-03,  -2.29227484e-02,\n",
        "        -2.14526677e-02,  -3.75471006e-02,   6.15546982e-03,\n",
        "        -6.56198722e-03,  -8.97809186e-03,   1.91390424e-02,\n",
        "         1.88736648e-03,   4.22896640e-03,   6.44152936e-03,\n",
        "         1.91886552e-02])"
       ]
      }
     ],
     "prompt_number": 6
    },
    {
     "cell_type": "code",
     "collapsed": false,
     "input": [
      "doc = abstract_db.find_one({\"_id\":ObjectId(doc_ids[0])})\n",
      "print transform_text(doc['abstract'][0])"
     ],
     "language": "python",
     "metadata": {},
     "outputs": [
      {
       "output_type": "stream",
       "stream": "stdout",
       "text": [
        "[ -8.49449165e-03  -9.22680869e-02  -6.56132596e-03   4.96699208e-03\n",
        "  -4.59189236e-02   6.47064712e-04  -8.20239502e-02  -4.50671220e-02\n",
        "  -4.37270535e-04  -1.33399179e-02  -6.26085932e-03  -1.56431457e-02\n",
        "  -2.27372413e-02   2.41716064e-02   2.38341931e-02  -1.88061454e-02\n",
        "   1.87750484e-02  -2.19112186e-02   6.13494181e-03   3.63257666e-02\n",
        "   4.10504685e-02  -1.52555399e-02  -1.24170489e-02   2.34052878e-02\n",
        "  -3.65421800e-02   3.71059037e-02   5.60648644e-03   2.94033988e-03\n",
        "  -1.65807055e-02  -4.26036650e-02   2.04900521e-02  -5.84935913e-04\n",
        "  -4.08696871e-02  -2.09992004e-02  -3.89004424e-03   1.39407528e-02\n",
        "  -9.50521301e-03   6.43697312e-02   5.17785560e-03  -6.47740198e-03\n",
        "   9.55225913e-03  -1.84756287e-02   7.34387620e-03  -1.32194108e-02\n",
        "  -1.30561049e-02  -2.10251133e-02   9.11717096e-03  -2.39675314e-02\n",
        "   1.30162416e-02  -2.23860975e-02  -1.27356860e-03  -8.81759383e-03\n",
        "   1.40851145e-02  -3.25498695e-02   9.80390035e-03  -7.59567042e-03\n",
        "   1.11490174e-03   1.04080885e-02   1.62761140e-02  -2.47634502e-02\n",
        "  -1.16053711e-02   1.05947217e-02  -1.82843143e-02  -1.03164820e-02\n",
        "  -6.99907909e-03   2.38538538e-02   2.12976890e-02   2.80526608e-04\n",
        "   2.17380016e-02  -1.65452201e-02   2.47648405e-02   2.71457924e-02\n",
        "   6.36859329e-02  -9.28260893e-03  -5.89839308e-03  -3.19416953e-02\n",
        "   8.61040095e-03   1.61827456e-02  -1.41347327e-02   7.69222683e-03\n",
        "   1.55015595e-02   6.99462851e-03   1.80311782e-02   2.26072554e-02\n",
        "  -1.49623477e-03  -3.21897628e-02   2.52561561e-02   3.92654003e-03\n",
        "   4.80501470e-03   4.32761599e-02  -1.55603863e-02  -1.26313900e-02\n",
        "   2.78586876e-02  -3.65006936e-02  -2.63999309e-03  -9.08226315e-03\n",
        "   3.52565050e-03   2.74221029e-02  -1.80882726e-02  -3.38727467e-03\n",
        "  -1.03656729e-03   1.24397534e-02  -3.71239557e-03  -5.17415808e-02\n",
        "  -1.63645201e-03  -3.35711347e-02  -1.56978632e-02   4.02153010e-02\n",
        "   2.57675109e-02  -3.48339583e-02   1.14349477e-02   2.72403819e-02\n",
        "   7.49371410e-03   4.49701002e-02   2.57343398e-02  -2.80253285e-02\n",
        "   8.90046381e-03  -5.48187167e-03   1.76085973e-02  -1.88453051e-02\n",
        "   3.15738768e-03  -2.24324082e-03  -3.43149724e-03  -6.94360239e-02\n",
        "  -8.62615219e-03   2.52120965e-02   3.51126825e-02  -1.98910371e-02\n",
        "  -2.57966237e-02  -1.87052171e-03   4.47715893e-03   2.19429066e-02\n",
        "  -1.29824217e-02   1.43299240e-03  -8.71050944e-03   3.01224358e-02\n",
        "  -1.26902861e-02   3.09538740e-03   2.49838367e-02   3.49086305e-02\n",
        "  -4.38623047e-02   2.33493266e-02  -1.38243923e-02  -5.68837766e-03\n",
        "  -4.59366445e-03  -7.15728533e-03   3.69040842e-03   3.46458653e-02\n",
        "  -2.54770307e-03  -2.54773963e-02   3.20052825e-02   2.87395317e-02\n",
        "  -2.50941798e-02  -2.08752875e-03  -2.23383898e-02   1.62119295e-03\n",
        "  -1.44528266e-03   6.11786738e-02  -7.78931064e-03   2.86513620e-02\n",
        "   8.84285747e-03   2.95666240e-02   3.00212806e-02   4.24242790e-02\n",
        "  -1.62135013e-02   1.39352348e-02  -1.59059085e-03  -4.18076203e-02\n",
        "  -4.30652506e-02  -5.44829388e-02  -2.97615527e-02   2.57105130e-02\n",
        "   2.62823491e-02  -1.06014908e-02   4.11732669e-02  -2.99547866e-02\n",
        "  -3.31129895e-02   1.74593638e-02  -4.01118691e-02   2.30352926e-02\n",
        "  -4.88785627e-02   1.41512815e-02   2.86686337e-02   2.90634523e-02\n",
        "   1.33752634e-02   2.67930102e-02  -9.06829045e-03  -1.41583766e-02\n",
        "  -2.35391132e-02   1.95578965e-03  -2.31005159e-02   1.56362845e-02\n",
        "  -9.00706875e-03  -1.26615965e-02   6.98632816e-03   2.30457235e-02\n",
        "   6.22991551e-03  -2.70215205e-02  -6.91737366e-03   9.08633290e-03\n",
        "  -1.47047877e-02   5.15182151e-02   3.13414853e-02  -1.03237636e-02\n",
        "  -2.42324320e-03  -2.18058743e-02  -2.24214752e-02  -1.12277372e-03\n",
        "  -1.36297973e-02   2.07289336e-02  -7.94314626e-03   4.99622474e-02\n",
        "  -9.32826223e-03   3.36818187e-02   2.92859490e-02  -2.78475173e-02\n",
        "  -1.94953977e-02   2.42897397e-02  -3.26889464e-02  -4.03534548e-02\n",
        "   2.88943713e-02   6.90864937e-03  -6.44579469e-04   2.38159966e-02\n",
        "   1.07411514e-02   1.22029751e-02   8.66270187e-03   3.77575080e-04\n",
        "  -1.41330314e-02  -1.58320484e-02   1.58830871e-02  -3.57681505e-02\n",
        "   3.94379688e-03   1.32675497e-02  -9.03436073e-03  -9.99498256e-03\n",
        "  -1.73666629e-02  -2.26498100e-02  -2.80308949e-02   1.33570998e-02\n",
        "  -2.94796478e-02  -1.66900275e-03   3.65454853e-02   1.48229500e-02\n",
        "  -3.92429847e-02  -7.84042333e-02   1.59164109e-02  -1.07477018e-02\n",
        "   3.71914236e-02   2.74263974e-02  -1.13831798e-02   2.55284552e-02\n",
        "   9.73741826e-03   1.75681468e-02  -2.46698703e-02  -2.73882833e-02\n",
        "   8.10675882e-03  -1.10718501e-02  -3.57044698e-03   3.23436277e-02\n",
        "  -1.23489346e-02   4.28655783e-02   2.18941987e-02   3.94149844e-02\n",
        "   3.28309299e-02   2.45332967e-02   1.81044322e-02   4.75435591e-02\n",
        "  -4.19800344e-02   1.41439086e-02   1.75875374e-02  -4.10014411e-02\n",
        "   1.61375416e-02  -2.22583932e-02   4.60548271e-03   2.91742799e-02\n",
        "   1.07264054e-03   3.78382689e-02   2.55917521e-02  -2.97032034e-02\n",
        "   3.44197446e-02  -3.78134437e-02   5.01952362e-02   5.91463870e-02\n",
        "  -1.13335807e-02  -3.15385860e-03   4.47005235e-02   5.21172017e-03\n",
        "   1.18085550e-02  -2.41614385e-02   1.18426109e-02  -3.59163973e-02\n",
        "  -9.05855698e-03  -3.40100289e-03  -3.35329957e-02   1.19595207e-02\n",
        "  -2.27834138e-02   1.32241271e-03  -1.39320418e-02   3.03338809e-02\n",
        "   8.92593318e-03   4.12924187e-02  -2.29421529e-02  -3.86077433e-02\n",
        "  -1.47445408e-02   1.79192768e-02  -2.53645080e-02   1.87419056e-02\n",
        "   4.28639750e-03   2.17752086e-02  -2.36019813e-02   3.47637449e-02\n",
        "  -4.25051537e-04  -4.42525123e-02  -2.55148217e-02   1.16023830e-03\n",
        "  -1.80342102e-02   3.94814687e-04  -4.13648519e-02   1.21417966e-02\n",
        "  -4.91734985e-03   9.80798668e-02  -6.48680546e-03   5.90021238e-02\n",
        "   1.24128248e-03   8.38410875e-03   7.85581487e-03   8.00991756e-03\n",
        "  -1.75950533e-02   1.82328468e-02  -6.11375403e-03  -9.26886307e-03\n",
        "   1.48747102e-02   4.24287791e-02   8.87637402e-03   5.07702935e-02\n",
        "   5.65364833e-02   1.19286965e-02  -6.70767355e-02   1.49830816e-02\n",
        "  -4.75266891e-02  -4.71922167e-04  -1.68637127e-02  -3.16318653e-02\n",
        "  -2.11456620e-02  -3.29427438e-03   1.83498387e-02   2.21974394e-03\n",
        "  -6.79862320e-03  -1.06506427e-02   1.45749033e-02  -4.34383158e-02\n",
        "  -3.49209756e-02   1.88909059e-02   4.02852370e-02  -3.09087097e-02\n",
        "  -1.64313231e-02  -3.28199916e-02  -9.64798915e-03   3.13000394e-02\n",
        "  -5.49018621e-02  -2.04010328e-02  -4.30159065e-02   2.46783022e-02\n",
        "  -3.13592225e-02  -9.40167005e-03  -1.09727266e-02  -2.85204472e-02\n",
        "  -2.23457043e-02   1.27175810e-02  -2.71126456e-02  -1.15748345e-02\n",
        "  -6.50552853e-03   1.86369859e-02   3.29419066e-02   3.28359318e-02\n",
        "   4.34965384e-02  -5.26157813e-02   1.66922296e-02  -3.41638752e-02\n",
        "   6.14494073e-03  -9.39345413e-03  -7.75425853e-02  -3.81183120e-02\n",
        "  -5.08027355e-02  -2.82100602e-03  -2.17256200e-02   2.38829234e-04\n",
        "  -8.49947340e-02   3.41378617e-02   3.03365563e-02  -4.09481918e-02\n",
        "   7.46550009e-03  -5.48277720e-02   3.35284488e-02   4.02673142e-03\n",
        "  -9.17688165e-03  -3.54164723e-02  -4.71802325e-03  -4.14732100e-02\n",
        "   3.60721190e-02  -1.22404240e-02  -7.74436809e-02   8.78827362e-03\n",
        "   1.36110359e-03   1.97576605e-02  -5.94907175e-03   1.07323998e-02\n",
        "  -3.97582785e-02  -1.76492721e-02   3.62055299e-02   1.45753507e-02\n",
        "   1.08671578e-01  -1.64705162e-02   1.42046553e-02  -3.65111951e-02\n",
        "  -3.65117475e-02  -1.56033703e-02   4.60824906e-02   2.66121237e-02\n",
        "   3.25137389e-02   1.30695423e-02   1.29203659e-02  -3.20611703e-02\n",
        "   8.55843272e-03   7.36847370e-02   9.55754664e-03   5.94246887e-03\n",
        "   1.38581093e-02  -4.22185867e-02   7.20545645e-02  -4.14961885e-03\n",
        "  -2.40493314e-02   3.58731136e-02  -1.28199715e-02  -1.86088122e-02\n",
        "   5.72222865e-02  -1.88884050e-02  -7.64584694e-04  -1.77665644e-02\n",
        "  -1.58167125e-02  -3.79348397e-02  -3.12742634e-03   5.87907757e-03\n",
        "   4.65726486e-02  -1.21318713e-02  -2.86077390e-02  -3.68715111e-02\n",
        "   1.20939335e-03   8.34066495e-02  -2.43630540e-02  -3.76149109e-03\n",
        "  -4.40752704e-02   2.78388462e-02  -1.11749816e-02   6.44779835e-02\n",
        "  -2.03031211e-02  -5.15642162e-02  -4.82188600e-02  -5.11064546e-02\n",
        "  -5.44974805e-02   1.08112464e-02  -2.28939621e-02  -3.62548009e-02\n",
        "  -3.32155981e-03   5.94027437e-02  -2.12864068e-02   1.88752395e-02\n",
        "   8.62292226e-02  -1.05813073e-01   2.46551440e-02  -9.49418884e-02\n",
        "  -4.49937158e-02   5.80125188e-04  -2.68704168e-02   2.18530939e-02\n",
        "   3.85334674e-02   3.68448698e-02  -5.62129463e-02  -8.96086659e-03\n",
        "  -1.08771619e-02  -1.92633281e-02   2.79604998e-02   2.49032143e-02\n",
        "  -3.16558020e-02  -2.12784331e-02   3.17354772e-02  -5.24338448e-02\n",
        "   7.12475822e-02   4.24750367e-02   4.32145284e-02  -2.90702220e-02\n",
        "   2.21811517e-02  -5.65482114e-02   9.44074068e-02   2.72000048e-03\n",
        "  -3.86533330e-02   2.79315721e-02   4.16954444e-04  -6.01181228e-02\n",
        "  -7.19058658e-03   3.09258974e-02  -2.28038633e-02  -1.83250809e-02\n",
        "  -1.19820882e-03   3.28835966e-03  -1.59774938e-02   4.24440005e-02\n",
        "   5.07563264e-02  -5.96509698e-02   2.68182268e-03   2.47718344e-02\n",
        "   5.89141624e-02  -8.69090065e-02  -4.51183640e-02  -4.71759464e-02\n",
        "  -4.95053775e-02   7.36773682e-03   2.01065745e-02   9.81497739e-03\n",
        "  -5.51240667e-02  -1.65817140e-02  -3.95116582e-02  -2.06261061e-02\n",
        "   1.33693267e-02   9.66962781e-03  -5.58178580e-02   2.02459065e-02\n",
        "  -1.64970599e-02  -2.60328433e-02  -4.26168441e-02  -9.84497443e-03\n",
        "  -2.23329185e-03  -4.44787745e-02  -1.57280310e-03   8.01053301e-02\n",
        "   3.23994726e-02  -3.39725027e-02   3.07774942e-02   1.55637201e-02\n",
        "   1.01219313e-02   1.30224737e-02  -3.79632652e-02  -1.84148329e-02\n",
        "   2.20654217e-02   1.28689669e-01  -5.31763093e-02  -9.95767931e-03\n",
        "  -9.01133806e-03   1.53030538e-02   2.18329227e-02  -3.60802414e-02\n",
        "   4.67622455e-03  -2.67042569e-02  -2.19916653e-02  -3.66258472e-02\n",
        "  -1.28069057e-02  -2.87241700e-02   8.38189241e-02   1.98312000e-02\n",
        "   9.54851402e-03  -4.18246981e-02  -3.40215285e-02  -1.78916741e-02\n",
        "   1.69013714e-03   3.03041599e-02  -2.64241231e-02   1.85343409e-02\n",
        "   3.04379732e-02  -1.69909018e-02   1.30113150e-02  -5.08180231e-02\n",
        "   1.59922085e-03  -2.95784398e-02  -7.24017566e-03   2.19476120e-02\n",
        "   9.64956501e-02   5.77477196e-02  -6.51400781e-03   1.25206725e-02\n",
        "  -8.82646418e-02   4.80665754e-02  -1.48852179e-03   1.59081198e-02\n",
        "   1.65353947e-02   5.44306593e-02   3.84195199e-02  -8.85092188e-03\n",
        "  -2.02521773e-02   3.54085428e-02  -2.92963273e-02   9.87590227e-03\n",
        "  -5.44386218e-02  -2.01942967e-03  -4.26730242e-02   1.50731693e-02\n",
        "  -3.18966437e-02   7.96755959e-02  -3.03565922e-02  -2.19628117e-02\n",
        "   3.23949550e-02  -2.60521110e-02  -3.03020846e-03  -5.27740544e-02\n",
        "  -1.81095130e-02   2.96607524e-02   1.79459050e-02   2.67885579e-02\n",
        "  -6.91022369e-03  -1.36314160e-02  -3.51903353e-02  -4.71634500e-02\n",
        "   3.38301880e-02  -5.90182421e-03  -5.86535595e-02   2.09974470e-02\n",
        "  -1.11015358e-03  -3.62288298e-02   9.17205804e-03   2.15274574e-03\n",
        "   2.31417845e-02   1.67403835e-02   4.73298013e-02  -8.91117387e-04\n",
        "   2.39924050e-02   5.98978543e-02   1.49490554e-02   1.08046037e-02\n",
        "   5.17924494e-02   3.45260858e-02  -4.50983755e-02  -2.14876696e-03\n",
        "   6.06739205e-02   4.48452200e-02   1.94258661e-03   8.79329997e-03\n",
        "  -3.17764153e-02  -3.27017458e-02   2.68090277e-02   1.30468585e-04\n",
        "   1.93701650e-02   1.77996790e-02  -1.85559204e-02   7.84894216e-02\n",
        "   1.47737151e-02   3.93892087e-02   1.78482434e-03   2.23684053e-02\n",
        "  -1.17409689e-02  -2.92829464e-02  -2.90478626e-02  -5.92439041e-02\n",
        "  -1.62280315e-02   5.76814107e-02   1.60901376e-03   1.07055939e-02\n",
        "  -1.55651298e-02  -1.31776823e-02   1.43910799e-04  -5.47310438e-02\n",
        "   3.07857948e-02   3.34783567e-03  -9.45651369e-04  -5.53635234e-02\n",
        "  -1.73835358e-02  -2.51660119e-02  -3.30155063e-02  -1.43469893e-02\n",
        "  -2.73764826e-02   3.60152038e-02   3.44519442e-02  -1.28520312e-03\n",
        "  -1.93928769e-03  -1.96934964e-04   2.58533754e-03  -3.61157408e-02\n",
        "  -6.75621862e-03  -1.00626721e-02   1.18265283e-03   1.68199789e-02\n",
        "  -4.18555120e-02  -6.81800858e-02   3.49540830e-02   9.29168970e-03\n",
        "   4.24976859e-02   5.43525185e-02  -1.60565090e-02   2.58591884e-02\n",
        "  -1.67808293e-03  -5.78850023e-02  -8.84227922e-03   3.64649961e-03\n",
        "   5.01649928e-03  -1.41706756e-03  -2.30849637e-03   1.74552054e-02\n",
        "   1.96952665e-02  -3.23033600e-02  -2.67195491e-02  -3.28583354e-02\n",
        "   1.64232035e-03   3.82050959e-02   3.28507838e-02   1.13460534e-02\n",
        "  -4.21882142e-03   2.32547475e-03  -1.26592938e-02  -1.98604999e-03\n",
        "   4.35700578e-03   4.43147855e-02  -2.09311587e-03  -2.51698560e-02\n",
        "   5.68992906e-03   6.79332626e-02   9.91432981e-03   1.35644230e-02\n",
        "   1.18723666e-02  -1.16746760e-02  -6.55404251e-02  -2.47880853e-03\n",
        "   1.71989608e-02  -5.44522078e-03   2.11271502e-02   2.77001113e-02\n",
        "   1.76558588e-03   3.00032084e-02  -2.16829972e-02   6.24479613e-02\n",
        "  -6.22246544e-02   8.15807219e-03  -1.71927914e-02   2.53626166e-02\n",
        "   1.43497061e-02  -7.44547332e-03  -3.75180824e-02   4.31710937e-02\n",
        "   7.84677784e-03   4.48585123e-02   1.22860896e-02   2.89893648e-02\n",
        "   4.89020007e-02   3.51592293e-02   6.02710979e-03  -2.73896559e-03\n",
        "  -9.50484053e-03  -1.90227558e-03  -9.07122935e-03  -3.25957121e-02\n",
        "   2.34315536e-02  -1.81374536e-02   5.64917956e-02   3.64736989e-02\n",
        "  -2.45320316e-02   2.00847551e-02  -2.07448271e-02  -1.15715884e-02\n",
        "   3.10376585e-02   2.50435822e-02   2.96633212e-02  -5.62630713e-02\n",
        "  -3.85745093e-03  -3.08112993e-02   1.10476814e-02  -2.92268715e-02\n",
        "  -3.25901959e-02   2.02794204e-02   2.48809461e-02  -3.38418121e-03\n",
        "   6.59448286e-02  -2.90221276e-02   4.27367975e-02  -4.25915939e-02\n",
        "   4.18043595e-02   2.17793663e-02  -2.28217381e-03   3.94451511e-03\n",
        "  -4.60063997e-03  -5.08318387e-02   3.51508339e-02  -1.58464254e-02\n",
        "  -1.21435485e-02   3.98416436e-02   1.90118081e-02   5.07498289e-02\n",
        "   2.83848015e-02  -1.52048667e-03  -5.17855336e-02   3.80204514e-02\n",
        "  -5.95836630e-02   4.88080613e-02   4.11842552e-02  -8.68569975e-02\n",
        "  -5.18798678e-02   3.44289739e-02   8.72180046e-03  -4.16525410e-04\n",
        "   1.90182076e-02   1.18511015e-02   1.54118051e-02  -3.98692007e-03\n",
        "   1.39418631e-03  -3.36805086e-03   1.81083787e-02   1.99550897e-02\n",
        "   4.90905051e-03   3.76602332e-03  -1.36699075e-02   1.32675590e-03\n",
        "   1.18313840e-02  -2.95019117e-02   1.40974347e-02   4.32496889e-02\n",
        "  -1.46115466e-02   5.15907674e-03  -2.88526692e-02   2.35621536e-02\n",
        "  -1.51553476e-02  -1.18822495e-02   1.86237680e-02  -3.82031951e-02\n",
        "   9.07962789e-03  -3.38540571e-02  -2.99708021e-02   1.04832815e-02\n",
        "   1.56242307e-02   6.08042316e-03  -7.24237680e-03  -3.04497039e-02\n",
        "  -1.84536871e-02  -2.32317254e-02   6.75895127e-03  -3.71618888e-02\n",
        "   1.91924182e-02  -1.17956581e-02  -6.81517621e-02   5.28387626e-02\n",
        "   4.58395284e-02   2.56741515e-02  -4.07100059e-02   7.77682031e-03\n",
        "  -1.15996829e-02   2.81000346e-02  -2.51171996e-02  -5.07707721e-02\n",
        "   4.61043545e-02  -7.64680332e-06   4.76438883e-03  -2.95107629e-02\n",
        "   3.71011818e-02   4.10882421e-03  -3.96809130e-03  -3.47698271e-02\n",
        "   2.40437818e-02  -1.90882048e-02  -1.29798915e-02  -5.31598856e-02\n",
        "  -6.61061867e-03  -3.88234532e-03   8.74839241e-02   2.32406801e-02\n",
        "  -1.50633558e-02  -1.14380314e-02  -2.65741907e-03  -4.65465871e-02\n",
        "  -2.41220978e-02  -5.32278807e-06   1.07392919e-02   1.58744680e-02\n",
        "   1.13545620e-02  -3.63956576e-02   7.87753274e-03   3.12336038e-02\n",
        "   2.50685356e-02   5.87859351e-03  -6.02523421e-03  -8.18050646e-03\n",
        "   1.88708539e-02   4.15634877e-02   4.68423877e-02   1.04638989e-02\n",
        "  -2.55081292e-02  -3.32002342e-02   8.38474667e-03  -1.05960925e-02\n",
        "  -1.65001597e-02   1.30829923e-04   4.47749318e-03  -1.28340091e-02\n",
        "  -4.16710202e-02  -3.36905459e-02  -4.82894893e-02  -2.41125166e-02\n",
        "   4.36545273e-02  -2.34243418e-02  -3.60358335e-02  -8.42403682e-03\n",
        "   4.34334183e-02   1.47958900e-02   3.41868156e-02   5.02175784e-03\n",
        "   1.51850557e-02   1.72392516e-02   6.17914291e-02   2.17647643e-02\n",
        "  -2.80937146e-02   1.37561173e-02   8.05128597e-03  -6.94520353e-03\n",
        "  -4.51262951e-03   7.70189010e-04  -2.12080645e-02   2.09212013e-02\n",
        "   1.59537524e-02   6.21577487e-04   2.21842906e-02   5.03667822e-03\n",
        "  -1.66766240e-02   3.38008537e-04   4.36039183e-02   5.24868061e-02\n",
        "   1.17302311e-03  -1.61549961e-02  -3.11190141e-02  -5.45834689e-02\n",
        "  -2.06858468e-02   5.39228759e-03  -1.45966740e-02   1.22324791e-02\n",
        "   1.26393022e-02  -2.14454144e-02   4.00088720e-02   9.16550560e-04\n",
        "   2.67929132e-02  -1.86330144e-02   2.79106252e-03  -5.48077045e-02\n",
        "  -4.63828151e-03   3.83508917e-02  -1.33526284e-02   2.27746245e-03\n",
        "   1.40677862e-02  -5.67099760e-03  -2.61597635e-02   1.69543301e-02\n",
        "   3.45468572e-03  -5.74400375e-03   2.52998665e-02   9.88456538e-03\n",
        "  -6.64072118e-03   5.69596017e-03   3.46868570e-02   3.29144688e-02\n",
        "   1.33215532e-02   4.41415422e-02  -3.08105066e-02   3.61109337e-03\n",
        "  -7.81023845e-04  -1.29737092e-02   6.49751764e-03   2.31512967e-02\n",
        "   2.78062885e-02   6.38415799e-03   5.25599951e-03  -1.28147885e-02\n",
        "   2.10930347e-02   2.09752302e-02   1.37799762e-02  -3.13455009e-02\n",
        "   1.67726024e-03  -2.63309008e-02  -1.66214272e-02   1.00228694e-02\n",
        "   7.80217792e-03   1.57356535e-02   3.41945511e-02   4.18712022e-02\n",
        "  -4.45247831e-02   2.25249527e-02  -3.95543391e-02   6.58980651e-03\n",
        "   1.15660316e-02  -1.49038915e-03  -1.52019511e-02   1.34056665e-02\n",
        "  -1.16732884e-02  -4.26131243e-03  -2.25803570e-02   8.68568177e-03\n",
        "  -3.45014577e-03  -2.29227484e-02  -2.14526677e-02  -3.75471006e-02\n",
        "   6.15546982e-03  -6.56198722e-03  -8.97809186e-03   1.91390424e-02\n",
        "   1.88736648e-03   4.22896640e-03   6.44152936e-03   1.91886552e-02]\n"
       ]
      }
     ],
     "prompt_number": 7
    },
    {
     "cell_type": "code",
     "collapsed": false,
     "input": [
      "foo = range(100)"
     ],
     "language": "python",
     "metadata": {},
     "outputs": [],
     "prompt_number": 58
    },
    {
     "cell_type": "code",
     "collapsed": false,
     "input": [
      "random_sample = resample(foo,replace =False, n_samples =20)"
     ],
     "language": "python",
     "metadata": {},
     "outputs": [],
     "prompt_number": 59
    },
    {
     "cell_type": "code",
     "collapsed": false,
     "input": [
      "random_sample"
     ],
     "language": "python",
     "metadata": {},
     "outputs": [
      {
       "metadata": {},
       "output_type": "pyout",
       "prompt_number": 61,
       "text": [
        "array([63, 89, 19, 40,  6, 74,  0, 10, 52, 79, 25, 99, 26, 36, 15, 45, 39,\n",
        "       46, 16, 44])"
       ]
      }
     ],
     "prompt_number": 61
    },
    {
     "cell_type": "code",
     "collapsed": false,
     "input": [
      "step_4.get_params"
     ],
     "language": "python",
     "metadata": {},
     "outputs": [
      {
       "metadata": {},
       "output_type": "pyout",
       "prompt_number": 69,
       "text": [
        "<bound method KernelPCA.get_params of KernelPCA(alpha=1.0, coef0=1, degree=3, eigen_solver='auto',\n",
        "     fit_inverse_transform=False, gamma=None, kernel='cosine',\n",
        "     kernel_params=None, max_iter=None, n_components=1000,\n",
        "     remove_zero_eig=False, tol=0)>"
       ]
      }
     ],
     "prompt_number": 69
    },
    {
     "cell_type": "code",
     "collapsed": false,
     "input": [
      "for i in range(7):\n",
      "    t =topics[i]\n",
      "    doc = abstract_db.find_one({\"_id\":ObjectId(doc_ids[i])})\n",
      "    v = transform_text(doc['abstract'][0])\n",
      "    print cosine_similarity(t,v)"
     ],
     "language": "python",
     "metadata": {},
     "outputs": [
      {
       "output_type": "stream",
       "stream": "stdout",
       "text": [
        "[[-0.01399482]]\n",
        "[[ 0.04514585]]\n",
        "[[-0.06121862]]"
       ]
      },
      {
       "output_type": "stream",
       "stream": "stdout",
       "text": [
        "\n",
        "[[-0.00023283]]"
       ]
      },
      {
       "output_type": "stream",
       "stream": "stdout",
       "text": [
        "\n",
        "[[-0.04938587]]"
       ]
      },
      {
       "output_type": "stream",
       "stream": "stdout",
       "text": [
        "\n",
        "[[ 0.07382202]]"
       ]
      },
      {
       "output_type": "stream",
       "stream": "stdout",
       "text": [
        "\n",
        "[[ 0.02283487]]"
       ]
      },
      {
       "output_type": "stream",
       "stream": "stdout",
       "text": [
        "\n"
       ]
      }
     ],
     "prompt_number": 71
    },
    {
     "cell_type": "code",
     "collapsed": false,
     "input": [],
     "language": "python",
     "metadata": {},
     "outputs": []
    }
   ],
   "metadata": {}
  }
 ]
}