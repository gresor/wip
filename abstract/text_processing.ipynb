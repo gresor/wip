{
 "metadata": {
  "name": "",
  "signature": "sha256:4fe1e43dd94d70f0630a2a0bda7209919593fd7030bebd93bd9eae53c2d286d5"
 },
 "nbformat": 3,
 "nbformat_minor": 0,
 "worksheets": [
  {
   "cells": [
    {
     "cell_type": "markdown",
     "metadata": {},
     "source": [
      "make a functions that makes a list of docs, fits a tfidf vecotizer to the text data.\n",
      "export the vecotizer and the tfidf matrix. then update the database with the sparce matrix tfidiv vextor for each doc."
     ]
    },
    {
     "cell_type": "code",
     "collapsed": false,
     "input": [
      "from sklearn.feature_extraction.text import TfidfVectorizer\n",
      "from sklearn.externals import joblib\n",
      "import pickle\n",
      "from sklearn.neighbors import KNeighborsClassifier\n",
      "from bson.objectid import ObjectId\n",
      "from sklearn.metrics.pairwise import cosine_similarity\n",
      "from sklearn.decomposition import PCA, KernelPCA, TruncatedSVD\n",
      "from sklearn.feature_selection import VarianceThreshold"
     ],
     "language": "python",
     "metadata": {},
     "outputs": [],
     "prompt_number": 1
    },
    {
     "cell_type": "code",
     "collapsed": false,
     "input": [
      "#starting up pymongo\n",
      "import pymongo\n",
      "#making mongo db of abstracts\n",
      "c = pymongo.MongoClient()\n",
      "db = c['PloS']\n",
      "abstract_db = db['this_year']"
     ],
     "language": "python",
     "metadata": {},
     "outputs": [],
     "prompt_number": 2
    },
    {
     "cell_type": "code",
     "collapsed": false,
     "input": [
      "abstract_db.create_index('author_without_collab_display')"
     ],
     "language": "python",
     "metadata": {},
     "outputs": [
      {
       "metadata": {},
       "output_type": "pyout",
       "prompt_number": 3,
       "text": [
        "u'author_without_collab_display_1'"
       ]
      }
     ],
     "prompt_number": 3
    },
    {
     "cell_type": "code",
     "collapsed": false,
     "input": [
      "from sklearn.feature_extraction.text import HashingVectorizer, TfidfTransformer\n",
      "from scipy.sparse import vstack"
     ],
     "language": "python",
     "metadata": {},
     "outputs": [],
     "prompt_number": 4
    },
    {
     "cell_type": "code",
     "collapsed": false,
     "input": [
      "#online trfidf\n",
      "cur = abstract_db.find({},{'abstract':1})\n",
      "hash_vect= HashingVectorizer(stop_words='english', ngram_range=(1,3), non_negative=True, norm=None)\n",
      "list_of_rows = []\n",
      "y=[]\n",
      "for doc in cur:\n",
      "    sparse_row = hash_vect.fit_transform(doc['abstract'])\n",
      "    list_of_rows.append(sparse_row)\n",
      "    y.append(str(doc['_id']))\n",
      "hash_stack = vstack(list_of_rows)\n",
      "\n",
      "h_transform = TfidfTransformer()\n",
      "hash_matrix = h_transform.fit_transform(hash_stack)"
     ],
     "language": "python",
     "metadata": {},
     "outputs": [],
     "prompt_number": 6
    },
    {
     "cell_type": "code",
     "collapsed": false,
     "input": [
      "hash_vect.get_params()\n",
      "#h_transform.get_params()"
     ],
     "language": "python",
     "metadata": {},
     "outputs": [
      {
       "metadata": {},
       "output_type": "pyout",
       "prompt_number": 16,
       "text": [
        "{'analyzer': u'word',\n",
        " 'binary': False,\n",
        " 'charset': None,\n",
        " 'charset_error': None,\n",
        " 'decode_error': u'strict',\n",
        " 'dtype': numpy.float64,\n",
        " 'encoding': u'utf-8',\n",
        " 'input': u'content',\n",
        " 'lowercase': True,\n",
        " 'n_features': 1048576,\n",
        " 'ngram_range': (1, 3),\n",
        " 'non_negative': True,\n",
        " 'norm': None,\n",
        " 'preprocessor': None,\n",
        " 'stop_words': 'english',\n",
        " 'strip_accents': None,\n",
        " 'token_pattern': u'(?u)\\\\b\\\\w\\\\w+\\\\b',\n",
        " 'tokenizer': None}"
       ]
      }
     ],
     "prompt_number": 16
    },
    {
     "cell_type": "code",
     "collapsed": false,
     "input": [
      "#export ids, and first 2 processing steps\n",
      "pickle.dump(y,open(\"ids.pkl\",\"wb\"))\n",
      "joblib.dump(hash_vect,'step_1.pkl')\n",
      "joblib.dump(h_transform,'step_2.pkl')"
     ],
     "language": "python",
     "metadata": {},
     "outputs": [
      {
       "metadata": {},
       "output_type": "pyout",
       "prompt_number": 7,
       "text": [
        "['step_2.pkl', 'step_2.pkl_01.npy', 'step_2.pkl_02.npy']"
       ]
      }
     ],
     "prompt_number": 7
    },
    {
     "cell_type": "code",
     "collapsed": false,
     "input": [
      "select_feature =  VarianceThreshold(threshold=.00001)\n",
      "reduced_matrix = select_feature.fit_transform(hash_matrix)\n",
      "joblib.dump(select_feature,'step_3.pkl')"
     ],
     "language": "python",
     "metadata": {},
     "outputs": [
      {
       "metadata": {},
       "output_type": "pyout",
       "prompt_number": 8,
       "text": [
        "['step_3.pkl', 'step_3.pkl_01.npy']"
       ]
      }
     ],
     "prompt_number": 8
    },
    {
     "cell_type": "code",
     "collapsed": false,
     "input": [
      "#rnadomly select rows for random pca\n",
      "from sklearn.utils import resample"
     ],
     "language": "python",
     "metadata": {},
     "outputs": [],
     "prompt_number": 9
    },
    {
     "cell_type": "code",
     "collapsed": false,
     "input": [
      "random_sample = resample(reduced_matrix,replace =False, n_samples =1500)"
     ],
     "language": "python",
     "metadata": {},
     "outputs": [],
     "prompt_number": 10
    },
    {
     "cell_type": "code",
     "collapsed": false,
     "input": [
      "cosine_pca= KernelPCA(n_components=1000,kernel='cosine')\n",
      "cosine_pca.fit(random_sample)\n",
      "topics = cosine_pca.transform(reduced_matrix)"
     ],
     "language": "python",
     "metadata": {},
     "outputs": [],
     "prompt_number": 12
    },
    {
     "cell_type": "code",
     "collapsed": false,
     "input": [
      "cosine_pca= KernelPCA(n_components=1000,kernel='cosine')\n",
      "topics = cosine_pca.fit_transform(reduced_matrix)"
     ],
     "language": "python",
     "metadata": {},
     "outputs": [],
     "prompt_number": 18
    },
    {
     "cell_type": "code",
     "collapsed": false,
     "input": [
      "topics# - r_topics\n",
      "# topics"
     ],
     "language": "python",
     "metadata": {},
     "outputs": [
      {
       "metadata": {},
       "output_type": "pyout",
       "prompt_number": 33,
       "text": [
        "array([[-0.00208692, -0.09409831,  0.01535931, ..., -0.00639906,\n",
        "         0.04892967, -0.04113099],\n",
        "       [-0.05189072, -0.01810937, -0.03332288, ...,  0.07422587,\n",
        "        -0.00926198, -0.03119447],\n",
        "       [ 0.07652145, -0.01648604,  0.02333807, ...,  0.00650508,\n",
        "         0.01269626, -0.01847915],\n",
        "       ..., \n",
        "       [-0.09746261, -0.08588487, -0.12440578, ..., -0.00081644,\n",
        "        -0.01596961, -0.01057903],\n",
        "       [-0.02852956, -0.07456303, -0.02007213, ..., -0.00034132,\n",
        "        -0.01903216, -0.01873851],\n",
        "       [-0.01302886, -0.00888871,  0.0418706 , ...,  0.00350748,\n",
        "         0.01624182,  0.00386696]])"
       ]
      }
     ],
     "prompt_number": 33
    },
    {
     "cell_type": "code",
     "collapsed": false,
     "input": [
      "# cosine_pca= KernelPCA(n_components=1000,kernel='cosine')\n",
      "# topics = cosine_pca.fit_transform(hash_matrix)"
     ],
     "language": "python",
     "metadata": {},
     "outputs": [],
     "prompt_number": 40
    },
    {
     "cell_type": "code",
     "collapsed": false,
     "input": [
      "joblib.dump(cosine_pca,'step_4.pkl')\n",
      "pickle.dump(topics,open(\"topics.pkl\",\"wb\"))"
     ],
     "language": "python",
     "metadata": {},
     "outputs": [],
     "prompt_number": 13
    },
    {
     "cell_type": "code",
     "collapsed": false,
     "input": [
      "kn =KNeighborsClassifier(algorithm= 'brute',metric='cosine')\n",
      "kn.fit(topics,y)\n",
      "joblib.dump(kn,'kn_search.pkl')"
     ],
     "language": "python",
     "metadata": {},
     "outputs": [
      {
       "metadata": {},
       "output_type": "pyout",
       "prompt_number": 14,
       "text": [
        "['kn_search.pkl',\n",
        " 'kn_search.pkl_01.npy',\n",
        " 'kn_search.pkl_02.npy',\n",
        " 'kn_search.pkl_03.npy']"
       ]
      }
     ],
     "prompt_number": 14
    },
    {
     "cell_type": "code",
     "collapsed": false,
     "input": [
      "from lshash import LSHash"
     ],
     "language": "python",
     "metadata": {},
     "outputs": [],
     "prompt_number": 33
    },
    {
     "cell_type": "code",
     "collapsed": false,
     "input": [
      "lsh =LSHash(32,1000,2)\n",
      "lsh.index(topics)"
     ],
     "language": "python",
     "metadata": {},
     "outputs": [
      {
       "output_type": "stream",
       "stream": "stdout",
       "text": [
        "('The input point needs to be of the same dimension as\\n                  `input_dim` when initializing this LSHash instance', ValueError('shapes (32,1000) and (2588,1000) not aligned: 1000 (dim 1) != 2588 (dim 0)',))\n"
       ]
      },
      {
       "ename": "ValueError",
       "evalue": "shapes (32,1000) and (2588,1000) not aligned: 1000 (dim 1) != 2588 (dim 0)",
       "output_type": "pyerr",
       "traceback": [
        "\u001b[1;31m---------------------------------------------------------------------------\u001b[0m\n\u001b[1;31mValueError\u001b[0m                                Traceback (most recent call last)",
        "\u001b[1;32m<ipython-input-36-624b4d465817>\u001b[0m in \u001b[0;36m<module>\u001b[1;34m()\u001b[0m\n\u001b[0;32m      1\u001b[0m \u001b[0mlsh\u001b[0m \u001b[1;33m=\u001b[0m\u001b[0mLSHash\u001b[0m\u001b[1;33m(\u001b[0m\u001b[1;36m32\u001b[0m\u001b[1;33m,\u001b[0m\u001b[1;36m1000\u001b[0m\u001b[1;33m,\u001b[0m\u001b[1;36m2\u001b[0m\u001b[1;33m)\u001b[0m\u001b[1;33m\u001b[0m\u001b[0m\n\u001b[1;32m----> 2\u001b[1;33m \u001b[0mlsh\u001b[0m\u001b[1;33m.\u001b[0m\u001b[0mindex\u001b[0m\u001b[1;33m(\u001b[0m\u001b[0mtopics\u001b[0m\u001b[1;33m)\u001b[0m\u001b[1;33m\u001b[0m\u001b[0m\n\u001b[0m",
        "\u001b[1;32m/usr/local/lib/python2.7/dist-packages/lshash/lshash.pyc\u001b[0m in \u001b[0;36mindex\u001b[1;34m(self, input_point, extra_data)\u001b[0m\n\u001b[0;32m    202\u001b[0m \u001b[1;33m\u001b[0m\u001b[0m\n\u001b[0;32m    203\u001b[0m         \u001b[1;32mfor\u001b[0m \u001b[0mi\u001b[0m\u001b[1;33m,\u001b[0m \u001b[0mtable\u001b[0m \u001b[1;32min\u001b[0m \u001b[0menumerate\u001b[0m\u001b[1;33m(\u001b[0m\u001b[0mself\u001b[0m\u001b[1;33m.\u001b[0m\u001b[0mhash_tables\u001b[0m\u001b[1;33m)\u001b[0m\u001b[1;33m:\u001b[0m\u001b[1;33m\u001b[0m\u001b[0m\n\u001b[1;32m--> 204\u001b[1;33m             table.append_val(self._hash(self.uniform_planes[i], input_point),\n\u001b[0m\u001b[0;32m    205\u001b[0m                              value)\n\u001b[0;32m    206\u001b[0m \u001b[1;33m\u001b[0m\u001b[0m\n",
        "\u001b[1;32m/usr/local/lib/python2.7/dist-packages/lshash/lshash.pyc\u001b[0m in \u001b[0;36m_hash\u001b[1;34m(self, planes, input_point)\u001b[0m\n\u001b[0;32m    131\u001b[0m         \u001b[1;32mtry\u001b[0m\u001b[1;33m:\u001b[0m\u001b[1;33m\u001b[0m\u001b[0m\n\u001b[0;32m    132\u001b[0m             \u001b[0minput_point\u001b[0m \u001b[1;33m=\u001b[0m \u001b[0mnp\u001b[0m\u001b[1;33m.\u001b[0m\u001b[0marray\u001b[0m\u001b[1;33m(\u001b[0m\u001b[0minput_point\u001b[0m\u001b[1;33m)\u001b[0m  \u001b[1;31m# for faster dot product\u001b[0m\u001b[1;33m\u001b[0m\u001b[0m\n\u001b[1;32m--> 133\u001b[1;33m             \u001b[0mprojections\u001b[0m \u001b[1;33m=\u001b[0m \u001b[0mnp\u001b[0m\u001b[1;33m.\u001b[0m\u001b[0mdot\u001b[0m\u001b[1;33m(\u001b[0m\u001b[0mplanes\u001b[0m\u001b[1;33m,\u001b[0m \u001b[0minput_point\u001b[0m\u001b[1;33m)\u001b[0m\u001b[1;33m\u001b[0m\u001b[0m\n\u001b[0m\u001b[0;32m    134\u001b[0m         \u001b[1;32mexcept\u001b[0m \u001b[0mTypeError\u001b[0m \u001b[1;32mas\u001b[0m \u001b[0me\u001b[0m\u001b[1;33m:\u001b[0m\u001b[1;33m\u001b[0m\u001b[0m\n\u001b[0;32m    135\u001b[0m             print(\"\"\"The input point needs to be an array-like object with\n",
        "\u001b[1;31mValueError\u001b[0m: shapes (32,1000) and (2588,1000) not aligned: 1000 (dim 1) != 2588 (dim 0)"
       ]
      }
     ],
     "prompt_number": 36
    },
    {
     "cell_type": "code",
     "collapsed": false,
     "input": [
      "print len(reduced_matrix.getrow(0).indices)"
     ],
     "language": "python",
     "metadata": {},
     "outputs": [
      {
       "output_type": "stream",
       "stream": "stdout",
       "text": [
        "48\n"
       ]
      }
     ],
     "prompt_number": 30
    },
    {
     "cell_type": "code",
     "collapsed": false,
     "input": [
      "Y=[]\n",
      "docs=[]\n",
      "for doc in list(abstract_db.find({},{'abstract':1})):\n",
      "    docs.extend(doc['abstract'])\n",
      "    Y.append(doc['_id'])\n",
      "\n",
      "\n",
      "    "
     ],
     "language": "python",
     "metadata": {},
     "outputs": [],
     "prompt_number": 5
    },
    {
     "cell_type": "code",
     "collapsed": false,
     "input": [
      "\n",
      "vect = HashingVectorizer(non_negative=True)\n",
      "list_of_rows = []\n",
      "for doc in X:\n",
      "    sparse_row = vect.fit_transform([doc])\n",
      "    list_of_rows.append(sparse_row)\n",
      "\n",
      "print vstack(list_of_rows)"
     ],
     "language": "python",
     "metadata": {},
     "outputs": []
    },
    {
     "cell_type": "code",
     "collapsed": false,
     "input": [
      "#online training of vectorizer\n",
      "hash_vect= HashingVectorizer(stop_words='english', ngram_range=(1,3), non_negative=True)\n",
      "list_of_rows = []\n",
      "for doc in docs:\n",
      "    sparse_row = hash_vect.fit_transform([doc])\n",
      "    list_of_rows.append(sparse_row)\n",
      "hash_stack = vstack(list_of_rows)\n",
      "h_transform = TfidfTransformer()\n",
      "hash_matrix = h_transform.fit_transform(hash_stack)"
     ],
     "language": "python",
     "metadata": {},
     "outputs": [],
     "prompt_number": 7
    },
    {
     "cell_type": "code",
     "collapsed": false,
     "input": [
      "h_transform = TfidfTransformer()\n",
      "hash_matrix = h_transform.fit_transform(hash_stack)"
     ],
     "language": "python",
     "metadata": {},
     "outputs": [],
     "prompt_number": 11
    },
    {
     "cell_type": "code",
     "collapsed": false,
     "input": [
      "kn =KNeighborsClassifier(algorithm= 'brute',metric='cosine')\n",
      "kn.fit(abstract_matrix,Y)\n",
      "hkn =KNeighborsClassifier(algorithm= 'brute',metric='cosine')\n",
      "hkn.fit(hash_matrix,Y)"
     ],
     "language": "python",
     "metadata": {},
     "outputs": [
      {
       "metadata": {},
       "output_type": "pyout",
       "prompt_number": 13,
       "text": [
        "KNeighborsClassifier(algorithm='brute', leaf_size=30, metric='cosine',\n",
        "           metric_params=None, n_neighbors=5, p=2, weights='uniform')"
       ]
      }
     ],
     "prompt_number": 13
    },
    {
     "cell_type": "code",
     "collapsed": false,
     "input": [
      "test_tex='Consumption of calorie-containing sugars elicits appetitive behavioral responses and dopamine release in the ventral striatum, even in the absence of sweet-taste transduction machinery. However, it is unclear if such reward-related postingestive effects reflect preabsorptive or postabsorptive events. In support of the importance of postabsorptive glucose detection, we found that, in rat behavioral tests, high concentration glucose solutions administered in the jugular vein were sufficient to condition a side-bias. Additionally, a lower concentration glucose solution conditioned robust behavioral responses when administered in the hepatic-portal, but not the jugular vein. Furthermore, enteric administration of glucose at a concentration that is sufficient to elicit behavioral conditioning resulted in a glycemic profile similar to that observed after administration of the low concentration glucose solution in the hepatic-portal, but not jugular vein. Finally using fast-scan cyclic voltammetry we found that, in accordance with behavioral findings, a low concentration glucose solution caused an increase in spontaneous dopamine release events in the nucleus accumbens shell when administered in the hepatic-portal, but not the jugular vein. These findings demonstrate that the postabsorptive effects of glucose are sufficient for the postingestive behavioral and dopaminergic reward-related responses that result from sugar consumption. Furthermore, glycemia levels in the hepatic-portal venous system contribute more significantly for this effect than systemic glycemia, arguing for the participation of an intra-abdominal visceral sensor for glucose.'"
     ],
     "language": "python",
     "metadata": {},
     "outputs": [],
     "prompt_number": 14
    },
    {
     "cell_type": "code",
     "collapsed": false,
     "input": [
      "foo = abstract_vectorizer.transform(test_tex)\n",
      "h_foo = h_transform.transform(hash_vect.transform(test_tex))"
     ],
     "language": "python",
     "metadata": {},
     "outputs": [],
     "prompt_number": 15
    },
    {
     "cell_type": "code",
     "collapsed": false,
     "input": [
      "results=kn.kneighbors(foo,n_neighbors=15)\n",
      "h_results =hkn.kneighbors(h_foo,n_neighbors=15)"
     ],
     "language": "python",
     "metadata": {},
     "outputs": [],
     "prompt_number": 20
    },
    {
     "cell_type": "code",
     "collapsed": false,
     "input": [
      "print results[1]\n",
      "print\n",
      "print h_results[1]"
     ],
     "language": "python",
     "metadata": {},
     "outputs": [
      {
       "output_type": "stream",
       "stream": "stdout",
       "text": [
        "[[1729 1730 1722 ..., 1737 1736 1719]\n",
        " [1729 1730 1722 ..., 1737 1736 1719]\n",
        " [1729 1730 1722 ..., 1737 1736 1719]\n",
        " ..., \n",
        " [1729 1730 1722 ..., 1737 1736 1719]\n",
        " [1729 1730 1722 ..., 1737 1736 1719]\n",
        " [1729 1730 1722 ..., 1737 1736 1719]]\n",
        "\n",
        "[[1729 1730 1722 ..., 1737 1736 1719]\n",
        " [1729 1730 1722 ..., 1737 1736 1719]\n",
        " [1729 1730 1722 ..., 1737 1736 1719]\n",
        " ..., \n",
        " [1729 1730 1722 ..., 1737 1736 1719]\n",
        " [1729 1730 1722 ..., 1737 1736 1719]\n",
        " [1729 1730 1722 ..., 1737 1736 1719]]\n"
       ]
      }
     ],
     "prompt_number": 21
    },
    {
     "cell_type": "code",
     "collapsed": false,
     "input": [
      "abstract_vectorizer = TfidfVectorizer(stop_words=\"english\", ngram_range=(1,3))\n",
      "abstract_matrix =abstract_vectorizer.fit_transform(docs)\n",
      "#save vectorizer\n",
      "#joblib.dump(abstract_vectorizer,'fit_vectorizer.pkl')\n",
      "#kn =KNeighborsClassifier(algorithm= 'brute',metric='cosine')\n",
      "#kn.fit(abstract_matrix,Y)\n",
      "#save knn\n",
      "#joblib.dump(kn,'abstract_neighbors.pkl')\n",
      "#save y labels\n",
      "#pickle.dump(Y,open(\"knn_ids.pkl\",\"wb\"))"
     ],
     "language": "python",
     "metadata": {},
     "outputs": [],
     "prompt_number": 10
    },
    {
     "cell_type": "code",
     "collapsed": false,
     "input": [
      "import time"
     ],
     "language": "python",
     "metadata": {},
     "outputs": [],
     "prompt_number": 24
    },
    {
     "cell_type": "code",
     "collapsed": false,
     "input": [
      "start = time.time()\n",
      "cosine_pca= KernelPCA(n_components=1000,kernel='cosine')\n",
      "topics = cosine_pca.fit_transform(abstract_matrix)\n",
      "stop =time.time()"
     ],
     "language": "python",
     "metadata": {},
     "outputs": [],
     "prompt_number": 31
    },
    {
     "cell_type": "code",
     "collapsed": false,
     "input": [
      "print start-stop"
     ],
     "language": "python",
     "metadata": {},
     "outputs": [
      {
       "output_type": "stream",
       "stream": "stdout",
       "text": [
        "-14.0195150375\n"
       ]
      }
     ],
     "prompt_number": 32
    },
    {
     "cell_type": "code",
     "collapsed": false,
     "input": [
      "start = time.time()\n",
      "cosine_pca= TruncatedSVD(n_components=100)\n",
      "topics = cosine_pca.fit_transform(abstract_matrix)\n",
      "stop =time.time()"
     ],
     "language": "python",
     "metadata": {},
     "outputs": [],
     "prompt_number": 29
    },
    {
     "cell_type": "code",
     "collapsed": false,
     "input": [
      "print start-stop"
     ],
     "language": "python",
     "metadata": {},
     "outputs": [
      {
       "output_type": "stream",
       "stream": "stdout",
       "text": [
        "-24.7120440006\n"
       ]
      }
     ],
     "prompt_number": 30
    },
    {
     "cell_type": "code",
     "collapsed": false,
     "input": [
      "import sys\n",
      "print sys.getsizeof(docs), len(docs)\n",
      "tota_size=0\n",
      "for doc in docs:\n",
      "    tota_size+= sys.getsizeof(doc)\n",
      "print tota_size"
     ],
     "language": "python",
     "metadata": {},
     "outputs": [
      {
       "output_type": "stream",
       "stream": "stdout",
       "text": [
        "21056 2588\n",
        "19413796\n"
       ]
      }
     ],
     "prompt_number": 45
    },
    {
     "cell_type": "code",
     "collapsed": true,
     "input": [
      "#topic_kn=KNeighborsClassifier(algorithm= 'brute',metric='cosine')\n",
      "#topic_kn.fit(topics,Y)"
     ],
     "language": "python",
     "metadata": {},
     "outputs": [
      {
       "metadata": {},
       "output_type": "pyout",
       "prompt_number": 37,
       "text": [
        "KNeighborsClassifier(algorithm='brute', leaf_size=30, metric='cosine',\n",
        "           metric_params=None, n_neighbors=5, p=2, weights='uniform')"
       ]
      }
     ],
     "prompt_number": 37
    },
    {
     "cell_type": "code",
     "collapsed": false,
     "input": [
      "#joblib.dump(cosine_pca,'cosine_pca.pkl')\n",
      "#joblib.dump(topic_kn,'topic_kn.pkl')"
     ],
     "language": "python",
     "metadata": {},
     "outputs": [
      {
       "metadata": {},
       "output_type": "pyout",
       "prompt_number": 38,
       "text": [
        "['topic_kn.pkl',\n",
        " 'topic_kn.pkl_01.npy',\n",
        " 'topic_kn.pkl_02.npy',\n",
        " 'topic_kn.pkl_03.npy']"
       ]
      }
     ],
     "prompt_number": 38
    },
    {
     "cell_type": "code",
     "collapsed": false,
     "input": [
      "t_svd = TruncatedSVD(n_components=100)\n",
      "t_topics = t_svd.fit_transform(abstract_matrix)\n"
     ],
     "language": "python",
     "metadata": {},
     "outputs": [],
     "prompt_number": 8
    },
    {
     "cell_type": "code",
     "collapsed": false,
     "input": [
      "t_kn =KNeighborsClassifier(algorithm= 'brute',metric='cosine')\n",
      "t_kn.fit(t_topics,Y)\n",
      "joblib.dump(t_svd,'t_svd.pkl')\n",
      "joblib.dump(t_kn,'t_kn.pkl')"
     ],
     "language": "python",
     "metadata": {},
     "outputs": [
      {
       "metadata": {},
       "output_type": "pyout",
       "prompt_number": 9,
       "text": [
        "['t_kn.pkl', 't_kn.pkl_01.npy', 't_kn.pkl_02.npy', 't_kn.pkl_03.npy']"
       ]
      }
     ],
     "prompt_number": 9
    },
    {
     "cell_type": "code",
     "collapsed": false,
     "input": [
      "results=kn.kneighbors(x,n_neighbors=5)\n",
      "results[1][0][1]\n",
      "for i in results[1][0]:\n",
      "    print type(Y[i])"
     ],
     "language": "python",
     "metadata": {},
     "outputs": [
      {
       "output_type": "stream",
       "stream": "stdout",
       "text": [
        "<class 'bson.objectid.ObjectId'>\n",
        "<class 'bson.objectid.ObjectId'>\n",
        "<class 'bson.objectid.ObjectId'>\n",
        "<class 'bson.objectid.ObjectId'>\n",
        "<class 'bson.objectid.ObjectId'>\n"
       ]
      }
     ],
     "prompt_number": 25
    },
    {
     "cell_type": "code",
     "collapsed": false,
     "input": [
      "abstract_2015_db.find_one({\"_id\":ObjectId('54f613e9387cca7aa63d7230')})['abstract']"
     ],
     "language": "python",
     "metadata": {},
     "outputs": [
      {
       "metadata": {},
       "output_type": "pyout",
       "prompt_number": 24,
       "text": [
        "[u'\\nThe plant hormone abscisic acid (ABA) is present and active in humans, regulating glucose homeostasis. In normal glucose tolerant (NGT) human subjects, plasma ABA (ABAp) increases 5-fold after an oral glucose load. The aim of this study was to assess the effect of an oral glucose load on ABAp in type 2 diabetes (T2D) subjects. We chose two sub-groups of patients who underwent an oral glucose load for diagnostic purposes: i) 9 treatment-naive T2D subjects, and ii) 9 pregnant women with gestational diabetes (GDM), who underwent the glucose load before and 8\\u201312 weeks after childbirth. Each group was compared with matched NGT controls. The increase of ABAp in response to glucose was found to be abrogated in T2D patients compared to NGT controls. A similar result was observed in the women with GDM compared to pregnant NGT controls; 8\\u201312 weeks after childbirth, however, fasting ABAp and ABAp response to glucose were restored to normal in the GDM subjects, along with glucose tolerance. We also retrospectively compared fasting ABAp before and after bilio-pancreatic diversion (BPD) in obese, but not diabetic subjects, and in obese T2D patients, in which BPD resulted in the resolution of diabetes. Compared to pre-BPD values, basal ABAp significantly increased 1 month after BPD in T2D as well as in NGT subjects, in parallel with a reduction of fasting plasma glucose. These results indicate an impaired hyperglycemia-induced ABAp increase in T2D and in GDM and suggest a beneficial effect of elevated ABAp on glycemic control.\\n']"
       ]
      }
     ],
     "prompt_number": 24
    },
    {
     "cell_type": "code",
     "collapsed": false,
     "input": [
      "results"
     ],
     "language": "python",
     "metadata": {},
     "outputs": [
      {
       "metadata": {},
       "output_type": "pyout",
       "prompt_number": 22,
       "text": [
        "(array([[ 0.84259396,  0.91294923,  0.91953584,  0.92759215,  0.93725631]]),\n",
        " array([[1564, 2533,  579,  577, 1244]]))"
       ]
      }
     ],
     "prompt_number": 22
    },
    {
     "cell_type": "code",
     "collapsed": false,
     "input": [
      "def search(abstract_text,N=10,method='tfidf_e'):\n",
      "    \"\"\"returns the N closets documents to your abstract text. Method speciifes what metric and space you search.\"\"\" \n",
      "    vectorize =  abstract_vectorizer\n",
      "    "
     ],
     "language": "python",
     "metadata": {},
     "outputs": []
    },
    {
     "cell_type": "code",
     "collapsed": false,
     "input": [
      "kn =KNeighborsClassifier()\n",
      "kn.fit(stuff,Y)"
     ],
     "language": "python",
     "metadata": {},
     "outputs": [
      {
       "metadata": {},
       "output_type": "pyout",
       "prompt_number": 21,
       "text": [
        "KNeighborsClassifier(algorithm='auto', leaf_size=30, metric='minkowski',\n",
        "           metric_params=None, n_neighbors=5, p=2, weights='uniform')"
       ]
      }
     ],
     "prompt_number": 21
    },
    {
     "cell_type": "code",
     "collapsed": false,
     "input": [
      "print X[1]"
     ],
     "language": "python",
     "metadata": {},
     "outputs": [
      {
       "output_type": "stream",
       "stream": "stdout",
       "text": [
        "  (0, 760247)\t0.0455447371169\n",
        "  (0, 760182)\t0.0239533303482\n",
        "  (0, 760110)\t0.0226165684359\n",
        "  (0, 757263)\t0.0455447371169\n",
        "  (0, 757262)\t0.0455447371169\n",
        "  (0, 757261)\t0.0455447371169\n",
        "  (0, 757260)\t0.0455447371169\n",
        "  (0, 757257)\t0.0455447371169\n",
        "  (0, 757256)\t0.0455447371169\n",
        "  (0, 757255)\t0.0910894742338\n",
        "  (0, 757254)\t0.0455447371169\n",
        "  (0, 757253)\t0.0455447371169\n",
        "  (0, 757248)\t0.0455447371169\n",
        "  (0, 757247)\t0.0455447371169\n",
        "  (0, 757246)\t0.0455447371169\n",
        "  (0, 757245)\t0.0455447371169\n",
        "  (0, 757244)\t0.283039238242\n",
        "  (0, 756796)\t0.0455447371169\n",
        "  (0, 756795)\t0.0455447371169\n",
        "  (0, 756794)\t0.0865665563822\n",
        "  (0, 756704)\t0.0455447371169\n",
        "  (0, 756701)\t0.0416787475483\n",
        "  (0, 756578)\t0.0686935310905\n",
        "  (0, 741241)\t0.0455447371169\n",
        "  (0, 741240)\t0.0455447371169\n",
        "  :\t:\n",
        "  (0, 108338)\t0.0455447371169\n",
        "  (0, 108329)\t0.0455447371169\n",
        "  (0, 108328)\t0.0455447371169\n",
        "  (0, 108327)\t0.0833574950967\n",
        "  (0, 99413)\t0.0455447371169\n",
        "  (0, 99412)\t0.0455447371169\n",
        "  (0, 99350)\t0.0291222936619\n",
        "  (0, 89951)\t0.0455447371169\n",
        "  (0, 89950)\t0.0455447371169\n",
        "  (0, 89888)\t0.0308255427044\n",
        "  (0, 54421)\t0.0455447371169\n",
        "  (0, 54420)\t0.0455447371169\n",
        "  (0, 54419)\t0.0432832781911\n",
        "  (0, 54400)\t0.0455447371169\n",
        "  (0, 54399)\t0.0455447371169\n",
        "  (0, 54390)\t0.0394172886225\n",
        "  (0, 48474)\t0.0455447371169\n",
        "  (0, 48472)\t0.0432832781911\n",
        "  (0, 48469)\t0.0394172886225\n",
        "  (0, 35652)\t0.0455447371169\n",
        "  (0, 35651)\t0.0455447371169\n",
        "  (0, 35493)\t0.02469809421\n",
        "  (0, 31054)\t0.0455447371169\n",
        "  (0, 31053)\t0.0455447371169\n",
        "  (0, 31021)\t0.0378127579798\n"
       ]
      }
     ],
     "prompt_number": 46
    },
    {
     "cell_type": "code",
     "collapsed": false,
     "input": [
      "results[1][0][1]\n",
      "for i in results[1][0]:\n",
      "    print Y[i]"
     ],
     "language": "python",
     "metadata": {},
     "outputs": [
      {
       "output_type": "stream",
       "stream": "stdout",
       "text": [
        "54f6137f387cca7aa63d6e67\n",
        "54f613e9387cca7aa63d7230\n",
        "54f6125b387cca7aa63d6a8d\n",
        "54f6125b387cca7aa63d6a8a\n",
        "54f61339387cca7aa63d6d27\n"
       ]
      }
     ],
     "prompt_number": 31
    },
    {
     "cell_type": "code",
     "collapsed": false,
     "input": [
      "abstract_2015_db.find_one({\"_id\":ObjectId('54f6137f387cca7aa63d6e67')})['abstract']"
     ],
     "language": "python",
     "metadata": {},
     "outputs": [
      {
       "metadata": {},
       "output_type": "pyout",
       "prompt_number": 45,
       "text": [
        "[u'Objectives: The placental transfer of nutrients is influenced by maternal metabolic state, placenta function and fetal demands. Human in vivo studies of this interplay are scarce and challenging. We aimed to establish a method to study placental nutrient transfer in humans. Focusing on glucose, we tested a hypothesis that maternal glucose concentrations and uteroplacental arterio-venous difference (reflecting maternal supply) determines the fetal venous-arterial glucose difference (reflecting fetal consumption). Methods: Cross-sectional in vivo study of 40 healthy women with uncomplicated term pregnancies undergoing planned caesarean section. Glucose and insulin were measured in plasma from maternal and fetal sides of the placenta, at the incoming (radial artery and umbilical vein) and outgoing vessels (uterine vein and umbilical artery). Results: There were significant mean (SD) uteroplacental arterio-venous 0.29 (0.23) mmol/L and fetal venous-arterial 0.38 (0.31) mmol/L glucose differences. The transplacental maternal-fetal glucose gradient was 1.22 (0.42) mmol/L. The maternal arterial glucose concentration was correlated to the fetal venous glucose concentration (r = 0.86, p<0.001), but not to the fetal venous-arterial glucose difference. The uteroplacental arterio-venous glucose difference was neither correlated to the level of glucose in the umbilical vein, nor fetal venous-arterial glucose difference. The maternal-fetal gradient was correlated to fetal venous-arterial glucose difference (r = 0.8, p<0.001) and the glucose concentration in the umbilical artery (r = \\u22120.45, p = 0.004). Glucose and insulin concentrations were correlated in the mother (r = 0.52, p = 0.001), but not significantly in the fetus. We found no significant correlation between maternal and fetal insulin values. Conclusions: We did not find a relation between indicators of maternal glucose supply and the fetal venous-arterial glucose difference. Our findings indicate that the maternal-fetal glucose gradient is significantly influenced by the fetal venous-arterial difference and not merely dependent on maternal glucose concentration or the arterio-venous difference on the maternal side of the placenta. ']"
       ]
      }
     ],
     "prompt_number": 45
    },
    {
     "cell_type": "code",
     "collapsed": false,
     "input": [
      "docs=[]\n",
      "for doc in list(abstract_2015_db.find({},{'abstract':1})):\n",
      "    docs.extend(doc['abstract'])"
     ],
     "language": "python",
     "metadata": {},
     "outputs": [],
     "prompt_number": 19
    },
    {
     "cell_type": "code",
     "collapsed": false,
     "input": [
      "stuff =clf.transform(docs)"
     ],
     "language": "python",
     "metadata": {},
     "outputs": [],
     "prompt_number": 20
    },
    {
     "cell_type": "code",
     "collapsed": false,
     "input": [
      "abstract_2015_db.find({},{'abstract':1}).next()"
     ],
     "language": "python",
     "metadata": {},
     "outputs": [
      {
       "metadata": {},
       "output_type": "pyout",
       "prompt_number": 3,
       "text": [
        "{u'_id': ObjectId('54f611db387cca7aa63d684c'),\n",
        " u'abstract': [u'\\nMost of the reproductive modes of frogs include an exotrophic tadpole, but a number of taxa have some form of endotrophic development that lacks a feeding tadpole stage. The dicroglossid frog genus Limnonectes ranges from China south into Indonesia. The breeding biologies of the approximately 60 described species display an unusual diversity that range from exotrophic tadpoles to endotrophic development in terrestrial nests. There have been mentions of oviductal production of typical, exotrophic tadpoles in an undescribed species of Limnonectes from Sulawesi, Indonesia. Here we examine newly collected specimens of this species, now described as L. larvaepartus and present the first substantial report on this unique breeding mode. Typical exotrophic tadpoles that are retained to an advanced developmental stage in the oviducts of a female frog are birthed into slow-flowing streams or small, non-flowing pools adjacent to the streams.\\n']}"
       ]
      }
     ],
     "prompt_number": 3
    },
    {
     "cell_type": "code",
     "collapsed": false,
     "input": [
      "bar"
     ],
     "language": "python",
     "metadata": {},
     "outputs": [
      {
       "metadata": {},
       "output_type": "pyout",
       "prompt_number": 56,
       "text": [
        "<2588x767976 sparse matrix of type '<type 'numpy.float64'>'\n",
        "\twith 1101013 stored elements in Compressed Sparse Row format>"
       ]
      }
     ],
     "prompt_number": 56
    },
    {
     "cell_type": "code",
     "collapsed": false,
     "input": [
      "abstract_vectorizer = TfidfVectorizer(stop_words=\"english\", ngram_range=(1,3))\n",
      "bar = abstract_vectorizer.fit_transform(docs)"
     ],
     "language": "python",
     "metadata": {},
     "outputs": [],
     "prompt_number": 50
    },
    {
     "cell_type": "code",
     "collapsed": false,
     "input": [
      "pickle.dump(bar,'tfidf_2015.pkl')"
     ],
     "language": "python",
     "metadata": {},
     "outputs": [
      {
       "ename": "AttributeError",
       "evalue": "'str' object has no attribute 'write'",
       "output_type": "pyerr",
       "traceback": [
        "\u001b[1;31m---------------------------------------------------------------------------\u001b[0m\n\u001b[1;31mAttributeError\u001b[0m                            Traceback (most recent call last)",
        "\u001b[1;32m<ipython-input-55-21d4c078015c>\u001b[0m in \u001b[0;36m<module>\u001b[1;34m()\u001b[0m\n\u001b[1;32m----> 1\u001b[1;33m \u001b[0mpickle\u001b[0m\u001b[1;33m.\u001b[0m\u001b[0mdump\u001b[0m\u001b[1;33m(\u001b[0m\u001b[0mbar\u001b[0m\u001b[1;33m,\u001b[0m\u001b[1;34m'tfidf_2015.pkl'\u001b[0m\u001b[1;33m)\u001b[0m\u001b[1;33m\u001b[0m\u001b[0m\n\u001b[0m",
        "\u001b[1;32m/usr/lib/python2.7/pickle.pyc\u001b[0m in \u001b[0;36mdump\u001b[1;34m(obj, file, protocol)\u001b[0m\n\u001b[0;32m   1368\u001b[0m \u001b[1;33m\u001b[0m\u001b[0m\n\u001b[0;32m   1369\u001b[0m \u001b[1;32mdef\u001b[0m \u001b[0mdump\u001b[0m\u001b[1;33m(\u001b[0m\u001b[0mobj\u001b[0m\u001b[1;33m,\u001b[0m \u001b[0mfile\u001b[0m\u001b[1;33m,\u001b[0m \u001b[0mprotocol\u001b[0m\u001b[1;33m=\u001b[0m\u001b[0mNone\u001b[0m\u001b[1;33m)\u001b[0m\u001b[1;33m:\u001b[0m\u001b[1;33m\u001b[0m\u001b[0m\n\u001b[1;32m-> 1370\u001b[1;33m     \u001b[0mPickler\u001b[0m\u001b[1;33m(\u001b[0m\u001b[0mfile\u001b[0m\u001b[1;33m,\u001b[0m \u001b[0mprotocol\u001b[0m\u001b[1;33m)\u001b[0m\u001b[1;33m.\u001b[0m\u001b[0mdump\u001b[0m\u001b[1;33m(\u001b[0m\u001b[0mobj\u001b[0m\u001b[1;33m)\u001b[0m\u001b[1;33m\u001b[0m\u001b[0m\n\u001b[0m\u001b[0;32m   1371\u001b[0m \u001b[1;33m\u001b[0m\u001b[0m\n\u001b[0;32m   1372\u001b[0m \u001b[1;32mdef\u001b[0m \u001b[0mdumps\u001b[0m\u001b[1;33m(\u001b[0m\u001b[0mobj\u001b[0m\u001b[1;33m,\u001b[0m \u001b[0mprotocol\u001b[0m\u001b[1;33m=\u001b[0m\u001b[0mNone\u001b[0m\u001b[1;33m)\u001b[0m\u001b[1;33m:\u001b[0m\u001b[1;33m\u001b[0m\u001b[0m\n",
        "\u001b[1;32m/usr/lib/python2.7/pickle.pyc\u001b[0m in \u001b[0;36m__init__\u001b[1;34m(self, file, protocol)\u001b[0m\n\u001b[0;32m    201\u001b[0m         \u001b[1;32melif\u001b[0m \u001b[1;32mnot\u001b[0m \u001b[1;36m0\u001b[0m \u001b[1;33m<=\u001b[0m \u001b[0mprotocol\u001b[0m \u001b[1;33m<=\u001b[0m \u001b[0mHIGHEST_PROTOCOL\u001b[0m\u001b[1;33m:\u001b[0m\u001b[1;33m\u001b[0m\u001b[0m\n\u001b[0;32m    202\u001b[0m             \u001b[1;32mraise\u001b[0m \u001b[0mValueError\u001b[0m\u001b[1;33m(\u001b[0m\u001b[1;34m\"pickle protocol must be <= %d\"\u001b[0m \u001b[1;33m%\u001b[0m \u001b[0mHIGHEST_PROTOCOL\u001b[0m\u001b[1;33m)\u001b[0m\u001b[1;33m\u001b[0m\u001b[0m\n\u001b[1;32m--> 203\u001b[1;33m         \u001b[0mself\u001b[0m\u001b[1;33m.\u001b[0m\u001b[0mwrite\u001b[0m \u001b[1;33m=\u001b[0m \u001b[0mfile\u001b[0m\u001b[1;33m.\u001b[0m\u001b[0mwrite\u001b[0m\u001b[1;33m\u001b[0m\u001b[0m\n\u001b[0m\u001b[0;32m    204\u001b[0m         \u001b[0mself\u001b[0m\u001b[1;33m.\u001b[0m\u001b[0mmemo\u001b[0m \u001b[1;33m=\u001b[0m \u001b[1;33m{\u001b[0m\u001b[1;33m}\u001b[0m\u001b[1;33m\u001b[0m\u001b[0m\n\u001b[0;32m    205\u001b[0m         \u001b[0mself\u001b[0m\u001b[1;33m.\u001b[0m\u001b[0mproto\u001b[0m \u001b[1;33m=\u001b[0m \u001b[0mint\u001b[0m\u001b[1;33m(\u001b[0m\u001b[0mprotocol\u001b[0m\u001b[1;33m)\u001b[0m\u001b[1;33m\u001b[0m\u001b[0m\n",
        "\u001b[1;31mAttributeError\u001b[0m: 'str' object has no attribute 'write'"
       ]
      }
     ],
     "prompt_number": 55
    },
    {
     "cell_type": "code",
     "collapsed": false,
     "input": [
      "abstract_vectorizer"
     ],
     "language": "python",
     "metadata": {},
     "outputs": [
      {
       "metadata": {},
       "output_type": "pyout",
       "prompt_number": 54,
       "text": [
        "TfidfVectorizer(analyzer=u'word', binary=False, charset=None,\n",
        "        charset_error=None, decode_error=u'strict',\n",
        "        dtype=<type 'numpy.int64'>, encoding=u'utf-8', input=u'content',\n",
        "        lowercase=True, max_df=1.0, max_features=None, min_df=1,\n",
        "        ngram_range=(1, 3), norm=u'l2', preprocessor=None, smooth_idf=True,\n",
        "        stop_words='english', strip_accents=None, sublinear_tf=False,\n",
        "        token_pattern=u'(?u)\\\\b\\\\w\\\\w+\\\\b', tokenizer=None, use_idf=True,\n",
        "        vocabulary=None)"
       ]
      }
     ],
     "prompt_number": 54
    },
    {
     "cell_type": "markdown",
     "metadata": {},
     "source": [
      "http://stackoverflow.com/questions/18089598/is-there-a-way-to-store-python-objects-directly-in-mongodb-without-serializing-t"
     ]
    },
    {
     "cell_type": "code",
     "collapsed": false,
     "input": [
      "for doc in list(abstract_2015_db.find({},{'abstract':1})):\n",
      "    Vector = abstract_vectorizer.transform(doc['abstract'])\n",
      "    abstract_2015_db.update(doc,\n",
      "                            {\"$set\":{\"vector\":Vector}},False,True)"
     ],
     "language": "python",
     "metadata": {},
     "outputs": [
      {
       "ename": "InvalidDocument",
       "evalue": "Cannot encode object: <1x767976 sparse matrix of type '<type 'numpy.float64'>'\n\twith 222 stored elements in Compressed Sparse Row format>",
       "output_type": "pyerr",
       "traceback": [
        "\u001b[1;31m---------------------------------------------------------------------------\u001b[0m\n\u001b[1;31mInvalidDocument\u001b[0m                           Traceback (most recent call last)",
        "\u001b[1;32m<ipython-input-48-64a1f0f0c19e>\u001b[0m in \u001b[0;36m<module>\u001b[1;34m()\u001b[0m\n\u001b[0;32m      2\u001b[0m     \u001b[0mVector\u001b[0m \u001b[1;33m=\u001b[0m \u001b[0mabstract_vectorizer\u001b[0m\u001b[1;33m.\u001b[0m\u001b[0mtransform\u001b[0m\u001b[1;33m(\u001b[0m\u001b[0mdoc\u001b[0m\u001b[1;33m[\u001b[0m\u001b[1;34m'abstract'\u001b[0m\u001b[1;33m]\u001b[0m\u001b[1;33m)\u001b[0m\u001b[1;33m\u001b[0m\u001b[0m\n\u001b[0;32m      3\u001b[0m     abstract_2015_db.update(doc,\n\u001b[1;32m----> 4\u001b[1;33m                             {\"$set\":{\"vector\":Vector}},False,True)\n\u001b[0m",
        "\u001b[1;32m/usr/local/lib/python2.7/dist-packages/pymongo/collection.pyc\u001b[0m in \u001b[0;36mupdate\u001b[1;34m(self, spec, document, upsert, manipulate, safe, multi, check_keys, **kwargs)\u001b[0m\n\u001b[0;32m    549\u001b[0m             results = message._do_batched_write_command(\n\u001b[0;32m    550\u001b[0m                 \u001b[0mself\u001b[0m\u001b[1;33m.\u001b[0m\u001b[0mdatabase\u001b[0m\u001b[1;33m.\u001b[0m\u001b[0mname\u001b[0m \u001b[1;33m+\u001b[0m \u001b[1;34m'.$cmd'\u001b[0m\u001b[1;33m,\u001b[0m \u001b[0m_UPDATE\u001b[0m\u001b[1;33m,\u001b[0m \u001b[0mcommand\u001b[0m\u001b[1;33m,\u001b[0m\u001b[1;33m\u001b[0m\u001b[0m\n\u001b[1;32m--> 551\u001b[1;33m                 docs, check_keys, self.uuid_subtype, client)\n\u001b[0m\u001b[0;32m    552\u001b[0m             \u001b[0m_check_write_command_response\u001b[0m\u001b[1;33m(\u001b[0m\u001b[0mresults\u001b[0m\u001b[1;33m)\u001b[0m\u001b[1;33m\u001b[0m\u001b[0m\n\u001b[0;32m    553\u001b[0m \u001b[1;33m\u001b[0m\u001b[0m\n",
        "\u001b[1;31mInvalidDocument\u001b[0m: Cannot encode object: <1x767976 sparse matrix of type '<type 'numpy.float64'>'\n\twith 222 stored elements in Compressed Sparse Row format>"
       ]
      }
     ],
     "prompt_number": 48
    },
    {
     "cell_type": "code",
     "collapsed": false,
     "input": [
      "joblib.dump(abstract_vectorizer,'fit_vectorizer.pkl')"
     ],
     "language": "python",
     "metadata": {},
     "outputs": [
      {
       "metadata": {},
       "output_type": "pyout",
       "prompt_number": 20,
       "text": [
        "['fit_vectorizer.pkl',\n",
        " 'fit_vectorizer.pkl_01.npy',\n",
        " 'fit_vectorizer.pkl_02.npy']"
       ]
      }
     ],
     "prompt_number": 20
    },
    {
     "cell_type": "code",
     "collapsed": false,
     "input": [
      "len(abstract_vectorizer.get_feature_names())"
     ],
     "language": "python",
     "metadata": {},
     "outputs": [
      {
       "metadata": {},
       "output_type": "pyout",
       "prompt_number": 18,
       "text": [
        "767976"
       ]
      }
     ],
     "prompt_number": 18
    },
    {
     "cell_type": "code",
     "collapsed": false,
     "input": [
      "clf=joblib.load('fit_vectorizer.pkl')"
     ],
     "language": "python",
     "metadata": {},
     "outputs": [],
     "prompt_number": 6
    },
    {
     "cell_type": "code",
     "collapsed": false,
     "input": [
      "x= abstract_vectorizer.transform(['Consumption of calorie-containing sugars elicits appetitive behavioral responses and dopamine release in the ventral striatum, even in the absence of sweet-taste transduction machinery. However, it is unclear if such reward-related postingestive effects reflect preabsorptive or postabsorptive events. In support of the importance of postabsorptive glucose detection, we found that, in rat behavioral tests, high concentration glucose solutions administered in the jugular vein were sufficient to condition a side-bias. Additionally, a lower concentration glucose solution conditioned robust behavioral responses when administered in the hepatic-portal, but not the jugular vein. Furthermore, enteric administration of glucose at a concentration that is sufficient to elicit behavioral conditioning resulted in a glycemic profile similar to that observed after administration of the low concentration glucose solution in the hepatic-portal, but not jugular vein. Finally using fast-scan cyclic voltammetry we found that, in accordance with behavioral findings, a low concentration glucose solution caused an increase in spontaneous dopamine release events in the nucleus accumbens shell when administered in the hepatic-portal, but not the jugular vein. These findings demonstrate that the postabsorptive effects of glucose are sufficient for the postingestive behavioral and dopaminergic reward-related responses that result from sugar consumption. Furthermore, glycemia levels in the hepatic-portal venous system contribute more significantly for this effect than systemic glycemia, arguing for the participation of an intra-abdominal visceral sensor for glucose.'])"
     ],
     "language": "python",
     "metadata": {},
     "outputs": [],
     "prompt_number": 20
    },
    {
     "cell_type": "code",
     "collapsed": false,
     "input": [],
     "language": "python",
     "metadata": {},
     "outputs": []
    }
   ],
   "metadata": {}
  }
 ]
}