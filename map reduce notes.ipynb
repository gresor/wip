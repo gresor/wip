{
 "metadata": {
  "name": "",
  "signature": "sha256:c4793386ae293e6355b9e7672c32fe5fb12265112abf6155f9773a3c4215e2bf"
 },
 "nbformat": 3,
 "nbformat_minor": 0,
 "worksheets": [
  {
   "cells": [
    {
     "cell_type": "code",
     "collapsed": false,
     "input": [
      "#!/usr/bin/env python\n",
      "import sys\n",
      "\n",
      "from textblob import TextBlob\n",
      "import math\n",
      "\n",
      "for line in sys.stdin:\n",
      "    file_name = os.environ[\"map_input_file\"].encode(\"utf-8\")\n",
      "    line =line.decode(\"utf-8\")\n",
      "    line=line.lower()\n",
      "    words = TextBlob(line).words\n",
      "    for word in words:\n",
      "        word = word.encode(\"utf-8\")\n",
      "        print \"%s\\t%s\\t%i\"%(word,file_name,1)"
     ],
     "language": "python",
     "metadata": {},
     "outputs": [],
     "prompt_number": 1
    },
    {
     "cell_type": "code",
     "collapsed": false,
     "input": [
      "#!/usr/bin/env python\n",
      "import sys\n",
      "\n",
      "current_word =None\n",
      "current_count =0\n",
      "current_file =None\n",
      "word =None \n",
      "\n",
      "\n",
      "for line in sys.stdin:\n",
      "    word, file_name, count = line.split(\"\\t\")\n",
      "    word=word.decode(\"utf-8\")\n",
      "    file_name.decode(\"utf-8\")\n",
      "    count = int(count)\n",
      "    \n",
      "    if (word == current_word) and (file_name == current_file):\n",
      "        current_count += 1\n",
      "    else:\n",
      "        if current_word:\n",
      "            print \"%s\\t%i\" % (current_word.encode(\"utf-8\"), current_count)\n",
      "        current_word = word\n",
      "        current_file = file_name\n",
      "        current_count = count\n",
      "if word == current_word:\n",
      "    print \"%s\\t%i\" % (current_word.encode(\"utf-8\"), current_count)"
     ],
     "language": "python",
     "metadata": {},
     "outputs": []
    }
   ],
   "metadata": {}
  }
 ]
}